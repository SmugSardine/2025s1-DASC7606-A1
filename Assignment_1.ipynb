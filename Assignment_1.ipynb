{
 "cells": [
  {
   "cell_type": "markdown",
   "metadata": {},
   "source": [
    "Assignmnet 1: Image Classification with Neural Networks\n",
    "=====================\n",
    "\n",
    "Data in Deep Learning\n",
    "----------------\n",
    "\n",
    "Generally, when you have to deal with image, text, audio or video data,\n",
    "you can use standard python packages that load data into a numpy array.\n",
    "Then you can convert this array into a ``torch.*Tensor``.\n",
    "\n",
    "-  For images, packages such as Pillow, OpenCV are useful\n",
    "-  For audio, packages such as scipy and librosa\n",
    "-  For text, either raw Python or Cython based loading, or NLTK and\n",
    "   SpaCy are useful\n",
    "\n",
    "Specifically for vision, we have created a package called\n",
    "``torchvision``, that has data loaders for common datasets such as\n",
    "ImageNet, CIFAR10, MNIST, etc. and data transformers for images, viz.,\n",
    "``torchvision.datasets`` and ``torch.utils.data.DataLoader``.\n",
    "\n",
    "This provides a huge convenience and avoids writing boilerplate code.\n",
    "\n",
    "For this assignment, we will use the CIFAR10 dataset.\n",
    "\n",
    "It has the classes: \n",
    "\n",
    "‘airplane’, ‘automobile’, ‘bird’, ‘cat’, ‘deer’,\n",
    "‘dog’, ‘frog’, ‘horse’, ‘ship’, ‘truck’. \n",
    "\n",
    "The images in CIFAR-10 are of size 3x32x32, i.e. 3-channel color images of 32x32 pixels in size.\n",
    "\n",
    "\n",
    "Training an image classifier\n",
    "----------------------------\n",
    "\n",
    "We will do the following steps in order:\n",
    "\n",
    "1. Load and normalize the CIFAR10 training and test datasets using\n",
    "   ``torchvision``\n",
    "2. Define a Convolutional Neural Network\n",
    "3. Define a loss function\n",
    "4. Train the network on the training data\n",
    "5. Test the network on the test data\n",
    "\n",
    "1. Load and normalize CIFAR10\n",
    "\n",
    "\n",
    "Using ``torchvision``, it’s extremely easy to load CIFAR10.\n",
    "\n"
   ]
  },
  {
   "cell_type": "code",
   "execution_count": 1,
   "metadata": {
    "tags": []
   },
   "outputs": [],
   "source": [
    "import torch\n",
    "import torchvision\n",
    "import torchvision.transforms as transforms\n",
    "from torch.utils.tensorboard import SummaryWriter\n",
    "writer = SummaryWriter()"
   ]
  },
  {
   "cell_type": "markdown",
   "metadata": {},
   "source": [
    "## Training on GPU?"
   ]
  },
  {
   "cell_type": "code",
   "execution_count": 2,
   "metadata": {
    "tags": []
   },
   "outputs": [
    {
     "name": "stdout",
     "output_type": "stream",
     "text": [
      "cuda:0\n"
     ]
    }
   ],
   "source": [
    "device = torch.device(\"cuda:0\" if torch.cuda.is_available() else \"cpu\")\n",
    "\n",
    "# Assuming that we are on a CUDA machine, this should print a CUDA device:\n",
    "print(device)"
   ]
  },
  {
   "cell_type": "markdown",
   "metadata": {},
   "source": [
    "The rest of this section assumes that ``device`` is a CUDA device."
   ]
  },
  {
   "cell_type": "markdown",
   "metadata": {},
   "source": [
    "## Define the dataset and dataloader\n",
    "\n",
    "The output of torchvision datasets are PILImage images of range [0, 1].\n",
    "We transform them to Tensors of normalized range [-1, 1].\n",
    "\n"
   ]
  },
  {
   "cell_type": "code",
   "execution_count": 3,
   "metadata": {
    "tags": []
   },
   "outputs": [
    {
     "name": "stdout",
     "output_type": "stream",
     "text": [
      "Files already downloaded and verified\n",
      "Files already downloaded and verified\n",
      "Files already downloaded and verified\n",
      "Files already downloaded and verified\n"
     ]
    }
   ],
   "source": [
    "transform = transforms.Compose(\n",
    "    [transforms.ToTensor(),\n",
    "     transforms.Normalize((0.5, 0.5, 0.5), (0.5, 0.5, 0.5))])\n",
    "\n",
    "batch_size = 64\n",
    "\n",
    "def get_vis_loader():\n",
    "    transform = transforms.Compose(\n",
    "    [transforms.ToTensor(),\n",
    "     transforms.Normalize((0.5, 0.5, 0.5), (0.5, 0.5, 0.5))])\n",
    "\n",
    "    trainset = torchvision.datasets.CIFAR10(root='./data', train=True,\n",
    "                                            download=True, transform=transform)\n",
    "    trainloader = torch.utils.data.DataLoader(trainset, batch_size=4,\n",
    "                                              shuffle=True, num_workers=2)\n",
    "    testset = torchvision.datasets.CIFAR10(root='./data', train=False,\n",
    "                                           download=True, transform=transform)\n",
    "    testloader = torch.utils.data.DataLoader(testset, batch_size=4,\n",
    "                                             shuffle=False, num_workers=2)\n",
    "    return trainloader, testloader\n",
    "\n",
    "def get_train_loader(batch_size, transform):\n",
    "    trainset = torchvision.datasets.CIFAR10(root='./data', train=True,\n",
    "                                            download=True, transform=transform)\n",
    "    trainloader = torch.utils.data.DataLoader(trainset, batch_size=batch_size,\n",
    "                                              shuffle=True, num_workers=2)\n",
    "    return trainloader\n",
    "    \n",
    "def get_test_loader(batch_size, transform):\n",
    "    testset = torchvision.datasets.CIFAR10(root='./data', train=False,\n",
    "                                           download=True, transform=transform)\n",
    "    testloader = torch.utils.data.DataLoader(testset, batch_size=batch_size,\n",
    "                                             shuffle=False, num_workers=2)\n",
    "    return testloader\n",
    "    \n",
    "classes = ('plane', 'car', 'bird', 'cat',\n",
    "           'deer', 'dog', 'frog', 'horse', 'ship', 'truck')\n",
    "\n",
    "vistrainloader, vistestloader = get_vis_loader()\n",
    "trainloader = get_train_loader(batch_size, transform)\n",
    "testloader = get_test_loader(batch_size, transform)"
   ]
  },
  {
   "cell_type": "markdown",
   "metadata": {},
   "source": [
    "## Visualization\n",
    "\n",
    "Let us show some of the training images, for fun.\n",
    "\n"
   ]
  },
  {
   "cell_type": "code",
   "execution_count": 4,
   "metadata": {
    "tags": []
   },
   "outputs": [
    {
     "data": {
      "image/png": "[encoded data removed]",
      "text/plain": [
       "<Figure size 640x480 with 1 Axes>"
      ]
     },
     "metadata": {},
     "output_type": "display_data"
    },
    {
     "name": "stdout",
     "output_type": "stream",
     "text": [
      "  dog plane  deer horse\n"
     ]
    }
   ],
   "source": [
    "import matplotlib.pyplot as plt\n",
    "import numpy as np\n",
    "\n",
    "# functions to show an image\n",
    "def imshow(img):\n",
    "    img = img / 2 + 0.5     # unnormalize\n",
    "    npimg = img.numpy()\n",
    "    plt.imshow(np.transpose(npimg, (1, 2, 0)))\n",
    "    plt.show()\n",
    "\n",
    "# get some random training images\n",
    "dataiter = iter(vistrainloader)\n",
    "images, labels = next(dataiter)\n",
    "\n",
    "# show images\n",
    "imshow(torchvision.utils.make_grid(images))\n",
    "# print labels\n",
    "print(' '.join('%5s' % classes[labels[j]] for j in range(4)))"
   ]
  },
  {
   "cell_type": "markdown",
   "metadata": {},
   "source": [
    "## Define a Neural Network"
   ]
  },
  {
   "cell_type": "code",
   "execution_count": 5,
   "metadata": {
    "tags": []
   },
   "outputs": [],
   "source": [
    "import torch.nn as nn\n",
    "import torch.nn.functional as F\n",
    "\n",
    "class NeuralNet(nn.Module):\n",
    "    def __init__(self):\n",
    "        super().__init__()\n",
    "        self.fc1 = nn.Linear(3*32*32, 128)\n",
    "        self.fc2 = nn.Linear(128, 256)\n",
    "        self.fc3 = nn.Linear(256, 512)\n",
    "        self.fc4 = nn.Linear(512, 10)\n",
    "\n",
    "    def forward(self, x):\n",
    "        x = torch.flatten(x, 1) # flatten all dimensions except batch\n",
    "        x = F.relu(self.fc1(x))\n",
    "        x = F.relu(self.fc2(x))\n",
    "        x = F.relu(self.fc3(x))\n",
    "        x = self.fc4(x)\n",
    "        return x\n",
    "\n",
    "fc_net = NeuralNet()"
   ]
  },
  {
   "cell_type": "markdown",
   "metadata": {},
   "source": [
    "## Define a Loss function and optimizer\n",
    "\n",
    "Let's use a Classification Cross-Entropy loss and SGD with momentum.\n",
    "\n"
   ]
  },
  {
   "cell_type": "code",
   "execution_count": 6,
   "metadata": {
    "tags": []
   },
   "outputs": [],
   "source": [
    "import torch.optim as optim\n",
    "\n",
    "def get_optimizer(net, lr=0.01,m=0.9):\n",
    "    optimizer = optim.SGD(net.parameters(), lr=lr, momentum=m)\n",
    "    return optimizer\n",
    "\n",
    "def accuracy(output, target):\n",
    "    # get the index of the max log-probability\n",
    "    pred = output.max(1, keepdim=True)[1]\n",
    "    return pred.eq(target.view_as(pred)).float().mean()\n",
    "\n",
    "criterion = nn.CrossEntropyLoss()\n",
    "optimizer = get_optimizer(fc_net, 0.01)"
   ]
  },
  {
   "cell_type": "markdown",
   "metadata": {},
   "source": [
    "## Define training code"
   ]
  },
  {
   "cell_type": "code",
   "execution_count": 31,
   "metadata": {
    "tags": []
   },
   "outputs": [],
   "source": [
    "def forward_step(net, inputs, labels):\n",
    "    outputs = net(inputs)\n",
    "    loss = criterion(outputs, labels)\n",
    "    return outputs, loss, labels\n",
    "\n",
    "\n",
    "def train(net, loader, optimizer, max_epoch,tensorboard=True):\n",
    "    net.to(device)\n",
    "    net.train()\n",
    "    N = len(loader)\n",
    "    print_interval = (N // 8 // 100 + 1) * 100\n",
    "    for epoch in range(max_epoch):  # loop over the dataset multiple times\n",
    "        running_loss = 0.0\n",
    "        running_acc = 0.0\n",
    "        for i, data in enumerate(loader, 0):\n",
    "            # get the inputs; data is a list of [inputs, labels]\n",
    "            images, labels = data[0].to(device), data[1].to(device) \n",
    "\n",
    "            # zero the parameter gradients\n",
    "            optimizer.zero_grad()\n",
    "\n",
    "            # forward + backward + optimize\n",
    "            outputs, loss, labels = forward_step(net, images, labels)\n",
    "            loss.backward()\n",
    "            optimizer.step()\n",
    "\n",
    "            # print statistics\n",
    "            running_loss += loss.item()\n",
    "            running_acc += accuracy(outputs, labels).item()\n",
    "            if (i + 1) % print_interval == 0:\n",
    "                print('Epoch: [%d / %d], batches: [%d / %d], loss: %.3f, acc: %.2f' %\n",
    "                      (epoch + 1, max_epoch, i + 1, N, \n",
    "                       running_loss / print_interval, 100 * running_acc / print_interval))\n",
    "                \n",
    "                if tensorboard: writer.add_scalar(\"Loss/train\", running_loss, epoch+1) # tensorboard\n",
    "\n",
    "                running_loss = 0.0\n",
    "                running_acc = 0.0\n",
    "    print('Finished Training')\n",
    "    if tensorboard: writer.flush()"
   ]
  },
  {
   "cell_type": "markdown",
   "metadata": {},
   "source": [
    "## Train the network\n",
    "\n",
    "This is when things start to get interesting.\n",
    "We simply have to loop over our data iterator, and feed the inputs to the\n",
    "network and optimize.\n",
    "\n"
   ]
  },
  {
   "cell_type": "code",
   "execution_count": 8,
   "metadata": {
    "tags": []
   },
   "outputs": [
    {
     "name": "stdout",
     "output_type": "stream",
     "text": [
      "Epoch: [1 / 5], batches: [100 / 782], loss: 2.196, acc: 19.36\n",
      "Epoch: [1 / 5], batches: [200 / 782], loss: 1.908, acc: 31.08\n",
      "Epoch: [1 / 5], batches: [300 / 782], loss: 1.773, acc: 35.45\n",
      "Epoch: [1 / 5], batches: [400 / 782], loss: 1.680, acc: 40.31\n",
      "Epoch: [1 / 5], batches: [500 / 782], loss: 1.664, acc: 40.44\n",
      "Epoch: [1 / 5], batches: [600 / 782], loss: 1.617, acc: 41.98\n",
      "Epoch: [1 / 5], batches: [700 / 782], loss: 1.598, acc: 43.62\n",
      "Epoch: [2 / 5], batches: [100 / 782], loss: 1.517, acc: 45.88\n",
      "Epoch: [2 / 5], batches: [200 / 782], loss: 1.511, acc: 46.08\n",
      "Epoch: [2 / 5], batches: [300 / 782], loss: 1.478, acc: 48.05\n",
      "Epoch: [2 / 5], batches: [400 / 782], loss: 1.481, acc: 46.64\n",
      "Epoch: [2 / 5], batches: [500 / 782], loss: 1.489, acc: 48.27\n",
      "Epoch: [2 / 5], batches: [600 / 782], loss: 1.452, acc: 48.84\n",
      "Epoch: [2 / 5], batches: [700 / 782], loss: 1.452, acc: 48.08\n",
      "Epoch: [3 / 5], batches: [100 / 782], loss: 1.385, acc: 49.94\n",
      "Epoch: [3 / 5], batches: [200 / 782], loss: 1.373, acc: 51.05\n",
      "Epoch: [3 / 5], batches: [300 / 782], loss: 1.380, acc: 51.12\n",
      "Epoch: [3 / 5], batches: [400 / 782], loss: 1.372, acc: 51.00\n",
      "Epoch: [3 / 5], batches: [500 / 782], loss: 1.329, acc: 52.33\n",
      "Epoch: [3 / 5], batches: [600 / 782], loss: 1.354, acc: 52.50\n",
      "Epoch: [3 / 5], batches: [700 / 782], loss: 1.325, acc: 52.66\n",
      "Epoch: [4 / 5], batches: [100 / 782], loss: 1.254, acc: 55.33\n",
      "Epoch: [4 / 5], batches: [200 / 782], loss: 1.278, acc: 53.86\n",
      "Epoch: [4 / 5], batches: [300 / 782], loss: 1.277, acc: 54.64\n",
      "Epoch: [4 / 5], batches: [400 / 782], loss: 1.272, acc: 55.47\n",
      "Epoch: [4 / 5], batches: [500 / 782], loss: 1.269, acc: 55.64\n",
      "Epoch: [4 / 5], batches: [600 / 782], loss: 1.296, acc: 53.58\n",
      "Epoch: [4 / 5], batches: [700 / 782], loss: 1.283, acc: 54.62\n",
      "Epoch: [5 / 5], batches: [100 / 782], loss: 1.194, acc: 57.80\n",
      "Epoch: [5 / 5], batches: [200 / 782], loss: 1.192, acc: 57.17\n",
      "Epoch: [5 / 5], batches: [300 / 782], loss: 1.204, acc: 57.08\n"
     ]
    },
    {
     "ename": "KeyboardInterrupt",
     "evalue": "",
     "output_type": "error",
     "traceback": [
      "\u001b[0;31m---------------------------------------------------------------------------\u001b[0m",
      "\u001b[0;31mKeyboardInterrupt\u001b[0m                         Traceback (most recent call last)",
      "Cell \u001b[0;32mIn[8], line 1\u001b[0m\n\u001b[0;32m----> 1\u001b[0m train(fc_net, trainloader, optimizer, \u001b[38;5;241m5\u001b[39m)\n",
      "Cell \u001b[0;32mIn[7], line 15\u001b[0m, in \u001b[0;36mtrain\u001b[0;34m(net, loader, optimizer, max_epoch)\u001b[0m\n\u001b[1;32m     13\u001b[0m running_loss \u001b[38;5;241m=\u001b[39m \u001b[38;5;241m0.0\u001b[39m\n\u001b[1;32m     14\u001b[0m running_acc \u001b[38;5;241m=\u001b[39m \u001b[38;5;241m0.0\u001b[39m\n\u001b[0;32m---> 15\u001b[0m \u001b[38;5;28;01mfor\u001b[39;00m i, data \u001b[38;5;129;01min\u001b[39;00m \u001b[38;5;28menumerate\u001b[39m(loader, \u001b[38;5;241m0\u001b[39m):\n\u001b[1;32m     16\u001b[0m     \u001b[38;5;66;03m# get the inputs; data is a list of [inputs, labels]\u001b[39;00m\n\u001b[1;32m     17\u001b[0m     images, labels \u001b[38;5;241m=\u001b[39m data[\u001b[38;5;241m0\u001b[39m]\u001b[38;5;241m.\u001b[39mto(device), data[\u001b[38;5;241m1\u001b[39m]\u001b[38;5;241m.\u001b[39mto(device) \n\u001b[1;32m     19\u001b[0m     \u001b[38;5;66;03m# zero the parameter gradients\u001b[39;00m\n",
      "File \u001b[0;32m~/anaconda3/envs/pytorch/lib/python3.11/site-packages/torch/utils/data/dataloader.py:630\u001b[0m, in \u001b[0;36m_BaseDataLoaderIter.__next__\u001b[0;34m(self)\u001b[0m\n\u001b[1;32m    627\u001b[0m \u001b[38;5;28;01mif\u001b[39;00m \u001b[38;5;28mself\u001b[39m\u001b[38;5;241m.\u001b[39m_sampler_iter \u001b[38;5;129;01mis\u001b[39;00m \u001b[38;5;28;01mNone\u001b[39;00m:\n\u001b[1;32m    628\u001b[0m     \u001b[38;5;66;03m# TODO(https://github.com/pytorch/pytorch/issues/76750)\u001b[39;00m\n\u001b[1;32m    629\u001b[0m     \u001b[38;5;28mself\u001b[39m\u001b[38;5;241m.\u001b[39m_reset()  \u001b[38;5;66;03m# type: ignore[call-arg]\u001b[39;00m\n\u001b[0;32m--> 630\u001b[0m data \u001b[38;5;241m=\u001b[39m \u001b[38;5;28mself\u001b[39m\u001b[38;5;241m.\u001b[39m_next_data()\n\u001b[1;32m    631\u001b[0m \u001b[38;5;28mself\u001b[39m\u001b[38;5;241m.\u001b[39m_num_yielded \u001b[38;5;241m+\u001b[39m\u001b[38;5;241m=\u001b[39m \u001b[38;5;241m1\u001b[39m\n\u001b[1;32m    632\u001b[0m \u001b[38;5;28;01mif\u001b[39;00m \u001b[38;5;28mself\u001b[39m\u001b[38;5;241m.\u001b[39m_dataset_kind \u001b[38;5;241m==\u001b[39m _DatasetKind\u001b[38;5;241m.\u001b[39mIterable \u001b[38;5;129;01mand\u001b[39;00m \\\n\u001b[1;32m    633\u001b[0m         \u001b[38;5;28mself\u001b[39m\u001b[38;5;241m.\u001b[39m_IterableDataset_len_called \u001b[38;5;129;01mis\u001b[39;00m \u001b[38;5;129;01mnot\u001b[39;00m \u001b[38;5;28;01mNone\u001b[39;00m \u001b[38;5;129;01mand\u001b[39;00m \\\n\u001b[1;32m    634\u001b[0m         \u001b[38;5;28mself\u001b[39m\u001b[38;5;241m.\u001b[39m_num_yielded \u001b[38;5;241m>\u001b[39m \u001b[38;5;28mself\u001b[39m\u001b[38;5;241m.\u001b[39m_IterableDataset_len_called:\n",
      "File \u001b[0;32m~/anaconda3/envs/pytorch/lib/python3.11/site-packages/torch/utils/data/dataloader.py:1327\u001b[0m, in \u001b[0;36m_MultiProcessingDataLoaderIter._next_data\u001b[0;34m(self)\u001b[0m\n\u001b[1;32m   1324\u001b[0m     \u001b[38;5;28;01mreturn\u001b[39;00m \u001b[38;5;28mself\u001b[39m\u001b[38;5;241m.\u001b[39m_process_data(data)\n\u001b[1;32m   1326\u001b[0m \u001b[38;5;28;01massert\u001b[39;00m \u001b[38;5;129;01mnot\u001b[39;00m \u001b[38;5;28mself\u001b[39m\u001b[38;5;241m.\u001b[39m_shutdown \u001b[38;5;129;01mand\u001b[39;00m \u001b[38;5;28mself\u001b[39m\u001b[38;5;241m.\u001b[39m_tasks_outstanding \u001b[38;5;241m>\u001b[39m \u001b[38;5;241m0\u001b[39m\n\u001b[0;32m-> 1327\u001b[0m idx, data \u001b[38;5;241m=\u001b[39m \u001b[38;5;28mself\u001b[39m\u001b[38;5;241m.\u001b[39m_get_data()\n\u001b[1;32m   1328\u001b[0m \u001b[38;5;28mself\u001b[39m\u001b[38;5;241m.\u001b[39m_tasks_outstanding \u001b[38;5;241m-\u001b[39m\u001b[38;5;241m=\u001b[39m \u001b[38;5;241m1\u001b[39m\n\u001b[1;32m   1329\u001b[0m \u001b[38;5;28;01mif\u001b[39;00m \u001b[38;5;28mself\u001b[39m\u001b[38;5;241m.\u001b[39m_dataset_kind \u001b[38;5;241m==\u001b[39m _DatasetKind\u001b[38;5;241m.\u001b[39mIterable:\n\u001b[1;32m   1330\u001b[0m     \u001b[38;5;66;03m# Check for _IterableDatasetStopIteration\u001b[39;00m\n",
      "File \u001b[0;32m~/anaconda3/envs/pytorch/lib/python3.11/site-packages/torch/utils/data/dataloader.py:1293\u001b[0m, in \u001b[0;36m_MultiProcessingDataLoaderIter._get_data\u001b[0;34m(self)\u001b[0m\n\u001b[1;32m   1289\u001b[0m     \u001b[38;5;66;03m# In this case, `self._data_queue` is a `queue.Queue`,. But we don't\u001b[39;00m\n\u001b[1;32m   1290\u001b[0m     \u001b[38;5;66;03m# need to call `.task_done()` because we don't use `.join()`.\u001b[39;00m\n\u001b[1;32m   1291\u001b[0m \u001b[38;5;28;01melse\u001b[39;00m:\n\u001b[1;32m   1292\u001b[0m     \u001b[38;5;28;01mwhile\u001b[39;00m \u001b[38;5;28;01mTrue\u001b[39;00m:\n\u001b[0;32m-> 1293\u001b[0m         success, data \u001b[38;5;241m=\u001b[39m \u001b[38;5;28mself\u001b[39m\u001b[38;5;241m.\u001b[39m_try_get_data()\n\u001b[1;32m   1294\u001b[0m         \u001b[38;5;28;01mif\u001b[39;00m success:\n\u001b[1;32m   1295\u001b[0m             \u001b[38;5;28;01mreturn\u001b[39;00m data\n",
      "File \u001b[0;32m~/anaconda3/envs/pytorch/lib/python3.11/site-packages/torch/utils/data/dataloader.py:1131\u001b[0m, in \u001b[0;36m_MultiProcessingDataLoaderIter._try_get_data\u001b[0;34m(self, timeout)\u001b[0m\n\u001b[1;32m   1118\u001b[0m \u001b[38;5;28;01mdef\u001b[39;00m \u001b[38;5;21m_try_get_data\u001b[39m(\u001b[38;5;28mself\u001b[39m, timeout\u001b[38;5;241m=\u001b[39m_utils\u001b[38;5;241m.\u001b[39mMP_STATUS_CHECK_INTERVAL):\n\u001b[1;32m   1119\u001b[0m     \u001b[38;5;66;03m# Tries to fetch data from `self._data_queue` once for a given timeout.\u001b[39;00m\n\u001b[1;32m   1120\u001b[0m     \u001b[38;5;66;03m# This can also be used as inner loop of fetching without timeout, with\u001b[39;00m\n\u001b[0;32m   (...)\u001b[0m\n\u001b[1;32m   1128\u001b[0m     \u001b[38;5;66;03m# Returns a 2-tuple:\u001b[39;00m\n\u001b[1;32m   1129\u001b[0m     \u001b[38;5;66;03m#   (bool: whether successfully get data, any: data if successful else None)\u001b[39;00m\n\u001b[1;32m   1130\u001b[0m     \u001b[38;5;28;01mtry\u001b[39;00m:\n\u001b[0;32m-> 1131\u001b[0m         data \u001b[38;5;241m=\u001b[39m \u001b[38;5;28mself\u001b[39m\u001b[38;5;241m.\u001b[39m_data_queue\u001b[38;5;241m.\u001b[39mget(timeout\u001b[38;5;241m=\u001b[39mtimeout)\n\u001b[1;32m   1132\u001b[0m         \u001b[38;5;28;01mreturn\u001b[39;00m (\u001b[38;5;28;01mTrue\u001b[39;00m, data)\n\u001b[1;32m   1133\u001b[0m     \u001b[38;5;28;01mexcept\u001b[39;00m \u001b[38;5;167;01mException\u001b[39;00m \u001b[38;5;28;01mas\u001b[39;00m e:\n\u001b[1;32m   1134\u001b[0m         \u001b[38;5;66;03m# At timeout and error, we manually check whether any worker has\u001b[39;00m\n\u001b[1;32m   1135\u001b[0m         \u001b[38;5;66;03m# failed. Note that this is the only mechanism for Windows to detect\u001b[39;00m\n\u001b[1;32m   1136\u001b[0m         \u001b[38;5;66;03m# worker failures.\u001b[39;00m\n",
      "File \u001b[0;32m~/anaconda3/envs/pytorch/lib/python3.11/multiprocessing/queues.py:113\u001b[0m, in \u001b[0;36mQueue.get\u001b[0;34m(self, block, timeout)\u001b[0m\n\u001b[1;32m    111\u001b[0m \u001b[38;5;28;01mif\u001b[39;00m block:\n\u001b[1;32m    112\u001b[0m     timeout \u001b[38;5;241m=\u001b[39m deadline \u001b[38;5;241m-\u001b[39m time\u001b[38;5;241m.\u001b[39mmonotonic()\n\u001b[0;32m--> 113\u001b[0m     \u001b[38;5;28;01mif\u001b[39;00m \u001b[38;5;129;01mnot\u001b[39;00m \u001b[38;5;28mself\u001b[39m\u001b[38;5;241m.\u001b[39m_poll(timeout):\n\u001b[1;32m    114\u001b[0m         \u001b[38;5;28;01mraise\u001b[39;00m Empty\n\u001b[1;32m    115\u001b[0m \u001b[38;5;28;01melif\u001b[39;00m \u001b[38;5;129;01mnot\u001b[39;00m \u001b[38;5;28mself\u001b[39m\u001b[38;5;241m.\u001b[39m_poll():\n",
      "File \u001b[0;32m~/anaconda3/envs/pytorch/lib/python3.11/multiprocessing/connection.py:257\u001b[0m, in \u001b[0;36m_ConnectionBase.poll\u001b[0;34m(self, timeout)\u001b[0m\n\u001b[1;32m    255\u001b[0m \u001b[38;5;28mself\u001b[39m\u001b[38;5;241m.\u001b[39m_check_closed()\n\u001b[1;32m    256\u001b[0m \u001b[38;5;28mself\u001b[39m\u001b[38;5;241m.\u001b[39m_check_readable()\n\u001b[0;32m--> 257\u001b[0m \u001b[38;5;28;01mreturn\u001b[39;00m \u001b[38;5;28mself\u001b[39m\u001b[38;5;241m.\u001b[39m_poll(timeout)\n",
      "File \u001b[0;32m~/anaconda3/envs/pytorch/lib/python3.11/multiprocessing/connection.py:440\u001b[0m, in \u001b[0;36mConnection._poll\u001b[0;34m(self, timeout)\u001b[0m\n\u001b[1;32m    439\u001b[0m \u001b[38;5;28;01mdef\u001b[39;00m \u001b[38;5;21m_poll\u001b[39m(\u001b[38;5;28mself\u001b[39m, timeout):\n\u001b[0;32m--> 440\u001b[0m     r \u001b[38;5;241m=\u001b[39m wait([\u001b[38;5;28mself\u001b[39m], timeout)\n\u001b[1;32m    441\u001b[0m     \u001b[38;5;28;01mreturn\u001b[39;00m \u001b[38;5;28mbool\u001b[39m(r)\n",
      "File \u001b[0;32m~/anaconda3/envs/pytorch/lib/python3.11/multiprocessing/connection.py:948\u001b[0m, in \u001b[0;36mwait\u001b[0;34m(object_list, timeout)\u001b[0m\n\u001b[1;32m    945\u001b[0m     deadline \u001b[38;5;241m=\u001b[39m time\u001b[38;5;241m.\u001b[39mmonotonic() \u001b[38;5;241m+\u001b[39m timeout\n\u001b[1;32m    947\u001b[0m \u001b[38;5;28;01mwhile\u001b[39;00m \u001b[38;5;28;01mTrue\u001b[39;00m:\n\u001b[0;32m--> 948\u001b[0m     ready \u001b[38;5;241m=\u001b[39m selector\u001b[38;5;241m.\u001b[39mselect(timeout)\n\u001b[1;32m    949\u001b[0m     \u001b[38;5;28;01mif\u001b[39;00m ready:\n\u001b[1;32m    950\u001b[0m         \u001b[38;5;28;01mreturn\u001b[39;00m [key\u001b[38;5;241m.\u001b[39mfileobj \u001b[38;5;28;01mfor\u001b[39;00m (key, events) \u001b[38;5;129;01min\u001b[39;00m ready]\n",
      "File \u001b[0;32m~/anaconda3/envs/pytorch/lib/python3.11/selectors.py:415\u001b[0m, in \u001b[0;36m_PollLikeSelector.select\u001b[0;34m(self, timeout)\u001b[0m\n\u001b[1;32m    413\u001b[0m ready \u001b[38;5;241m=\u001b[39m []\n\u001b[1;32m    414\u001b[0m \u001b[38;5;28;01mtry\u001b[39;00m:\n\u001b[0;32m--> 415\u001b[0m     fd_event_list \u001b[38;5;241m=\u001b[39m \u001b[38;5;28mself\u001b[39m\u001b[38;5;241m.\u001b[39m_selector\u001b[38;5;241m.\u001b[39mpoll(timeout)\n\u001b[1;32m    416\u001b[0m \u001b[38;5;28;01mexcept\u001b[39;00m \u001b[38;5;167;01mInterruptedError\u001b[39;00m:\n\u001b[1;32m    417\u001b[0m     \u001b[38;5;28;01mreturn\u001b[39;00m ready\n",
      "\u001b[0;31mKeyboardInterrupt\u001b[0m: "
     ]
    }
   ],
   "source": [
    "train(fc_net, trainloader, optimizer, 5)"
   ]
  },
  {
   "cell_type": "markdown",
   "metadata": {},
   "source": [
    "## Let's quickly save our trained model:\n",
    "\n"
   ]
  },
  {
   "cell_type": "code",
   "execution_count": 8,
   "metadata": {
    "tags": []
   },
   "outputs": [],
   "source": [
    "PATH = './checkpoints/cifar_net.pth'\n",
    "\n",
    "def save_model(net, path):\n",
    "    torch.save(net.state_dict(), path)\n",
    "    \n",
    "save_model(fc_net, PATH)"
   ]
  },
  {
   "cell_type": "markdown",
   "metadata": {},
   "source": [
    "## Test the network on the test data\n",
    "\n",
    "\n",
    "We have trained the network for 2 passes over the training dataset.\n",
    "But we need to check if the network has learnt anything at all.\n",
    "\n",
    "We will check this by predicting the class label that the neural network\n",
    "outputs, and checking it against the ground-truth. If the prediction is\n",
    "correct, we add the sample to the list of correct predictions.\n",
    "\n",
    "Okay, first step. Let us display an image from the test set to get familiar.\n",
    "\n"
   ]
  },
  {
   "cell_type": "code",
   "execution_count": 9,
   "metadata": {
    "tags": []
   },
   "outputs": [
    {
     "data": {
      "image/png": "[encoded data removed]",
      "text/plain": [
       "<Figure size 640x480 with 1 Axes>"
      ]
     },
     "metadata": {},
     "output_type": "display_data"
    },
    {
     "name": "stdout",
     "output_type": "stream",
     "text": [
      "GroundTruth:    cat  ship  ship plane\n"
     ]
    }
   ],
   "source": [
    "dataiter = iter(vistestloader)\n",
    "images, labels = next(dataiter)\n",
    "\n",
    "# print images\n",
    "imshow(torchvision.utils.make_grid(images))\n",
    "print('GroundTruth: ', ' '.join('%5s' % classes[labels[j]] for j in range(4)))"
   ]
  },
  {
   "cell_type": "markdown",
   "metadata": {},
   "source": [
    "## Load a model\n",
    "Next, let's load back in our saved model (note: saving and re-loading the model\n",
    "wasn't necessary here, we only did it to illustrate how to do so):\n",
    "\n"
   ]
  },
  {
   "cell_type": "code",
   "execution_count": 10,
   "metadata": {
    "tags": []
   },
   "outputs": [
    {
     "name": "stderr",
     "output_type": "stream",
     "text": [
      "/tmp/.u3641195/ipykernel_1265548/338259489.py:4: FutureWarning: You are using `torch.load` with `weights_only=False` (the current default value), which uses the default pickle module implicitly. It is possible to construct malicious pickle data which will execute arbitrary code during unpickling (See https://github.com/pytorch/pytorch/blob/main/SECURITY.md#untrusted-models for more details). In a future release, the default value for `weights_only` will be flipped to `True`. This limits the functions that could be executed during unpickling. Arbitrary objects will no longer be allowed to be loaded via this mode unless they are explicitly allowlisted by the user via `torch.serialization.add_safe_globals`. We recommend you start setting `weights_only=True` for any use case where you don't have full control of the loaded file. Please open an issue on GitHub for any issues related to this experimental feature.\n",
      "  net.load_state_dict(torch.load(path))\n"
     ]
    }
   ],
   "source": [
    "net = NeuralNet()\n",
    "\n",
    "def load_model(net, path):\n",
    "    net.load_state_dict(torch.load(path))\n",
    "    \n",
    "load_model(net, PATH)"
   ]
  },
  {
   "cell_type": "markdown",
   "metadata": {},
   "source": [
    "Okay, now let us see what the neural network thinks these examples above are:\n",
    "\n"
   ]
  },
  {
   "cell_type": "code",
   "execution_count": 11,
   "metadata": {
    "tags": []
   },
   "outputs": [],
   "source": [
    "outputs = net(images)"
   ]
  },
  {
   "cell_type": "markdown",
   "metadata": {},
   "source": [
    "The outputs are energies for the 10 classes.\n",
    "The higher the energy for a class, the more the network\n",
    "thinks that the image is of the particular class.\n",
    "So, let's get the index of the highest energy:\n",
    "\n"
   ]
  },
  {
   "cell_type": "code",
   "execution_count": 12,
   "metadata": {
    "tags": []
   },
   "outputs": [
    {
     "name": "stdout",
     "output_type": "stream",
     "text": [
      "Predicted:   ship  ship  ship  ship\n"
     ]
    }
   ],
   "source": [
    "_, predicted = torch.max(outputs, 1)\n",
    "\n",
    "print('Predicted: ', ' '.join('%5s' % classes[predicted[j]]\n",
    "                              for j in range(4)))"
   ]
  },
  {
   "cell_type": "markdown",
   "metadata": {},
   "source": [
    "## Define testing code"
   ]
  },
  {
   "cell_type": "code",
   "execution_count": 13,
   "metadata": {
    "tags": []
   },
   "outputs": [],
   "source": [
    "def test(net, testloader):\n",
    "    correct = 0\n",
    "    total = 0\n",
    "    net.to(device)\n",
    "    net.eval()\n",
    "    # since we're not training, we don't need to calculate the gradients for our outputs\n",
    "    with torch.no_grad():\n",
    "        for data in testloader:\n",
    "            images, labels = data[0].to(device), data[1].to(device)\n",
    "            # calculate outputs by running images through the network\n",
    "            outputs = net(images)\n",
    "            # the class with the highest energy is what we choose as prediction\n",
    "            _, predicted = torch.max(outputs.data, 1)\n",
    "            total += labels.size(0)\n",
    "            correct += (predicted == labels).sum().item()\n",
    "\n",
    "    print('Accuracy of the network on the 10000 test images: %d %%' % (\n",
    "        100 * correct / total))"
   ]
  },
  {
   "cell_type": "code",
   "execution_count": null,
   "metadata": {
    "tags": []
   },
   "outputs": [],
   "source": [
    "test(net, testloader)"
   ]
  },
  {
   "cell_type": "markdown",
   "metadata": {},
   "source": [
    "## See accuracy of each class\n",
    "\n",
    "That looks way better than chance, which is 10% accuracy (randomly picking\n",
    "a class out of 10 classes).\n",
    "Seems like the network learnt something.\n",
    "\n",
    "Hmmm, what are the classes that performed well, and the classes that did\n",
    "not perform well:\n",
    "\n"
   ]
  },
  {
   "cell_type": "code",
   "execution_count": 14,
   "metadata": {
    "tags": []
   },
   "outputs": [],
   "source": [
    "def class_test(net, testloader):\n",
    "    # prepare to count predictions for each class\n",
    "    correct_pred = {classname: 0 for classname in classes}\n",
    "    total_pred = {classname: 0 for classname in classes}\n",
    "    \n",
    "    net.to(device)\n",
    "    net.eval()\n",
    "    # again no gradients needed\n",
    "    with torch.no_grad():\n",
    "        for data in testloader:\n",
    "            images, labels = data[0].to(device), data[1].to(device)  \n",
    "            outputs = net(images)    \n",
    "            _, predictions = torch.max(outputs, 1)\n",
    "            # collect the correct predictions for each class\n",
    "            for label, prediction in zip(labels, predictions):\n",
    "                if label == prediction:\n",
    "                    correct_pred[classes[label]] += 1\n",
    "                total_pred[classes[label]] += 1\n",
    "\n",
    "\n",
    "    # print accuracy for each class\n",
    "    for classname, correct_count in correct_pred.items():\n",
    "        acc = 100 * float(correct_count) / total_pred[classname]\n",
    "        print(\"Accuracy for class {:5s} is: {:.1f} %\".format(classname, \n",
    "                                                       acc))"
   ]
  },
  {
   "cell_type": "code",
   "execution_count": null,
   "metadata": {
    "tags": []
   },
   "outputs": [],
   "source": [
    "class_test(net, testloader)"
   ]
  },
  {
   "cell_type": "markdown",
   "metadata": {},
   "source": [
    "# Your turn now!"
   ]
  },
  {
   "cell_type": "markdown",
   "metadata": {},
   "source": [
    "## Define a Convolutional Neural Network\n",
    "\n",
    "The architecture should be:\n",
    "\n",
    "    conv2d, 5x5, 3->8, padding=2\n",
    "\n",
    "    Relu()\n",
    "\n",
    "    conv2d, 5x5, 8->16, padding=2, stride=2\n",
    "\n",
    "    Relu()\n",
    "\n",
    "    conv2d, 5x5, 16->32, padding=2\n",
    "    \n",
    "    Relu()\n",
    "\n",
    "    conv2d, 5x5, 32->64, padding=2, stride=2\n",
    "    \n",
    "    Relu()\n",
    "\n",
    "    conv2d, 5x5, 64->128, padding=2\n",
    "\n",
    "    maxpool2d\n",
    "\n",
    "    Relu()\n",
    "\n",
    "    flatten the feature map\n",
    "\n",
    "    fc, the whole feature map -> 120\n",
    "\n",
    "    Relu()\n",
    "\n",
    "    fc, 120->84\n",
    "\n",
    "    Relu()\n",
    "\n",
    "    fc, 84->10\n",
    "    "
   ]
  },
  {
   "cell_type": "code",
   "execution_count": 50,
   "metadata": {
    "tags": []
   },
   "outputs": [],
   "source": [
    "import torch.nn as nn\n",
    "import torch.nn.functional as F\n",
    "\n",
    "\n",
    "class ConvolutionNet(nn.Module):\n",
    "    def __init__(self):\n",
    "        super().__init__()\n",
    "        '''\n",
    "        Implement here\n",
    "        '''\n",
    "        self.conv1 = nn.Conv2d(3,8,5,padding=2)\n",
    "        self.conv2 = nn.Conv2d(8,16,5,padding=2,stride=2)\n",
    "        self.conv3 = nn.Conv2d(16,32,5,padding=2)\n",
    "        self.conv4 = nn.Conv2d(32,64,5,padding=2,stride=2)\n",
    "        self.conv5 = nn.Conv2d(64,128,5,padding=2)\n",
    "        self.maxpool = nn.MaxPool2d(5)\n",
    "        self.fc1 = nn.Linear(128, 120)\n",
    "        self.fc2 = nn.Linear(120, 84)\n",
    "        self.fc3 = nn.Linear(84, 10)\n",
    "\n",
    "    def forward(self, x):\n",
    "        '''\n",
    "        Implement here\n",
    "        '''\n",
    "        x = F.relu(self.conv1(x))\n",
    "        x = F.relu(self.conv2(x))\n",
    "        x = F.relu(self.conv3(x))\n",
    "        x = F.relu(self.conv4(x))\n",
    "        x = F.relu(self.conv5(x))\n",
    "        x = F.relu(self.maxpool(x))\n",
    "        x = torch.flatten(x,1)\n",
    "        x = F.relu(self.fc1(x))\n",
    "        x = F.relu(self.fc2(x))\n",
    "        x = self.fc3(x)\n",
    "        return x\n",
    "\n",
    "conv_net = ConvolutionNet()"
   ]
  },
  {
   "cell_type": "markdown",
   "metadata": {},
   "source": [
    "## Train the convolutional neural network\n",
    "\n",
    "Train this CNN with learning rate 1e-2 for 5 epochs.\n",
    "\n",
    "You should see the training loss is aroung 0.9 and accuracy is around 67%."
   ]
  },
  {
   "cell_type": "code",
   "execution_count": 41,
   "metadata": {
    "tags": []
   },
   "outputs": [
    {
     "name": "stdout",
     "output_type": "stream",
     "text": [
      "Epoch: [1 / 5], batches: [100 / 782], loss: 2.303, acc: 10.27\n",
      "Epoch: [1 / 5], batches: [200 / 782], loss: 2.303, acc: 10.27\n",
      "Epoch: [1 / 5], batches: [300 / 782], loss: 2.303, acc: 9.84\n",
      "Epoch: [1 / 5], batches: [400 / 782], loss: 2.301, acc: 10.98\n",
      "Epoch: [1 / 5], batches: [500 / 782], loss: 2.272, acc: 15.41\n",
      "Epoch: [1 / 5], batches: [600 / 782], loss: 2.117, acc: 22.14\n",
      "Epoch: [1 / 5], batches: [700 / 782], loss: 2.050, acc: 23.53\n",
      "Epoch: [2 / 5], batches: [100 / 782], loss: 1.909, acc: 29.14\n",
      "Epoch: [2 / 5], batches: [200 / 782], loss: 1.842, acc: 31.83\n",
      "Epoch: [2 / 5], batches: [300 / 782], loss: 1.800, acc: 33.61\n",
      "Epoch: [2 / 5], batches: [400 / 782], loss: 1.778, acc: 34.47\n",
      "Epoch: [2 / 5], batches: [500 / 782], loss: 1.720, acc: 37.25\n",
      "Epoch: [2 / 5], batches: [600 / 782], loss: 1.663, acc: 39.14\n",
      "Epoch: [2 / 5], batches: [700 / 782], loss: 1.631, acc: 39.20\n",
      "Epoch: [3 / 5], batches: [100 / 782], loss: 1.558, acc: 42.50\n",
      "Epoch: [3 / 5], batches: [200 / 782], loss: 1.536, acc: 44.03\n",
      "Epoch: [3 / 5], batches: [300 / 782], loss: 1.486, acc: 45.33\n",
      "Epoch: [3 / 5], batches: [400 / 782], loss: 1.460, acc: 45.78\n",
      "Epoch: [3 / 5], batches: [500 / 782], loss: 1.451, acc: 46.91\n",
      "Epoch: [3 / 5], batches: [600 / 782], loss: 1.447, acc: 47.52\n",
      "Epoch: [3 / 5], batches: [700 / 782], loss: 1.387, acc: 49.67\n",
      "Epoch: [4 / 5], batches: [100 / 782], loss: 1.340, acc: 51.56\n",
      "Epoch: [4 / 5], batches: [200 / 782], loss: 1.304, acc: 53.39\n",
      "Epoch: [4 / 5], batches: [300 / 782], loss: 1.293, acc: 53.36\n",
      "Epoch: [4 / 5], batches: [400 / 782], loss: 1.268, acc: 54.44\n",
      "Epoch: [4 / 5], batches: [500 / 782], loss: 1.271, acc: 54.52\n",
      "Epoch: [4 / 5], batches: [600 / 782], loss: 1.239, acc: 55.58\n",
      "Epoch: [4 / 5], batches: [700 / 782], loss: 1.258, acc: 55.69\n",
      "Epoch: [5 / 5], batches: [100 / 782], loss: 1.167, acc: 57.75\n",
      "Epoch: [5 / 5], batches: [200 / 782], loss: 1.143, acc: 59.27\n",
      "Epoch: [5 / 5], batches: [300 / 782], loss: 1.143, acc: 59.22\n",
      "Epoch: [5 / 5], batches: [400 / 782], loss: 1.127, acc: 60.19\n",
      "Epoch: [5 / 5], batches: [500 / 782], loss: 1.108, acc: 60.69\n",
      "Epoch: [5 / 5], batches: [600 / 782], loss: 1.117, acc: 61.02\n",
      "Epoch: [5 / 5], batches: [700 / 782], loss: 1.089, acc: 61.56\n",
      "Finished Training\n"
     ]
    }
   ],
   "source": [
    "'''\n",
    "Implement here, use the train function provided.\n",
    "'''\n",
    "train(conv_net, trainloader, get_optimizer(conv_net, 0.01), 5)"
   ]
  },
  {
   "cell_type": "markdown",
   "metadata": {},
   "source": [
    "## Test the convolutional neural network\n",
    "\n",
    "Test this CNN on the test dataset.\n",
    "\n",
    "You should see the accuracy is around 62%."
   ]
  },
  {
   "cell_type": "code",
   "execution_count": 17,
   "metadata": {
    "jupyter": {
     "source_hidden": true
    },
    "tags": []
   },
   "outputs": [
    {
     "name": "stdout",
     "output_type": "stream",
     "text": [
      "Accuracy of the network on the 10000 test images: 67 %\n"
     ]
    }
   ],
   "source": [
    "'''\n",
    "Implement here, use the test function provided.\n",
    "'''\n",
    "test(conv_net, testloader)"
   ]
  },
  {
   "cell_type": "markdown",
   "metadata": {},
   "source": [
    "## Accuracy (each class) of CNN\n",
    "\n",
    "Test this CNN on the test dataset to see the accuracy of each class."
   ]
  },
  {
   "cell_type": "code",
   "execution_count": 18,
   "metadata": {
    "jupyter": {
     "source_hidden": true
    },
    "tags": []
   },
   "outputs": [
    {
     "name": "stdout",
     "output_type": "stream",
     "text": [
      "Accuracy for class plane is: 71.4 %\n",
      "Accuracy for class car   is: 67.0 %\n",
      "Accuracy for class bird  is: 54.0 %\n",
      "Accuracy for class cat   is: 45.0 %\n",
      "Accuracy for class deer  is: 70.5 %\n",
      "Accuracy for class dog   is: 57.8 %\n",
      "Accuracy for class frog  is: 85.2 %\n",
      "Accuracy for class horse is: 53.8 %\n",
      "Accuracy for class ship  is: 85.6 %\n",
      "Accuracy for class truck is: 82.5 %\n"
     ]
    }
   ],
   "source": [
    "'''\n",
    "Implemente here, use the class_test function provided.\n",
    "'''\n",
    "class_test(conv_net, testloader)"
   ]
  },
  {
   "cell_type": "markdown",
   "metadata": {
    "tags": []
   },
   "source": [
    "## Let's use BN\n",
    "\n",
    "Add BatchNorm2d to the convolution neural network you implemented.\n",
    "\n",
    "You should add batchnorm after the convolution operator and before the activation layer.\n",
    "\n",
    "Please train this network and show the test accuracy."
   ]
  },
  {
   "cell_type": "code",
   "execution_count": 45,
   "metadata": {
    "collapsed": true,
    "jupyter": {
     "outputs_hidden": true,
     "source_hidden": true
    },
    "tags": []
   },
   "outputs": [
    {
     "name": "stdout",
     "output_type": "stream",
     "text": [
      "Epoch: [1 / 5], batches: [100 / 782], loss: 2.031, acc: 23.50\n",
      "Epoch: [1 / 5], batches: [200 / 782], loss: 1.716, acc: 36.00\n",
      "Epoch: [1 / 5], batches: [300 / 782], loss: 1.541, acc: 43.45\n",
      "Epoch: [1 / 5], batches: [400 / 782], loss: 1.447, acc: 46.58\n",
      "Epoch: [1 / 5], batches: [500 / 782], loss: 1.396, acc: 49.20\n",
      "Epoch: [1 / 5], batches: [600 / 782], loss: 1.316, acc: 52.06\n",
      "Epoch: [1 / 5], batches: [700 / 782], loss: 1.259, acc: 54.39\n",
      "Epoch: [2 / 5], batches: [100 / 782], loss: 1.138, acc: 58.81\n",
      "Epoch: [2 / 5], batches: [200 / 782], loss: 1.118, acc: 59.95\n",
      "Epoch: [2 / 5], batches: [300 / 782], loss: 1.069, acc: 61.70\n",
      "Epoch: [2 / 5], batches: [400 / 782], loss: 1.048, acc: 63.12\n",
      "Epoch: [2 / 5], batches: [500 / 782], loss: 0.996, acc: 64.72\n",
      "Epoch: [2 / 5], batches: [600 / 782], loss: 0.977, acc: 65.38\n",
      "Epoch: [2 / 5], batches: [700 / 782], loss: 0.929, acc: 67.77\n",
      "Epoch: [3 / 5], batches: [100 / 782], loss: 0.823, acc: 71.36\n",
      "Epoch: [3 / 5], batches: [200 / 782], loss: 0.832, acc: 71.08\n",
      "Epoch: [3 / 5], batches: [300 / 782], loss: 0.799, acc: 71.88\n",
      "Epoch: [3 / 5], batches: [400 / 782], loss: 0.836, acc: 70.72\n",
      "Epoch: [3 / 5], batches: [500 / 782], loss: 0.815, acc: 71.86\n",
      "Epoch: [3 / 5], batches: [600 / 782], loss: 0.791, acc: 72.59\n",
      "Epoch: [3 / 5], batches: [700 / 782], loss: 0.788, acc: 72.72\n",
      "Epoch: [4 / 5], batches: [100 / 782], loss: 0.658, acc: 77.47\n",
      "Epoch: [4 / 5], batches: [200 / 782], loss: 0.670, acc: 76.27\n",
      "Epoch: [4 / 5], batches: [300 / 782], loss: 0.677, acc: 76.55\n",
      "Epoch: [4 / 5], batches: [400 / 782], loss: 0.683, acc: 76.42\n",
      "Epoch: [4 / 5], batches: [500 / 782], loss: 0.663, acc: 76.80\n",
      "Epoch: [4 / 5], batches: [600 / 782], loss: 0.653, acc: 77.25\n",
      "Epoch: [4 / 5], batches: [700 / 782], loss: 0.673, acc: 76.41\n",
      "Epoch: [5 / 5], batches: [100 / 782], loss: 0.544, acc: 81.08\n",
      "Epoch: [5 / 5], batches: [200 / 782], loss: 0.541, acc: 81.64\n",
      "Epoch: [5 / 5], batches: [300 / 782], loss: 0.574, acc: 79.75\n",
      "Epoch: [5 / 5], batches: [400 / 782], loss: 0.529, acc: 81.64\n",
      "Epoch: [5 / 5], batches: [500 / 782], loss: 0.574, acc: 79.97\n",
      "Epoch: [5 / 5], batches: [600 / 782], loss: 0.598, acc: 78.80\n",
      "Epoch: [5 / 5], batches: [700 / 782], loss: 0.596, acc: 79.05\n",
      "Finished Training\n",
      "Accuracy of the network on the 10000 test images: 74 %\n"
     ]
    }
   ],
   "source": [
    "class ConvolutionBNNet(nn.Module):\n",
    "    def __init__(self):\n",
    "        super().__init__()\n",
    "        '''\n",
    "        Implement here.\n",
    "        '''\n",
    "        self.conv1 = nn.Conv2d(3,8,5,padding=2)\n",
    "        self.conv2 = nn.Conv2d(8,16,5,padding=2,stride=2)\n",
    "        self.conv3 = nn.Conv2d(16,32,5,padding=2)\n",
    "        self.conv4 = nn.Conv2d(32,64,5,padding=2,stride=2)\n",
    "        self.conv5 = nn.Conv2d(64,128,5,padding=2)\n",
    "        # Batch Normalisation\n",
    "        self.bn1 = nn.BatchNorm2d(8)\n",
    "        self.bn2 = nn.BatchNorm2d(16)\n",
    "        self.bn3 = nn.BatchNorm2d(32)\n",
    "        self.bn4 = nn.BatchNorm2d(64)\n",
    "        self.bn5 = nn.BatchNorm2d(128)\n",
    "\n",
    "\n",
    "        self.maxpool = nn.MaxPool2d(5)\n",
    "        self.fc1 = nn.Linear(128, 120)\n",
    "        self.fc2 = nn.Linear(120, 84)\n",
    "        self.fc3 = nn.Linear(84, 10)\n",
    "\n",
    "    def forward(self, x):\n",
    "        '''\n",
    "        Implement here\n",
    "        '''\n",
    "        x = F.relu(self.bn1(self.conv1(x)))\n",
    "        x = F.relu(self.bn2(self.conv2(x)))\n",
    "        x = F.relu(self.bn3(self.conv3(x)))\n",
    "        x = F.relu(self.bn4(self.conv4(x)))\n",
    "        x = self.bn5(self.conv5(x))\n",
    "        x = F.relu(self.maxpool(x))\n",
    "        x = torch.flatten(x,1)\n",
    "        x = F.relu(self.fc1(x))\n",
    "        x = F.relu(self.fc2(x))\n",
    "        x = self.fc3(x)\n",
    "        return x\n",
    "\n",
    "bn_conv_net = ConvolutionBNNet()\n",
    "train(bn_conv_net, trainloader, get_optimizer(bn_conv_net, 0.01), 5)\n",
    "test(bn_conv_net, testloader)"
   ]
  },
  {
   "cell_type": "markdown",
   "metadata": {},
   "source": [
    "## Train the CNN with BN\n",
    "\n",
    "Train this CNN with learning rate 1e-2 for 5 epochs."
   ]
  },
  {
   "cell_type": "code",
   "execution_count": null,
   "metadata": {
    "jupyter": {
     "source_hidden": true
    },
    "tags": []
   },
   "outputs": [],
   "source": [
    "'''\n",
    "Implement here\n",
    "'''\n",
    "train(bn_conv_net, trainloader, get_optimizer(bn_conv_net, 0.01), 5)\n"
   ]
  },
  {
   "cell_type": "markdown",
   "metadata": {},
   "source": [
    "## Test the CNN with BN\n",
    "\n",
    "Test this CNN on the test dataset."
   ]
  },
  {
   "cell_type": "code",
   "execution_count": null,
   "metadata": {
    "jupyter": {
     "source_hidden": true
    },
    "tags": []
   },
   "outputs": [],
   "source": [
    "'''\n",
    "Implement here\n",
    "'''\n",
    "test(bn_conv_net, testloader)\n"
   ]
  },
  {
   "cell_type": "markdown",
   "metadata": {},
   "source": [
    "## Accuracy (each class) of CNN with BN\n",
    "\n",
    "Test this CNN with BNN on the test dataset to see the accuracy of each class."
   ]
  },
  {
   "cell_type": "code",
   "execution_count": null,
   "metadata": {
    "jupyter": {
     "source_hidden": true
    },
    "tags": []
   },
   "outputs": [],
   "source": [
    "'''\n",
    "Implement here, use the class_test function provided.\n",
    "'''\n",
    "class_test(bn_conv_net, testloader)\n"
   ]
  },
  {
   "cell_type": "markdown",
   "metadata": {},
   "source": [
    "## Design by yourself\n",
    "Now, based on the knowledge learned in class or by referring to online resources, you can design your own network architecture or incorporate other optimization methods to improve task performance. Please provide at least one improvement strategy."
   ]
  },
  {
   "cell_type": "code",
   "execution_count": 61,
   "metadata": {
    "tags": []
   },
   "outputs": [
    {
     "name": "stdout",
     "output_type": "stream",
     "text": [
      "Epoch: [1 / 10], batches: [100 / 782], loss: 1.810, acc: 31.95\n",
      "Epoch: [1 / 10], batches: [200 / 782], loss: 1.544, acc: 42.02\n",
      "Epoch: [1 / 10], batches: [300 / 782], loss: 1.406, acc: 48.41\n",
      "Epoch: [1 / 10], batches: [400 / 782], loss: 1.298, acc: 52.72\n",
      "Epoch: [1 / 10], batches: [500 / 782], loss: 1.232, acc: 55.48\n",
      "Epoch: [1 / 10], batches: [600 / 782], loss: 1.150, acc: 58.20\n",
      "Epoch: [1 / 10], batches: [700 / 782], loss: 1.069, acc: 61.78\n",
      "Epoch: [2 / 10], batches: [100 / 782], loss: 0.957, acc: 66.44\n",
      "Epoch: [2 / 10], batches: [200 / 782], loss: 0.899, acc: 68.19\n",
      "Epoch: [2 / 10], batches: [300 / 782], loss: 0.864, acc: 69.08\n",
      "Epoch: [2 / 10], batches: [400 / 782], loss: 0.845, acc: 70.06\n",
      "Epoch: [2 / 10], batches: [500 / 782], loss: 0.786, acc: 73.02\n",
      "Epoch: [2 / 10], batches: [600 / 782], loss: 0.778, acc: 72.61\n",
      "Epoch: [2 / 10], batches: [700 / 782], loss: 0.780, acc: 73.16\n",
      "Epoch: [3 / 10], batches: [100 / 782], loss: 0.657, acc: 77.08\n",
      "Epoch: [3 / 10], batches: [200 / 782], loss: 0.660, acc: 76.62\n",
      "Epoch: [3 / 10], batches: [300 / 782], loss: 0.620, acc: 78.23\n",
      "Epoch: [3 / 10], batches: [400 / 782], loss: 0.633, acc: 77.59\n",
      "Epoch: [3 / 10], batches: [500 / 782], loss: 0.630, acc: 78.50\n",
      "Epoch: [3 / 10], batches: [600 / 782], loss: 0.615, acc: 78.41\n",
      "Epoch: [3 / 10], batches: [700 / 782], loss: 0.605, acc: 79.00\n",
      "Epoch: [4 / 10], batches: [100 / 782], loss: 0.504, acc: 82.69\n",
      "Epoch: [4 / 10], batches: [200 / 782], loss: 0.517, acc: 81.53\n",
      "Epoch: [4 / 10], batches: [300 / 782], loss: 0.514, acc: 81.88\n",
      "Epoch: [4 / 10], batches: [400 / 782], loss: 0.514, acc: 82.59\n",
      "Epoch: [4 / 10], batches: [500 / 782], loss: 0.518, acc: 82.20\n",
      "Epoch: [4 / 10], batches: [600 / 782], loss: 0.520, acc: 82.00\n",
      "Epoch: [4 / 10], batches: [700 / 782], loss: 0.510, acc: 82.75\n",
      "Epoch: [5 / 10], batches: [100 / 782], loss: 0.395, acc: 86.53\n",
      "Epoch: [5 / 10], batches: [200 / 782], loss: 0.411, acc: 85.36\n",
      "Epoch: [5 / 10], batches: [300 / 782], loss: 0.421, acc: 85.09\n",
      "Epoch: [5 / 10], batches: [400 / 782], loss: 0.432, acc: 85.20\n",
      "Epoch: [5 / 10], batches: [500 / 782], loss: 0.414, acc: 85.80\n",
      "Epoch: [5 / 10], batches: [600 / 782], loss: 0.412, acc: 85.98\n",
      "Epoch: [5 / 10], batches: [700 / 782], loss: 0.423, acc: 85.34\n",
      "Epoch: [6 / 10], batches: [100 / 782], loss: 0.322, acc: 88.95\n",
      "Epoch: [6 / 10], batches: [200 / 782], loss: 0.326, acc: 88.69\n",
      "Epoch: [6 / 10], batches: [300 / 782], loss: 0.368, acc: 87.06\n",
      "Epoch: [6 / 10], batches: [400 / 782], loss: 0.333, acc: 88.88\n",
      "Epoch: [6 / 10], batches: [500 / 782], loss: 0.353, acc: 87.55\n",
      "Epoch: [6 / 10], batches: [600 / 782], loss: 0.360, acc: 87.61\n",
      "Epoch: [6 / 10], batches: [700 / 782], loss: 0.344, acc: 87.16\n",
      "Epoch: [7 / 10], batches: [100 / 782], loss: 0.255, acc: 91.28\n",
      "Epoch: [7 / 10], batches: [200 / 782], loss: 0.264, acc: 91.05\n",
      "Epoch: [7 / 10], batches: [300 / 782], loss: 0.282, acc: 89.95\n",
      "Epoch: [7 / 10], batches: [400 / 782], loss: 0.299, acc: 89.50\n",
      "Epoch: [7 / 10], batches: [500 / 782], loss: 0.292, acc: 89.77\n",
      "Epoch: [7 / 10], batches: [600 / 782], loss: 0.282, acc: 89.61\n",
      "Epoch: [7 / 10], batches: [700 / 782], loss: 0.295, acc: 89.64\n",
      "Epoch: [8 / 10], batches: [100 / 782], loss: 0.213, acc: 92.48\n",
      "Epoch: [8 / 10], batches: [200 / 782], loss: 0.234, acc: 91.92\n",
      "Epoch: [8 / 10], batches: [300 / 782], loss: 0.231, acc: 91.66\n",
      "Epoch: [8 / 10], batches: [400 / 782], loss: 0.225, acc: 92.06\n",
      "Epoch: [8 / 10], batches: [500 / 782], loss: 0.257, acc: 90.72\n",
      "Epoch: [8 / 10], batches: [600 / 782], loss: 0.251, acc: 91.23\n",
      "Epoch: [8 / 10], batches: [700 / 782], loss: 0.269, acc: 90.81\n",
      "Epoch: [9 / 10], batches: [100 / 782], loss: 0.177, acc: 93.89\n",
      "Epoch: [9 / 10], batches: [200 / 782], loss: 0.166, acc: 94.02\n",
      "Epoch: [9 / 10], batches: [300 / 782], loss: 0.179, acc: 93.70\n",
      "Epoch: [9 / 10], batches: [400 / 782], loss: 0.195, acc: 92.97\n",
      "Epoch: [9 / 10], batches: [500 / 782], loss: 0.186, acc: 93.53\n",
      "Epoch: [9 / 10], batches: [600 / 782], loss: 0.187, acc: 93.70\n",
      "Epoch: [9 / 10], batches: [700 / 782], loss: 0.202, acc: 92.88\n",
      "Epoch: [10 / 10], batches: [100 / 782], loss: 0.154, acc: 94.45\n",
      "Epoch: [10 / 10], batches: [200 / 782], loss: 0.131, acc: 95.88\n",
      "Epoch: [10 / 10], batches: [300 / 782], loss: 0.161, acc: 94.44\n",
      "Epoch: [10 / 10], batches: [400 / 782], loss: 0.145, acc: 94.91\n",
      "Epoch: [10 / 10], batches: [500 / 782], loss: 0.165, acc: 93.97\n",
      "Epoch: [10 / 10], batches: [600 / 782], loss: 0.165, acc: 94.31\n",
      "Epoch: [10 / 10], batches: [700 / 782], loss: 0.185, acc: 93.28\n",
      "Finished Training\n",
      "Accuracy of the network on the 10000 test images: 81 %\n"
     ]
    }
   ],
   "source": [
    "'''\n",
    "Implement here\n",
    "'''\n",
    "class XLNet(nn.Module):\n",
    "    def __init__(self):\n",
    "        super().__init__()\n",
    "        '''\n",
    "        Implement here.\n",
    "        '''\n",
    "        # vanilla\n",
    "        # self.conv1 = nn.Conv2d(3,8,5,padding=2,bias=False)\n",
    "        # self.conv2 = nn.Conv2d(8,16,5,padding=2,stride=2,bias=False)\n",
    "        # self.conv3 = nn.Conv2d(16,32,5,padding=2,bias=False)\n",
    "        # self.conv4 = nn.Conv2d(32,64,5,padding=2,stride=2,bias=False)\n",
    "        # self.conv5 = nn.Conv2d(64,128,5,padding=2,bias=False)\n",
    "        \n",
    "        # extra serving\n",
    "        # self.conv6 = nn.Conv2d(128,256,5,padding=2,stride=2,bias=False)\n",
    "        # self.conv7 = nn.Conv2d(256,512,5,padding=2,bias=False)\n",
    "\n",
    "        # no bias\n",
    "        # self.conv1 = nn.Conv2d(3,8,5,padding=2,bias=False)\n",
    "        # self.conv2 = nn.Conv2d(8,16,5,padding=2,stride=2,bias=False)\n",
    "        # self.conv3 = nn.Conv2d(16,32,5,padding=2,bias=False)\n",
    "        # self.conv4 = nn.Conv2d(32,64,5,padding=2,stride=2,bias=False)\n",
    "        # self.conv5 = nn.Conv2d(64,128,5,padding=2,bias=False)\n",
    "\n",
    "        # tripling\n",
    "        # self.conv1 = nn.Conv2d(3,8,5,padding=2)\n",
    "        # self.conv2 = nn.Conv2d(8,24,5,padding=2,stride=2)\n",
    "        # self.conv3 = nn.Conv2d(24,72,5,padding=2)\n",
    "        # self.conv4 = nn.Conv2d(72,216,5,padding=2,stride=2)\n",
    "        # self.conv5 = nn.Conv2d(216,648,5,padding=2)\n",
    "        \n",
    "        # double first layer\n",
    "        # self.conv1 = nn.Conv2d(3,16,5,padding=2,bias=False)\n",
    "        # self.conv2 = nn.Conv2d(32,32,5,padding=2,stride=2,bias=False)\n",
    "        # self.conv3 = nn.Conv2d(64,64,5,padding=2,bias=False)\n",
    "        # self.conv4 = nn.Conv2d(128,128,5,padding=2,stride=2,bias=False)\n",
    "        # self.conv5 = nn.Conv2d(256,256,5,padding=2,bias=False) \n",
    "        # self.conv6 = nn.Conv2d(256,512,5,padding=2,bias=False) \n",
    "        # self.conv7 = nn.Conv2d(512,1024,5,padding=2,bias=False)\n",
    "        \n",
    "        # 7*7 filter\n",
    "        # self.conv1 = nn.Conv2d(3,8,7,padding=3)\n",
    "        # self.conv2 = nn.Conv2d(8,16,7,padding=3,stride=2)\n",
    "        # self.conv3 = nn.Conv2d(16,32,7,padding=3)\n",
    "        # self.conv4 = nn.Conv2d(32,64,7,padding=3,stride=2)\n",
    "        # self.conv5 = nn.Conv2d(64,128,7,padding=3)\n",
    "\n",
    "        # hail mary\n",
    "        self.conv1 = nn.Conv2d(3,32,5,padding=2,bias=False)\n",
    "        self.conv2 = nn.Conv2d(32,64,5,padding=2,bias=False)\n",
    "        self.conv3 = nn.Conv2d(64,128,5,padding=2,bias=False)\n",
    "        self.conv4 = nn.Conv2d(128,256,5,padding=2,bias=False)\n",
    "        self.conv5 = nn.Conv2d(256,512,5,padding=2,bias=False)  \n",
    "\n",
    "        # self.conv6 = nn.Conv2d(256,512,5,padding=2,bias=False) \n",
    "        # self.conv7 = nn.Conv2d(512,1024,5,padding=2,bias=False) \n",
    "        \n",
    "\n",
    "        # Batch Normalisation\n",
    "        # self.bn1 = nn.BatchNorm2d(8)\n",
    "        # self.bn2 = nn.BatchNorm2d(16)\n",
    "        # self.bn3 = nn.BatchNorm2d(32)\n",
    "        # self.bn4 = nn.BatchNorm2d(64)\n",
    "        # self.bn5 = nn.BatchNorm2d(128)\n",
    "        \n",
    "        self.bn1 = nn.BatchNorm2d(32)\n",
    "        self.bn2 = nn.BatchNorm2d(64)\n",
    "        self.bn3 = nn.BatchNorm2d(128)\n",
    "        self.bn4 = nn.BatchNorm2d(256)\n",
    "        self.bn5 = nn.BatchNorm2d(512)\n",
    "\n",
    "        self.d = nn.Dropout(.2)\n",
    "        self.max5 = nn.MaxPool2d(5)\n",
    "        self.max3 = nn.MaxPool2d(3)\n",
    "        self.max2 = nn.MaxPool2d(2)\n",
    "        # self.avgpool = nn.AvgPool2d(5)\n",
    "        self.fc0 = nn.Linear(512, 120)\n",
    "        # self.fc1 = nn.Linear(128, 120)\n",
    "        self.fc1 = nn.Linear(128, 120)\n",
    "        # self.fc1 = nn.Linear(2048, 120)\n",
    "        self.fc2 = nn.Linear(120, 84)\n",
    "        self.fc3 = nn.Linear(84, 10)\n",
    "        self.fc = nn.Linear(120, 10)\n",
    "\n",
    "    def forward(self, x):\n",
    "        '''\n",
    "        Implement here\n",
    "        '''\n",
    "        x = F.relu(self.bn1(self.conv1(x)))\n",
    "        x=self.d(x)\n",
    "        x = F.relu(self.bn2(self.conv2(x)))\n",
    "        x=self.d(x)\n",
    "        x = F.relu(self.max2(x))\n",
    "\n",
    "        x = F.relu(self.bn3(self.conv3(x)))\n",
    "        x=self.d(x)\n",
    "        x = F.relu(self.bn4(self.conv4(x)))\n",
    "        x=self.d(x)\n",
    "        x = F.relu(self.max2(x))\n",
    "        x = F.relu(self.bn5(self.conv5(x)))\n",
    "        x=self.d(x)\n",
    "        # x = F.relu(self.bn6(self.conv6(x)))\n",
    "        \n",
    "        # x = self.bn7(self.conv7(x))\n",
    "        # x = self.bn6(self.conv5(x))\n",
    "\n",
    "\n",
    "        x = F.relu(self.max5(x))\n",
    "\n",
    "        # x = F.relu(self.bn6(self.conv6(x)))\n",
    "        # x = F.relu(self.bn7(self.conv7(x)))\n",
    "        # x = self.bn6(self.conv5(x))\n",
    "        # x = F.relu(self.max2(x))\n",
    "\n",
    "\n",
    "        x = torch.flatten(x, 1)\n",
    "        # x = F.relu(self.fc1(x))\n",
    "        # x = F.relu(self.fc2(x))\n",
    "        # x = self.fc3(x)\n",
    "        x = F.relu(self.fc0(x))\n",
    "        x = self.fc(x)\n",
    "        # x = self.fc1(x)\n",
    "        return x\n",
    "\n",
    "my_net = XLNet()\n",
    "train(my_net, trainloader, get_optimizer(my_net, 0.01), 10, False)\n",
    "test(my_net, testloader)\n",
    "\n",
    "save_model(my_net,'./checkpoints/deliverable_net.pth')"
   ]
  },
  {
   "cell_type": "code",
   "execution_count": null,
   "metadata": {
    "tags": []
   },
   "outputs": [],
   "source": [
    "# net = NeuralNet()\n",
    "# load_model(net, './checkpoints/xl_net.pth')\n",
    "test(my_net, testloader)\n",
    "# class_test(my_net, testloader)\n",
    "writer.close()"
   ]
  },
  {
   "cell_type": "markdown",
   "metadata": {},
   "source": [
    "###### Good Job!"
   ]
  }
 ],
 "metadata": {
  "kernelspec": {
   "display_name": "kernel_for_pytorch",
   "language": "python",
   "name": "kernel_for_pytorch"
  },
  "language_info": {
   "codemirror_mode": {
    "name": "ipython",
    "version": 3
   },
   "file_extension": ".py",
   "mimetype": "text/x-python",
   "name": "python",
   "nbconvert_exporter": "python",
   "pygments_lexer": "ipython3",
   "version": "3.11.10"
  }
 },
 "nbformat": 4,
 "nbformat_minor": 4
}
