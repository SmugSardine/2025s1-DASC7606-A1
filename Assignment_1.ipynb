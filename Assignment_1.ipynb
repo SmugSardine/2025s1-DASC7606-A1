{
 "cells": [
  {
   "cell_type": "markdown",
   "metadata": {},
   "source": [
    "Assignmnet 1: Image Classification with Neural Networks\n",
    "=====================\n",
    "\n",
    "Data in Deep Learning\n",
    "----------------\n",
    "\n",
    "Generally, when you have to deal with image, text, audio or video data,\n",
    "you can use standard python packages that load data into a numpy array.\n",
    "Then you can convert this array into a ``torch.*Tensor``.\n",
    "\n",
    "-  For images, packages such as Pillow, OpenCV are useful\n",
    "-  For audio, packages such as scipy and librosa\n",
    "-  For text, either raw Python or Cython based loading, or NLTK and\n",
    "   SpaCy are useful\n",
    "\n",
    "Specifically for vision, we have created a package called\n",
    "``torchvision``, that has data loaders for common datasets such as\n",
    "ImageNet, CIFAR10, MNIST, etc. and data transformers for images, viz.,\n",
    "``torchvision.datasets`` and ``torch.utils.data.DataLoader``.\n",
    "\n",
    "This provides a huge convenience and avoids writing boilerplate code.\n",
    "\n",
    "For this assignment, we will use the CIFAR10 dataset.\n",
    "\n",
    "It has the classes: \n",
    "\n",
    "‘airplane’, ‘automobile’, ‘bird’, ‘cat’, ‘deer’,\n",
    "‘dog’, ‘frog’, ‘horse’, ‘ship’, ‘truck’. \n",
    "\n",
    "The images in CIFAR-10 are of size 3x32x32, i.e. 3-channel color images of 32x32 pixels in size.\n",
    "\n",
    "\n",
    "Training an image classifier\n",
    "----------------------------\n",
    "\n",
    "We will do the following steps in order:\n",
    "\n",
    "1. Load and normalize the CIFAR10 training and test datasets using\n",
    "   ``torchvision``\n",
    "2. Define a Convolutional Neural Network\n",
    "3. Define a loss function\n",
    "4. Train the network on the training data\n",
    "5. Test the network on the test data\n",
    "\n",
    "1. Load and normalize CIFAR10\n",
    "\n",
    "\n",
    "Using ``torchvision``, it’s extremely easy to load CIFAR10.\n",
    "\n"
   ]
  },
  {
   "cell_type": "code",
   "execution_count": 151,
   "metadata": {
    "tags": []
   },
   "outputs": [],
   "source": [
    "import torch\n",
    "import torchvision\n",
    "import torchvision.transforms as transforms\n",
    "from torch.utils.tensorboard import SummaryWriter\n",
    "writer = SummaryWriter()"
   ]
  },
  {
   "cell_type": "markdown",
   "metadata": {},
   "source": [
    "## Training on GPU?"
   ]
  },
  {
   "cell_type": "code",
   "execution_count": 152,
   "metadata": {
    "tags": []
   },
   "outputs": [
    {
     "name": "stdout",
     "output_type": "stream",
     "text": [
      "cuda:0\n"
     ]
    }
   ],
   "source": [
    "device = torch.device(\"cuda:0\" if torch.cuda.is_available() else \"cpu\")\n",
    "\n",
    "# Assuming that we are on a CUDA machine, this should print a CUDA device:\n",
    "print(device)"
   ]
  },
  {
   "cell_type": "markdown",
   "metadata": {},
   "source": [
    "The rest of this section assumes that ``device`` is a CUDA device."
   ]
  },
  {
   "cell_type": "markdown",
   "metadata": {},
   "source": [
    "## Define the dataset and dataloader\n",
    "\n",
    "The output of torchvision datasets are PILImage images of range [0, 1].\n",
    "We transform them to Tensors of normalized range [-1, 1].\n",
    "\n"
   ]
  },
  {
   "cell_type": "code",
   "execution_count": 153,
   "metadata": {
    "tags": []
   },
   "outputs": [
    {
     "name": "stdout",
     "output_type": "stream",
     "text": [
      "Files already downloaded and verified\n",
      "Files already downloaded and verified\n",
      "Files already downloaded and verified\n",
      "Files already downloaded and verified\n"
     ]
    }
   ],
   "source": [
    "transform = transforms.Compose(\n",
    "    [transforms.ToTensor(),\n",
    "     transforms.Normalize((0.5, 0.5, 0.5), (0.5, 0.5, 0.5))])\n",
    "\n",
    "batch_size = 64\n",
    "\n",
    "def get_vis_loader():\n",
    "    transform = transforms.Compose(\n",
    "    [transforms.ToTensor(),\n",
    "     transforms.Normalize((0.5, 0.5, 0.5), (0.5, 0.5, 0.5))])\n",
    "\n",
    "    trainset = torchvision.datasets.CIFAR10(root='./data', train=True,\n",
    "                                            download=True, transform=transform)\n",
    "    trainloader = torch.utils.data.DataLoader(trainset, batch_size=4,\n",
    "                                              shuffle=True, num_workers=2)\n",
    "    testset = torchvision.datasets.CIFAR10(root='./data', train=False,\n",
    "                                           download=True, transform=transform)\n",
    "    testloader = torch.utils.data.DataLoader(testset, batch_size=4,\n",
    "                                             shuffle=False, num_workers=2)\n",
    "    return trainloader, testloader\n",
    "\n",
    "def get_train_loader(batch_size, transform):\n",
    "    trainset = torchvision.datasets.CIFAR10(root='./data', train=True,\n",
    "                                            download=True, transform=transform)\n",
    "    trainloader = torch.utils.data.DataLoader(trainset, batch_size=batch_size,\n",
    "                                              shuffle=True, num_workers=2)\n",
    "    return trainloader\n",
    "    \n",
    "def get_test_loader(batch_size, transform):\n",
    "    testset = torchvision.datasets.CIFAR10(root='./data', train=False,\n",
    "                                           download=True, transform=transform)\n",
    "    testloader = torch.utils.data.DataLoader(testset, batch_size=batch_size,\n",
    "                                             shuffle=False, num_workers=2)\n",
    "    return testloader\n",
    "    \n",
    "classes = ('plane', 'car', 'bird', 'cat',\n",
    "           'deer', 'dog', 'frog', 'horse', 'ship', 'truck')\n",
    "\n",
    "vistrainloader, vistestloader = get_vis_loader()\n",
    "trainloader = get_train_loader(batch_size, transform)\n",
    "testloader = get_test_loader(batch_size, transform)"
   ]
  },
  {
   "cell_type": "markdown",
   "metadata": {},
   "source": [
    "## Visualization\n",
    "\n",
    "Let us show some of the training images, for fun.\n",
    "\n"
   ]
  },
  {
   "cell_type": "code",
   "execution_count": 154,
   "metadata": {
    "tags": []
   },
   "outputs": [
    {
     "data": {
      "image/png": "[encoded data removed]",
      "text/plain": [
       "<Figure size 640x480 with 1 Axes>"
      ]
     },
     "metadata": {},
     "output_type": "display_data"
    },
    {
     "name": "stdout",
     "output_type": "stream",
     "text": [
      "  dog   dog  frog   dog\n"
     ]
    }
   ],
   "source": [
    "import matplotlib.pyplot as plt\n",
    "import numpy as np\n",
    "\n",
    "# functions to show an image\n",
    "def imshow(img):\n",
    "    img = img / 2 + 0.5     # unnormalize\n",
    "    npimg = img.numpy()\n",
    "    plt.imshow(np.transpose(npimg, (1, 2, 0)))\n",
    "    plt.show()\n",
    "\n",
    "# get some random training images\n",
    "dataiter = iter(vistrainloader)\n",
    "images, labels = next(dataiter)\n",
    "\n",
    "# show images\n",
    "imshow(torchvision.utils.make_grid(images))\n",
    "# print labels\n",
    "print(' '.join('%5s' % classes[labels[j]] for j in range(4)))"
   ]
  },
  {
   "cell_type": "markdown",
   "metadata": {},
   "source": [
    "## Define a Neural Network"
   ]
  },
  {
   "cell_type": "code",
   "execution_count": 155,
   "metadata": {
    "tags": []
   },
   "outputs": [],
   "source": [
    "import torch.nn as nn\n",
    "import torch.nn.functional as F\n",
    "\n",
    "class NeuralNet(nn.Module):\n",
    "    def __init__(self):\n",
    "        super().__init__()\n",
    "        self.fc1 = nn.Linear(3*32*32, 128)\n",
    "        self.fc2 = nn.Linear(128, 256)\n",
    "        self.fc3 = nn.Linear(256, 512)\n",
    "        self.fc4 = nn.Linear(512, 10)\n",
    "\n",
    "    def forward(self, x):\n",
    "        x = torch.flatten(x, 1) # flatten all dimensions except batch\n",
    "        x = F.relu(self.fc1(x))\n",
    "        x = F.relu(self.fc2(x))\n",
    "        x = F.relu(self.fc3(x))\n",
    "        x = self.fc4(x)\n",
    "        return x\n",
    "\n",
    "fc_net = NeuralNet()"
   ]
  },
  {
   "cell_type": "markdown",
   "metadata": {},
   "source": [
    "## Define a Loss function and optimizer\n",
    "\n",
    "Let's use a Classification Cross-Entropy loss and SGD with momentum.\n",
    "\n"
   ]
  },
  {
   "cell_type": "code",
   "execution_count": 156,
   "metadata": {
    "tags": []
   },
   "outputs": [],
   "source": [
    "import torch.optim as optim\n",
    "\n",
    "def get_optimizer(net, lr=0.01,m=0.9):\n",
    "    optimizer = optim.SGD(net.parameters(), lr=lr, momentum=m)\n",
    "    return optimizer\n",
    "\n",
    "def accuracy(output, target):\n",
    "    # get the index of the max log-probability\n",
    "    pred = output.max(1, keepdim=True)[1]\n",
    "    return pred.eq(target.view_as(pred)).float().mean()\n",
    "\n",
    "criterion = nn.CrossEntropyLoss()\n",
    "optimizer = get_optimizer(fc_net, 0.01)"
   ]
  },
  {
   "cell_type": "markdown",
   "metadata": {},
   "source": [
    "## Define training code"
   ]
  },
  {
   "cell_type": "code",
   "execution_count": 157,
   "metadata": {
    "tags": []
   },
   "outputs": [],
   "source": [
    "def forward_step(net, inputs, labels):\n",
    "    outputs = net(inputs)\n",
    "    loss = criterion(outputs, labels)\n",
    "    return outputs, loss, labels\n",
    "\n",
    "\n",
    "def train(net, loader, optimizer, max_epoch):\n",
    "    net.to(device)\n",
    "    net.train()\n",
    "    N = len(loader)\n",
    "    print_interval = (N // 8 // 100 + 1) * 100\n",
    "    for epoch in range(max_epoch):  # loop over the dataset multiple times\n",
    "        running_loss = 0.0\n",
    "        running_acc = 0.0\n",
    "        for i, data in enumerate(loader, 0):\n",
    "            # get the inputs; data is a list of [inputs, labels]\n",
    "            images, labels = data[0].to(device), data[1].to(device) \n",
    "\n",
    "            # zero the parameter gradients\n",
    "            optimizer.zero_grad()\n",
    "\n",
    "            # forward + backward + optimize\n",
    "            outputs, loss, labels = forward_step(net, images, labels)\n",
    "            loss.backward()\n",
    "            optimizer.step()\n",
    "\n",
    "            # print statistics\n",
    "            running_loss += loss.item()\n",
    "            running_acc += accuracy(outputs, labels).item()\n",
    "            if (i + 1) % print_interval == 0:\n",
    "                print('Epoch: [%d / %d], batches: [%d / %d], loss: %.3f, acc: %.2f' %\n",
    "                      (epoch + 1, max_epoch, i + 1, N, \n",
    "                       running_loss / print_interval, 100 * running_acc / print_interval))\n",
    "                writer.add_scalar(\"Loss/train\", running_loss, epoch+1) # tensorboard\n",
    "\n",
    "                running_loss = 0.0\n",
    "                running_acc = 0.0\n",
    "    print('Finished Training')\n",
    "    writer.flush()"
   ]
  },
  {
   "cell_type": "markdown",
   "metadata": {},
   "source": [
    "## Train the network\n",
    "\n",
    "This is when things start to get interesting.\n",
    "We simply have to loop over our data iterator, and feed the inputs to the\n",
    "network and optimize.\n",
    "\n"
   ]
  },
  {
   "cell_type": "code",
   "execution_count": 7,
   "metadata": {
    "tags": []
   },
   "outputs": [
    {
     "name": "stdout",
     "output_type": "stream",
     "text": [
      "Epoch: [1 / 5], batches: [100 / 782], loss: 2.190, acc: 19.33\n",
      "Epoch: [1 / 5], batches: [200 / 782], loss: 1.903, acc: 31.48\n",
      "Epoch: [1 / 5], batches: [300 / 782], loss: 1.788, acc: 35.53\n",
      "Epoch: [1 / 5], batches: [400 / 782], loss: 1.701, acc: 39.14\n",
      "Epoch: [1 / 5], batches: [500 / 782], loss: 1.674, acc: 40.11\n",
      "Epoch: [1 / 5], batches: [600 / 782], loss: 1.624, acc: 41.05\n",
      "Epoch: [1 / 5], batches: [700 / 782], loss: 1.618, acc: 41.98\n",
      "Epoch: [2 / 5], batches: [100 / 782], loss: 1.509, acc: 45.84\n",
      "Epoch: [2 / 5], batches: [200 / 782], loss: 1.535, acc: 45.92\n",
      "Epoch: [2 / 5], batches: [300 / 782], loss: 1.490, acc: 46.70\n",
      "Epoch: [2 / 5], batches: [400 / 782], loss: 1.505, acc: 46.09\n",
      "Epoch: [2 / 5], batches: [500 / 782], loss: 1.505, acc: 46.94\n",
      "Epoch: [2 / 5], batches: [600 / 782], loss: 1.440, acc: 49.66\n",
      "Epoch: [2 / 5], batches: [700 / 782], loss: 1.449, acc: 48.64\n",
      "Epoch: [3 / 5], batches: [100 / 782], loss: 1.367, acc: 51.56\n",
      "Epoch: [3 / 5], batches: [200 / 782], loss: 1.361, acc: 51.19\n",
      "Epoch: [3 / 5], batches: [300 / 782], loss: 1.360, acc: 52.17\n",
      "Epoch: [3 / 5], batches: [400 / 782], loss: 1.381, acc: 51.00\n",
      "Epoch: [3 / 5], batches: [500 / 782], loss: 1.347, acc: 52.05\n",
      "Epoch: [3 / 5], batches: [600 / 782], loss: 1.351, acc: 52.44\n",
      "Epoch: [3 / 5], batches: [700 / 782], loss: 1.357, acc: 51.77\n",
      "Epoch: [4 / 5], batches: [100 / 782], loss: 1.277, acc: 54.62\n",
      "Epoch: [4 / 5], batches: [200 / 782], loss: 1.285, acc: 54.14\n",
      "Epoch: [4 / 5], batches: [300 / 782], loss: 1.256, acc: 55.08\n",
      "Epoch: [4 / 5], batches: [400 / 782], loss: 1.290, acc: 53.88\n",
      "Epoch: [4 / 5], batches: [500 / 782], loss: 1.295, acc: 54.23\n",
      "Epoch: [4 / 5], batches: [600 / 782], loss: 1.279, acc: 54.08\n",
      "Epoch: [4 / 5], batches: [700 / 782], loss: 1.289, acc: 54.66\n",
      "Epoch: [5 / 5], batches: [100 / 782], loss: 1.189, acc: 57.39\n",
      "Epoch: [5 / 5], batches: [200 / 782], loss: 1.215, acc: 57.34\n",
      "Epoch: [5 / 5], batches: [300 / 782], loss: 1.212, acc: 56.83\n",
      "Epoch: [5 / 5], batches: [400 / 782], loss: 1.210, acc: 56.70\n",
      "Epoch: [5 / 5], batches: [500 / 782], loss: 1.199, acc: 56.84\n",
      "Epoch: [5 / 5], batches: [600 / 782], loss: 1.206, acc: 56.80\n",
      "Epoch: [5 / 5], batches: [700 / 782], loss: 1.206, acc: 57.09\n",
      "Finished Training\n"
     ]
    }
   ],
   "source": [
    "train(fc_net, trainloader, optimizer, 5)"
   ]
  },
  {
   "cell_type": "markdown",
   "metadata": {},
   "source": [
    "## Let's quickly save our trained model:\n",
    "\n"
   ]
  },
  {
   "cell_type": "code",
   "execution_count": 8,
   "metadata": {
    "tags": []
   },
   "outputs": [],
   "source": [
    "PATH = './checkpoints/cifar_net.pth'\n",
    "\n",
    "def save_model(net, path):\n",
    "    torch.save(net.state_dict(), path)\n",
    "    \n",
    "save_model(fc_net, PATH)"
   ]
  },
  {
   "cell_type": "markdown",
   "metadata": {},
   "source": [
    "## Test the network on the test data\n",
    "\n",
    "\n",
    "We have trained the network for 2 passes over the training dataset.\n",
    "But we need to check if the network has learnt anything at all.\n",
    "\n",
    "We will check this by predicting the class label that the neural network\n",
    "outputs, and checking it against the ground-truth. If the prediction is\n",
    "correct, we add the sample to the list of correct predictions.\n",
    "\n",
    "Okay, first step. Let us display an image from the test set to get familiar.\n",
    "\n"
   ]
  },
  {
   "cell_type": "code",
   "execution_count": 12,
   "metadata": {
    "tags": []
   },
   "outputs": [
    {
     "data": {
      "image/png": "[encoded data removed]",
      "text/plain": [
       "<Figure size 640x480 with 1 Axes>"
      ]
     },
     "metadata": {},
     "output_type": "display_data"
    },
    {
     "name": "stdout",
     "output_type": "stream",
     "text": [
      "GroundTruth:    cat  ship  ship plane\n"
     ]
    }
   ],
   "source": [
    "dataiter = iter(vistestloader)\n",
    "images, labels = next(dataiter)\n",
    "\n",
    "# print images\n",
    "imshow(torchvision.utils.make_grid(images))\n",
    "print('GroundTruth: ', ' '.join('%5s' % classes[labels[j]] for j in range(4)))"
   ]
  },
  {
   "cell_type": "markdown",
   "metadata": {},
   "source": [
    "## Load a model\n",
    "Next, let's load back in our saved model (note: saving and re-loading the model\n",
    "wasn't necessary here, we only did it to illustrate how to do so):\n",
    "\n"
   ]
  },
  {
   "cell_type": "code",
   "execution_count": 13,
   "metadata": {
    "tags": []
   },
   "outputs": [
    {
     "name": "stderr",
     "output_type": "stream",
     "text": [
      "C:\\Users\\LZh\\AppData\\Local\\Temp\\ipykernel_26172\\338259489.py:4: FutureWarning: You are using `torch.load` with `weights_only=False` (the current default value), which uses the default pickle module implicitly. It is possible to construct malicious pickle data which will execute arbitrary code during unpickling (See https://github.com/pytorch/pytorch/blob/main/SECURITY.md#untrusted-models for more details). In a future release, the default value for `weights_only` will be flipped to `True`. This limits the functions that could be executed during unpickling. Arbitrary objects will no longer be allowed to be loaded via this mode unless they are explicitly allowlisted by the user via `torch.serialization.add_safe_globals`. We recommend you start setting `weights_only=True` for any use case where you don't have full control of the loaded file. Please open an issue on GitHub for any issues related to this experimental feature.\n",
      "  net.load_state_dict(torch.load(path))\n"
     ]
    }
   ],
   "source": [
    "net = NeuralNet()\n",
    "\n",
    "def load_model(net, path):\n",
    "    net.load_state_dict(torch.load(path))\n",
    "    \n",
    "load_model(net, PATH)"
   ]
  },
  {
   "cell_type": "markdown",
   "metadata": {},
   "source": [
    "Okay, now let us see what the neural network thinks these examples above are:\n",
    "\n"
   ]
  },
  {
   "cell_type": "code",
   "execution_count": 14,
   "metadata": {},
   "outputs": [],
   "source": [
    "outputs = net(images)"
   ]
  },
  {
   "cell_type": "markdown",
   "metadata": {},
   "source": [
    "The outputs are energies for the 10 classes.\n",
    "The higher the energy for a class, the more the network\n",
    "thinks that the image is of the particular class.\n",
    "So, let's get the index of the highest energy:\n",
    "\n"
   ]
  },
  {
   "cell_type": "code",
   "execution_count": 15,
   "metadata": {},
   "outputs": [
    {
     "name": "stdout",
     "output_type": "stream",
     "text": [
      "Predicted:    cat truck  ship horse\n"
     ]
    }
   ],
   "source": [
    "_, predicted = torch.max(outputs, 1)\n",
    "\n",
    "print('Predicted: ', ' '.join('%5s' % classes[predicted[j]]\n",
    "                              for j in range(4)))"
   ]
  },
  {
   "cell_type": "markdown",
   "metadata": {},
   "source": [
    "## Define testing code"
   ]
  },
  {
   "cell_type": "code",
   "execution_count": 16,
   "metadata": {},
   "outputs": [],
   "source": [
    "def test(net, testloader):\n",
    "    correct = 0\n",
    "    total = 0\n",
    "    net.to(device)\n",
    "    net.eval()\n",
    "    # since we're not training, we don't need to calculate the gradients for our outputs\n",
    "    with torch.no_grad():\n",
    "        for data in testloader:\n",
    "            images, labels = data[0].to(device), data[1].to(device)\n",
    "            # calculate outputs by running images through the network\n",
    "            outputs = net(images)\n",
    "            # the class with the highest energy is what we choose as prediction\n",
    "            _, predicted = torch.max(outputs.data, 1)\n",
    "            total += labels.size(0)\n",
    "            correct += (predicted == labels).sum().item()\n",
    "\n",
    "    print('Accuracy of the network on the 10000 test images: %d %%' % (\n",
    "        100 * correct / total))"
   ]
  },
  {
   "cell_type": "code",
   "execution_count": 17,
   "metadata": {},
   "outputs": [
    {
     "name": "stdout",
     "output_type": "stream",
     "text": [
      "Accuracy of the network on the 10000 test images: 52 %\n"
     ]
    }
   ],
   "source": [
    "test(net, testloader)"
   ]
  },
  {
   "cell_type": "markdown",
   "metadata": {},
   "source": [
    "## See accuracy of each class\n",
    "\n",
    "That looks way better than chance, which is 10% accuracy (randomly picking\n",
    "a class out of 10 classes).\n",
    "Seems like the network learnt something.\n",
    "\n",
    "Hmmm, what are the classes that performed well, and the classes that did\n",
    "not perform well:\n",
    "\n"
   ]
  },
  {
   "cell_type": "code",
   "execution_count": 19,
   "metadata": {},
   "outputs": [],
   "source": [
    "def class_test(net, testloader):\n",
    "    # prepare to count predictions for each class\n",
    "    correct_pred = {classname: 0 for classname in classes}\n",
    "    total_pred = {classname: 0 for classname in classes}\n",
    "    \n",
    "    net.to(device)\n",
    "    net.eval()\n",
    "    # again no gradients needed\n",
    "    with torch.no_grad():\n",
    "        for data in testloader:\n",
    "            images, labels = data[0].to(device), data[1].to(device)  \n",
    "            outputs = net(images)    \n",
    "            _, predictions = torch.max(outputs, 1)\n",
    "            # collect the correct predictions for each class\n",
    "            for label, prediction in zip(labels, predictions):\n",
    "                if label == prediction:\n",
    "                    correct_pred[classes[label]] += 1\n",
    "                total_pred[classes[label]] += 1\n",
    "\n",
    "\n",
    "    # print accuracy for each class\n",
    "    for classname, correct_count in correct_pred.items():\n",
    "        acc = 100 * float(correct_count) / total_pred[classname]\n",
    "        print(\"Accuracy for class {:5s} is: {:.1f} %\".format(classname, \n",
    "                                                       acc))"
   ]
  },
  {
   "cell_type": "code",
   "execution_count": 20,
   "metadata": {},
   "outputs": [
    {
     "name": "stdout",
     "output_type": "stream",
     "text": [
      "Accuracy for class plane is: 49.9 %\n",
      "Accuracy for class car   is: 59.2 %\n",
      "Accuracy for class bird  is: 34.8 %\n",
      "Accuracy for class cat   is: 31.4 %\n",
      "Accuracy for class deer  is: 37.1 %\n",
      "Accuracy for class dog   is: 40.0 %\n",
      "Accuracy for class frog  is: 71.7 %\n",
      "Accuracy for class horse is: 58.7 %\n",
      "Accuracy for class ship  is: 70.1 %\n",
      "Accuracy for class truck is: 67.2 %\n"
     ]
    }
   ],
   "source": [
    "class_test(net, testloader)"
   ]
  },
  {
   "cell_type": "markdown",
   "metadata": {},
   "source": [
    "# Your turn now!"
   ]
  },
  {
   "cell_type": "markdown",
   "metadata": {},
   "source": [
    "## Define a Convolutional Neural Network\n",
    "\n",
    "The architecture should be:\n",
    "\n",
    "    conv2d, 5x5, 3->8, padding=2\n",
    "\n",
    "    Relu()\n",
    "\n",
    "    conv2d, 5x5, 8->16, padding=2, stride=2\n",
    "\n",
    "    Relu()\n",
    "\n",
    "    conv2d, 5x5, 16->32, padding=2\n",
    "    \n",
    "    Relu()\n",
    "\n",
    "    conv2d, 5x5, 32->64, padding=2, stride=2\n",
    "    \n",
    "    Relu()\n",
    "\n",
    "    conv2d, 5x5, 64->128, padding=2\n",
    "\n",
    "    maxpool2d\n",
    "\n",
    "    Relu()\n",
    "\n",
    "    flatten the feature map\n",
    "\n",
    "    fc, the whole feature map -> 120\n",
    "\n",
    "    Relu()\n",
    "\n",
    "    fc, 120->84\n",
    "\n",
    "    Relu()\n",
    "\n",
    "    fc, 84->10\n",
    "    "
   ]
  },
  {
   "cell_type": "code",
   "execution_count": 21,
   "metadata": {},
   "outputs": [],
   "source": [
    "import torch.nn as nn\n",
    "import torch.nn.functional as F\n",
    "\n",
    "\n",
    "class ConvolutionNet(nn.Module):\n",
    "    def __init__(self):\n",
    "        super().__init__()\n",
    "        '''\n",
    "        Implement here\n",
    "        '''\n",
    "        self.conv1 = nn.Conv2d(3,8,5,padding=2)\n",
    "        self.conv2 = nn.Conv2d(8,16,5,padding=2,stride=2)\n",
    "        self.conv3 = nn.Conv2d(16,32,5,padding=2)\n",
    "        self.conv4 = nn.Conv2d(32,64,5,padding=2,stride=2)\n",
    "        self.conv5 = nn.Conv2d(64,128,5,padding=2)\n",
    "        self.maxpool = nn.MaxPool2d(5)\n",
    "        self.fc1 = nn.Linear(128, 120)\n",
    "        self.fc2 = nn.Linear(120, 84)\n",
    "        self.fc3 = nn.Linear(84, 10)\n",
    "\n",
    "    def forward(self, x):\n",
    "        '''\n",
    "        Implement here\n",
    "        '''\n",
    "        x = F.relu(self.conv1(x))\n",
    "        x = F.relu(self.conv2(x))\n",
    "        x = F.relu(self.conv3(x))\n",
    "        x = F.relu(self.conv4(x))\n",
    "        x = self.conv5(x)\n",
    "        x = F.relu(self.maxpool(x))\n",
    "        x = torch.flatten(x, 1)\n",
    "        x = F.relu(self.fc1(x))\n",
    "        x = F.relu(self.fc2(x))\n",
    "        x = self.fc3(x)\n",
    "        return x\n",
    "\n",
    "conv_net = ConvolutionNet()"
   ]
  },
  {
   "cell_type": "markdown",
   "metadata": {},
   "source": [
    "## Train the convolutional neural network\n",
    "\n",
    "Train this CNN with learning rate 1e-2 for 5 epochs.\n",
    "\n",
    "You should see the training loss is aroung 0.9 and accuracy is around 67%."
   ]
  },
  {
   "cell_type": "code",
   "execution_count": 22,
   "metadata": {},
   "outputs": [
    {
     "name": "stdout",
     "output_type": "stream",
     "text": [
      "Epoch: [1 / 5], batches: [100 / 782], loss: 2.303, acc: 10.06\n",
      "Epoch: [1 / 5], batches: [200 / 782], loss: 2.303, acc: 10.62\n",
      "Epoch: [1 / 5], batches: [300 / 782], loss: 2.302, acc: 10.62\n",
      "Epoch: [1 / 5], batches: [400 / 782], loss: 2.295, acc: 12.42\n",
      "Epoch: [1 / 5], batches: [500 / 782], loss: 2.213, acc: 17.52\n",
      "Epoch: [1 / 5], batches: [600 / 782], loss: 2.101, acc: 20.75\n",
      "Epoch: [1 / 5], batches: [700 / 782], loss: 2.014, acc: 24.67\n",
      "Epoch: [2 / 5], batches: [100 / 782], loss: 1.832, acc: 31.69\n",
      "Epoch: [2 / 5], batches: [200 / 782], loss: 1.752, acc: 34.31\n",
      "Epoch: [2 / 5], batches: [300 / 782], loss: 1.704, acc: 37.45\n",
      "Epoch: [2 / 5], batches: [400 / 782], loss: 1.626, acc: 40.28\n",
      "Epoch: [2 / 5], batches: [500 / 782], loss: 1.585, acc: 41.30\n",
      "Epoch: [2 / 5], batches: [600 / 782], loss: 1.583, acc: 42.66\n",
      "Epoch: [2 / 5], batches: [700 / 782], loss: 1.535, acc: 44.03\n",
      "Epoch: [3 / 5], batches: [100 / 782], loss: 1.431, acc: 48.11\n",
      "Epoch: [3 / 5], batches: [200 / 782], loss: 1.436, acc: 47.53\n",
      "Epoch: [3 / 5], batches: [300 / 782], loss: 1.424, acc: 47.95\n",
      "Epoch: [3 / 5], batches: [400 / 782], loss: 1.388, acc: 49.33\n",
      "Epoch: [3 / 5], batches: [500 / 782], loss: 1.353, acc: 51.02\n",
      "Epoch: [3 / 5], batches: [600 / 782], loss: 1.331, acc: 51.81\n",
      "Epoch: [3 / 5], batches: [700 / 782], loss: 1.273, acc: 54.45\n",
      "Epoch: [4 / 5], batches: [100 / 782], loss: 1.212, acc: 56.42\n",
      "Epoch: [4 / 5], batches: [200 / 782], loss: 1.207, acc: 56.02\n",
      "Epoch: [4 / 5], batches: [300 / 782], loss: 1.183, acc: 57.84\n",
      "Epoch: [4 / 5], batches: [400 / 782], loss: 1.184, acc: 58.30\n",
      "Epoch: [4 / 5], batches: [500 / 782], loss: 1.126, acc: 60.75\n",
      "Epoch: [4 / 5], batches: [600 / 782], loss: 1.133, acc: 58.77\n",
      "Epoch: [4 / 5], batches: [700 / 782], loss: 1.131, acc: 60.64\n",
      "Epoch: [5 / 5], batches: [100 / 782], loss: 1.028, acc: 64.22\n",
      "Epoch: [5 / 5], batches: [200 / 782], loss: 1.045, acc: 63.30\n",
      "Epoch: [5 / 5], batches: [300 / 782], loss: 1.041, acc: 63.20\n",
      "Epoch: [5 / 5], batches: [400 / 782], loss: 1.030, acc: 63.62\n",
      "Epoch: [5 / 5], batches: [500 / 782], loss: 0.993, acc: 64.80\n",
      "Epoch: [5 / 5], batches: [600 / 782], loss: 1.014, acc: 64.64\n",
      "Epoch: [5 / 5], batches: [700 / 782], loss: 0.984, acc: 65.95\n",
      "Finished Training\n"
     ]
    }
   ],
   "source": [
    "'''\n",
    "Implement here, use the train function provided.\n",
    "'''\n",
    "train(conv_net, trainloader, get_optimizer(conv_net, 0.01), 5)"
   ]
  },
  {
   "cell_type": "markdown",
   "metadata": {},
   "source": [
    "## Test the convolutional neural network\n",
    "\n",
    "Test this CNN on the test dataset.\n",
    "\n",
    "You should see the accuracy is around 62%."
   ]
  },
  {
   "cell_type": "code",
   "execution_count": 23,
   "metadata": {},
   "outputs": [
    {
     "name": "stdout",
     "output_type": "stream",
     "text": [
      "Accuracy of the network on the 10000 test images: 64 %\n"
     ]
    }
   ],
   "source": [
    "'''\n",
    "Implement here, use the test function provided.\n",
    "'''\n",
    "test(conv_net, testloader)"
   ]
  },
  {
   "cell_type": "markdown",
   "metadata": {},
   "source": [
    "## Accuracy (each class) of CNN\n",
    "\n",
    "Test this CNN on the test dataset to see the accuracy of each class."
   ]
  },
  {
   "cell_type": "code",
   "execution_count": 24,
   "metadata": {},
   "outputs": [
    {
     "name": "stdout",
     "output_type": "stream",
     "text": [
      "Accuracy for class plane is: 64.9 %\n",
      "Accuracy for class car   is: 80.6 %\n",
      "Accuracy for class bird  is: 56.6 %\n",
      "Accuracy for class cat   is: 51.4 %\n",
      "Accuracy for class deer  is: 50.1 %\n",
      "Accuracy for class dog   is: 54.4 %\n",
      "Accuracy for class frog  is: 66.6 %\n",
      "Accuracy for class horse is: 69.4 %\n",
      "Accuracy for class ship  is: 80.4 %\n",
      "Accuracy for class truck is: 73.6 %\n"
     ]
    }
   ],
   "source": [
    "'''\n",
    "Implemente here, use the class_test function provided.\n",
    "'''\n",
    "class_test(conv_net, testloader)"
   ]
  },
  {
   "cell_type": "markdown",
   "metadata": {},
   "source": [
    "## Let's use BN\n",
    "\n",
    "Add BatchNorm2d to the convolution neural network you implemented.\n",
    "\n",
    "You should add batchnorm after the convolution operator and before the activation layer.\n",
    "\n",
    "Please train this network and show the test accuracy."
   ]
  },
  {
   "cell_type": "code",
   "execution_count": 139,
   "metadata": {},
   "outputs": [],
   "source": [
    "class ConvolutionBNNet(nn.Module):\n",
    "    def __init__(self):\n",
    "        super().__init__()\n",
    "        '''\n",
    "        Implement here.\n",
    "        '''\n",
    "        self.conv1 = nn.Conv2d(3,8,5,padding=2)\n",
    "        self.conv2 = nn.Conv2d(8,16,5,padding=2,stride=2)\n",
    "        self.conv3 = nn.Conv2d(16,32,5,padding=2)\n",
    "        self.conv4 = nn.Conv2d(32,64,5,padding=2,stride=2)\n",
    "        self.conv5 = nn.Conv2d(64,128,5,padding=2)\n",
    "        # Batch Normalisation\n",
    "        self.bn1 = nn.BatchNorm2d(8)\n",
    "        self.bn2 = nn.BatchNorm2d(16)\n",
    "        self.bn3 = nn.BatchNorm2d(32)\n",
    "        self.bn4 = nn.BatchNorm2d(64)\n",
    "        self.bn5 = nn.BatchNorm2d(128)\n",
    "\n",
    "\n",
    "        self.maxpool = nn.MaxPool2d(5)\n",
    "        self.fc1 = nn.Linear(128, 120)\n",
    "        self.fc2 = nn.Linear(120, 84)\n",
    "        self.fc3 = nn.Linear(84, 10)\n",
    "\n",
    "    def forward(self, x):\n",
    "        '''\n",
    "        Implement here\n",
    "        '''\n",
    "        x = F.relu(self.bn1(self.conv1(x)))\n",
    "        x = F.relu(self.bn2(self.conv2(x)))\n",
    "        x = F.relu(self.bn3(self.conv3(x)))\n",
    "        x = F.relu(self.bn4(self.conv4(x)))\n",
    "        x = self.bn5(self.conv5(x))\n",
    "        x = F.relu(self.maxpool(x))\n",
    "        x = torch.flatten(x, 1)\n",
    "        x = F.relu(self.fc1(x))\n",
    "        x = F.relu(self.fc2(x))\n",
    "        x = self.fc3(x)\n",
    "        return x\n",
    "\n",
    "bn_conv_net = ConvolutionBNNet()"
   ]
  },
  {
   "cell_type": "markdown",
   "metadata": {},
   "source": [
    "## Train the CNN with BN\n",
    "\n",
    "Train this CNN with learning rate 1e-2 for 5 epochs."
   ]
  },
  {
   "cell_type": "code",
   "execution_count": 140,
   "metadata": {},
   "outputs": [
    {
     "name": "stdout",
     "output_type": "stream",
     "text": [
      "Epoch: [1 / 5], batches: [100 / 782], loss: 2.005, acc: 24.61\n",
      "Epoch: [1 / 5], batches: [200 / 782], loss: 1.693, acc: 35.95\n",
      "Epoch: [1 / 5], batches: [300 / 782], loss: 1.529, acc: 43.50\n",
      "Epoch: [1 / 5], batches: [400 / 782], loss: 1.450, acc: 46.94\n",
      "Epoch: [1 / 5], batches: [500 / 782], loss: 1.358, acc: 50.06\n",
      "Epoch: [1 / 5], batches: [600 / 782], loss: 1.337, acc: 51.69\n",
      "Epoch: [1 / 5], batches: [700 / 782], loss: 1.236, acc: 55.66\n",
      "Epoch: [2 / 5], batches: [100 / 782], loss: 1.153, acc: 58.36\n",
      "Epoch: [2 / 5], batches: [200 / 782], loss: 1.091, acc: 60.78\n",
      "Epoch: [2 / 5], batches: [300 / 782], loss: 1.058, acc: 61.55\n",
      "Epoch: [2 / 5], batches: [400 / 782], loss: 1.020, acc: 63.20\n",
      "Epoch: [2 / 5], batches: [500 / 782], loss: 1.005, acc: 64.30\n",
      "Epoch: [2 / 5], batches: [600 / 782], loss: 0.987, acc: 64.39\n",
      "Epoch: [2 / 5], batches: [700 / 782], loss: 0.947, acc: 67.03\n",
      "Epoch: [3 / 5], batches: [100 / 782], loss: 0.847, acc: 70.52\n",
      "Epoch: [3 / 5], batches: [200 / 782], loss: 0.854, acc: 68.83\n",
      "Epoch: [3 / 5], batches: [300 / 782], loss: 0.854, acc: 69.86\n",
      "Epoch: [3 / 5], batches: [400 / 782], loss: 0.797, acc: 71.42\n",
      "Epoch: [3 / 5], batches: [500 / 782], loss: 0.831, acc: 70.86\n",
      "Epoch: [3 / 5], batches: [600 / 782], loss: 0.819, acc: 71.36\n",
      "Epoch: [3 / 5], batches: [700 / 782], loss: 0.774, acc: 73.09\n",
      "Epoch: [4 / 5], batches: [100 / 782], loss: 0.653, acc: 76.73\n",
      "Epoch: [4 / 5], batches: [200 / 782], loss: 0.679, acc: 76.03\n",
      "Epoch: [4 / 5], batches: [300 / 782], loss: 0.671, acc: 76.80\n",
      "Epoch: [4 / 5], batches: [400 / 782], loss: 0.685, acc: 76.30\n",
      "Epoch: [4 / 5], batches: [500 / 782], loss: 0.695, acc: 75.88\n",
      "Epoch: [4 / 5], batches: [600 / 782], loss: 0.701, acc: 75.94\n",
      "Epoch: [4 / 5], batches: [700 / 782], loss: 0.679, acc: 76.23\n",
      "Epoch: [5 / 5], batches: [100 / 782], loss: 0.571, acc: 79.77\n",
      "Epoch: [5 / 5], batches: [200 / 782], loss: 0.570, acc: 80.28\n",
      "Epoch: [5 / 5], batches: [300 / 782], loss: 0.581, acc: 80.09\n",
      "Epoch: [5 / 5], batches: [400 / 782], loss: 0.587, acc: 79.50\n",
      "Epoch: [5 / 5], batches: [500 / 782], loss: 0.571, acc: 80.28\n",
      "Epoch: [5 / 5], batches: [600 / 782], loss: 0.567, acc: 80.33\n",
      "Epoch: [5 / 5], batches: [700 / 782], loss: 0.585, acc: 79.94\n",
      "Finished Training\n"
     ]
    }
   ],
   "source": [
    "'''\n",
    "Implement here\n",
    "'''\n",
    "train(bn_conv_net, trainloader, get_optimizer(bn_conv_net, 0.01), 5)\n"
   ]
  },
  {
   "cell_type": "markdown",
   "metadata": {},
   "source": [
    "## Test the CNN with BN\n",
    "\n",
    "Test this CNN on the test dataset."
   ]
  },
  {
   "cell_type": "code",
   "execution_count": 141,
   "metadata": {},
   "outputs": [
    {
     "name": "stdout",
     "output_type": "stream",
     "text": [
      "Accuracy of the network on the 10000 test images: 73 %\n"
     ]
    }
   ],
   "source": [
    "'''\n",
    "Implement here\n",
    "'''\n",
    "test(bn_conv_net, testloader)\n"
   ]
  },
  {
   "cell_type": "markdown",
   "metadata": {},
   "source": []
  },
  {
   "cell_type": "markdown",
   "metadata": {},
   "source": [
    "## Accuracy (each class) of CNN with BN\n",
    "\n",
    "Test this CNN with BNN on the test dataset to see the accuracy of each class."
   ]
  },
  {
   "cell_type": "code",
   "execution_count": 29,
   "metadata": {},
   "outputs": [
    {
     "name": "stdout",
     "output_type": "stream",
     "text": [
      "Accuracy for class plane is: 73.6 %\n",
      "Accuracy for class car   is: 79.8 %\n",
      "Accuracy for class bird  is: 65.1 %\n",
      "Accuracy for class cat   is: 50.5 %\n",
      "Accuracy for class deer  is: 72.8 %\n",
      "Accuracy for class dog   is: 71.0 %\n",
      "Accuracy for class frog  is: 74.1 %\n",
      "Accuracy for class horse is: 80.4 %\n",
      "Accuracy for class ship  is: 79.6 %\n",
      "Accuracy for class truck is: 85.6 %\n"
     ]
    }
   ],
   "source": [
    "'''\n",
    "Implement here, use the class_test function provided.\n",
    "'''\n",
    "class_test(bn_conv_net, testloader)\n"
   ]
  },
  {
   "cell_type": "markdown",
   "metadata": {},
   "source": [
    "## Design by yourself\n",
    "Now, based on the knowledge learned in class or by referring to online resources, you can design your own network architecture or incorporate other optimization methods to improve task performance. Please provide at least one improvement strategy."
   ]
  },
  {
   "cell_type": "code",
   "execution_count": 295,
   "metadata": {},
   "outputs": [
    {
     "name": "stdout",
     "output_type": "stream",
     "text": [
      "Epoch: [1 / 5], batches: [100 / 782], loss: 1.765, acc: 34.98\n",
      "Epoch: [1 / 5], batches: [200 / 782], loss: 1.499, acc: 43.45\n",
      "Epoch: [1 / 5], batches: [300 / 782], loss: 1.366, acc: 50.02\n",
      "Epoch: [1 / 5], batches: [400 / 782], loss: 1.202, acc: 56.14\n",
      "Epoch: [1 / 5], batches: [500 / 782], loss: 1.097, acc: 60.73\n",
      "Epoch: [1 / 5], batches: [600 / 782], loss: 0.997, acc: 65.19\n",
      "Epoch: [1 / 5], batches: [700 / 782], loss: 0.958, acc: 67.05\n",
      "Epoch: [2 / 5], batches: [100 / 782], loss: 0.817, acc: 71.69\n",
      "Epoch: [2 / 5], batches: [200 / 782], loss: 0.744, acc: 74.14\n",
      "Epoch: [2 / 5], batches: [300 / 782], loss: 0.740, acc: 74.53\n",
      "Epoch: [2 / 5], batches: [400 / 782], loss: 0.746, acc: 74.11\n",
      "Epoch: [2 / 5], batches: [500 / 782], loss: 0.708, acc: 75.02\n",
      "Epoch: [2 / 5], batches: [600 / 782], loss: 0.684, acc: 76.09\n",
      "Epoch: [2 / 5], batches: [700 / 782], loss: 0.670, acc: 77.09\n",
      "Epoch: [3 / 5], batches: [100 / 782], loss: 0.543, acc: 80.92\n",
      "Epoch: [3 / 5], batches: [200 / 782], loss: 0.553, acc: 81.06\n",
      "Epoch: [3 / 5], batches: [300 / 782], loss: 0.516, acc: 82.25\n",
      "Epoch: [3 / 5], batches: [400 / 782], loss: 0.531, acc: 81.23\n",
      "Epoch: [3 / 5], batches: [500 / 782], loss: 0.547, acc: 81.69\n",
      "Epoch: [3 / 5], batches: [600 / 782], loss: 0.511, acc: 82.53\n",
      "Epoch: [3 / 5], batches: [700 / 782], loss: 0.506, acc: 82.50\n",
      "Epoch: [4 / 5], batches: [100 / 782], loss: 0.410, acc: 86.00\n",
      "Epoch: [4 / 5], batches: [200 / 782], loss: 0.375, acc: 86.91\n",
      "Epoch: [4 / 5], batches: [300 / 782], loss: 0.391, acc: 86.02\n",
      "Epoch: [4 / 5], batches: [400 / 782], loss: 0.390, acc: 86.56\n",
      "Epoch: [4 / 5], batches: [500 / 782], loss: 0.393, acc: 86.56\n",
      "Epoch: [4 / 5], batches: [600 / 782], loss: 0.418, acc: 85.53\n",
      "Epoch: [4 / 5], batches: [700 / 782], loss: 0.382, acc: 86.58\n",
      "Epoch: [5 / 5], batches: [100 / 782], loss: 0.260, acc: 91.20\n",
      "Epoch: [5 / 5], batches: [200 / 782], loss: 0.254, acc: 91.47\n",
      "Epoch: [5 / 5], batches: [300 / 782], loss: 0.252, acc: 91.20\n",
      "Epoch: [5 / 5], batches: [400 / 782], loss: 0.296, acc: 90.08\n",
      "Epoch: [5 / 5], batches: [500 / 782], loss: 0.284, acc: 90.53\n",
      "Epoch: [5 / 5], batches: [600 / 782], loss: 0.296, acc: 89.84\n",
      "Epoch: [5 / 5], batches: [700 / 782], loss: 0.299, acc: 89.38\n",
      "Finished Training\n"
     ]
    }
   ],
   "source": [
    "'''\n",
    "Implement here\n",
    "'''\n",
    "class XLNet(nn.Module):\n",
    "    def __init__(self):\n",
    "        super().__init__()\n",
    "        '''\n",
    "        Implement here.\n",
    "        '''\n",
    "        # vanilla\n",
    "        # self.conv1 = nn.Conv2d(3,8,5,padding=2,bias=False)\n",
    "        # self.conv2 = nn.Conv2d(8,16,5,padding=2,bias=False)\n",
    "        # self.conv3 = nn.Conv2d(16,32,5,padding=2,bias=False)\n",
    "        # self.conv4 = nn.Conv2d(32,64,5,padding=2,bias=False)\n",
    "        # self.conv5 = nn.Conv2d(64,128,5,padding=2,bias=False)\n",
    "        # extra serving\n",
    "        # self.conv6 = nn.Conv2d(128,256,5,padding=2,stride=2,bias=False)\n",
    "        # self.conv7 = nn.Conv2d(256,512,5,padding=2,bias=False)\n",
    "\n",
    "        # no bias\n",
    "        # self.conv1 = nn.Conv2d(3,8,5,padding=2,bias=False)\n",
    "        # self.conv2 = nn.Conv2d(8,16,5,padding=2,stride=2,bias=False)\n",
    "        # self.conv3 = nn.Conv2d(16,32,5,padding=2,bias=False)\n",
    "        # self.conv4 = nn.Conv2d(32,64,5,padding=2,stride=2,bias=False)\n",
    "        # self.conv5 = nn.Conv2d(64,128,5,padding=2,bias=False)\n",
    "\n",
    "        # tripling\n",
    "        # self.conv1 = nn.Conv2d(3,8,5,padding=2)\n",
    "        # self.conv2 = nn.Conv2d(8,24,5,padding=2,stride=2)\n",
    "        # self.conv3 = nn.Conv2d(24,72,5,padding=2)\n",
    "        # self.conv4 = nn.Conv2d(72,216,5,padding=2,stride=2)\n",
    "        # self.conv5 = nn.Conv2d(216,648,5,padding=2)\n",
    "\n",
    "        # double first layer\n",
    "        # self.conv1 = nn.Conv2d(3,16,5,padding=2,bias=False)\n",
    "        # self.conv2 = nn.Conv2d(16,32,5,padding=2,bias=False)\n",
    "        # self.conv3 = nn.Conv2d(32,64,5,padding=2,bias=False)\n",
    "        # self.conv4 = nn.Conv2d(64,128,5,padding=2,bias=False)\n",
    "        # self.conv5 = nn.Conv2d(128,256,5,padding=2,bias=False) \n",
    "        # self.conv6 = nn.Conv2d(256,512,5,padding=2,bias=False) \n",
    "        # self.conv7 = nn.Conv2d(512,1024,5,padding=2,bias=False) \n",
    "\n",
    "        # hail mary\n",
    "        self.conv1 = nn.Conv2d(3,24,5,padding=2,bias=False)\n",
    "        self.conv2 = nn.Conv2d(24,72,5,padding=2,bias=False)\n",
    "        self.conv3 = nn.Conv2d(72,144,5,padding=2,bias=False)\n",
    "        self.conv4 = nn.Conv2d(144,432,5,padding=2,bias=False)\n",
    "        self.conv5 = nn.Conv2d(432,864,5,padding=2,bias=False) \n",
    "\n",
    "        # self.conv1 = nn.Conv2d(3,12,5,padding=2,bias=False)\n",
    "        # self.conv2 = nn.Conv2d(12,36,5,padding=2,bias=False)\n",
    "        # self.conv3 = nn.Conv2d(36,108,5,padding=2,bias=False)\n",
    "        # self.conv4 = nn.Conv2d(108,324,5,padding=2,bias=False)\n",
    "        # self.conv5 = nn.Conv2d(324,972,5,padding=2,bias=False) \n",
    "\n",
    "        # self.conv6 = nn.Conv2d(256,512,5,padding=2,bias=False) \n",
    "        # self.conv7 = nn.Conv2d(512,1024,5,padding=2,bias=False) \n",
    "\n",
    "        # 3*3 filter\n",
    "        # self.conv1 = nn.Conv2d(3,8,3,padding=1)\n",
    "        # self.conv2 = nn.Conv2d(8,16,3,padding=1,stride=2)\n",
    "        # self.conv3 = nn.Conv2d(16,32,3,padding=1)\n",
    "        # self.conv4 = nn.Conv2d(32,64,3,padding=1,stride=2)\n",
    "        # self.conv5 = nn.Conv2d(64,128,3,padding=1)\n",
    "        \n",
    "\n",
    "        # Batch Normalisation\n",
    "        self.bn1 = nn.BatchNorm2d(8)\n",
    "        self.bn2 = nn.BatchNorm2d(16)\n",
    "        self.bn3 = nn.BatchNorm2d(32)\n",
    "        self.bn4 = nn.BatchNorm2d(64)\n",
    "        self.bn5 = nn.BatchNorm2d(128)\n",
    "        self.bn6 = nn.BatchNorm2d(256)\n",
    "        self.bn7 = nn.BatchNorm2d(512)\n",
    "        self.bn8 = nn.BatchNorm2d(1024)\n",
    "        self.bn1t = nn.BatchNorm2d(24)\n",
    "        \n",
    "        self.bn2t = nn.BatchNorm2d(72)\n",
    "        self.bn3t = nn.BatchNorm2d(144)\n",
    "        self.bn4t = nn.BatchNorm2d(432)\n",
    "        self.bn5t = nn.BatchNorm2d(864)\n",
    "\n",
    "        self.d = nn.Dropout(.2)\n",
    "        self.max5 = nn.MaxPool2d(5)\n",
    "        self.max3 = nn.MaxPool2d(3)\n",
    "        self.max2 = nn.MaxPool2d(2)\n",
    "        # self.avgpool = nn.AvgPool2d(5)\n",
    "        self.fc0 = nn.Linear(864, 120)\n",
    "        self.fc1 = nn.Linear(128, 120)\n",
    "        # self.fc1 = nn.Linear(648, 120)\n",
    "        # self.fc1 = nn.Linear(2048, 120)\n",
    "        self.fc2 = nn.Linear(120, 84)\n",
    "        self.fc1_2 = nn.Linear(128, 84)\n",
    "        self.fc3 = nn.Linear(84, 10)\n",
    "        self.fc = nn.Linear(120, 10)\n",
    "\n",
    "    def forward(self, x):\n",
    "        '''\n",
    "        Implement here\n",
    "        '''\n",
    "        # x = F.relu(self.bn1(self.conv1(x)))\n",
    "\n",
    "        # x=self.d(x)\n",
    "        # x = F.relu(self.bn2(self.conv2(x)))\n",
    "        # x = F.relu(self.max2(x))\n",
    "\n",
    "        # x = F.relu(self.bn3(self.conv3(x)))\n",
    "\n",
    "        # x = F.relu(self.bn4(self.conv4(x)))\n",
    "        # x = F.relu(self.max2(x))\n",
    "\n",
    "        # x = F.relu(self.bn5(self.conv5(x)))\n",
    "\n",
    "        # x = F.relu(self.bn6(self.conv6(x)))\n",
    "        \n",
    "        # x = self.bn7(self.conv7(x))\n",
    "        # x = self.bn6(self.conv5(x))\n",
    "        \n",
    "\n",
    "        x = F.relu(self.bn1t(self.conv1(x)))\n",
    "        # x=self.d(x)\n",
    "        x = F.relu(self.bn2t(self.conv2(x)))\n",
    "        x = F.relu(self.max2(x))\n",
    "\n",
    "\n",
    "        x = F.relu(self.bn3t(self.conv3(x)))\n",
    "        x = F.relu(self.bn4t(self.conv4(x)))\n",
    "        x = F.relu(self.max2(x))\n",
    "        x = F.relu(self.bn5t(self.conv5(x)))\n",
    "        x = F.relu(self.max5(x))\n",
    "\n",
    "        # x = F.relu(self.bn6(self.conv6(x)))\n",
    "        # x = F.relu(self.bn7(self.conv7(x)))\n",
    "        # x = self.bn6(self.conv5(x))\n",
    "        # x = F.relu(self.max2(x))\n",
    "\n",
    "        # x=self.lf(self.l3(self.l2(self.l1(x))))\n",
    "\n",
    "        x = torch.flatten(x, 1)\n",
    "        x = F.relu(self.fc0(x))\n",
    "        # x = F.relu(self.fc1(x))\n",
    "        # x = F.relu(self.fc2(x))\n",
    "        # x = F.relu(self.fc1_2(x))\n",
    "        # x = self.fc3(x)\n",
    "        x = self.fc(x)\n",
    "        return x\n",
    "\n",
    "my_net = XLNet()\n",
    "train(my_net, trainloader, get_optimizer(my_net, 0.01), 5)\n",
    "save_model(my_net,'./checkpoints/xl_net.pth')"
   ]
  },
  {
   "cell_type": "code",
   "execution_count": 296,
   "metadata": {},
   "outputs": [
    {
     "name": "stdout",
     "output_type": "stream",
     "text": [
      "Accuracy of the network on the 10000 test images: 80 %\n"
     ]
    }
   ],
   "source": [
    "# net = NeuralNet()\n",
    "# load_model(net, './checkpoints/xl_net.pth')\n",
    "test(my_net, testloader)\n",
    "# class_test(my_net, testloader)\n",
    "writer.close()"
   ]
  },
  {
   "cell_type": "markdown",
   "metadata": {},
   "source": [
    "## Good Job!"
   ]
  }
 ],
 "metadata": {
  "kernelspec": {
   "display_name": "base",
   "language": "python",
   "name": "python3"
  },
  "language_info": {
   "codemirror_mode": {
    "name": "ipython",
    "version": 3
   },
   "file_extension": ".py",
   "mimetype": "text/x-python",
   "name": "python",
   "nbconvert_exporter": "python",
   "pygments_lexer": "ipython3",
   "version": "3.12.7"
  }
 },
 "nbformat": 4,
 "nbformat_minor": 4
}
