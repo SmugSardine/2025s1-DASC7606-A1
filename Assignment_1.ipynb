{
 "cells": [
  {
   "cell_type": "markdown",
   "metadata": {},
   "source": [
    "Assignmnet 1: Image Classification with Neural Networks\n",
    "=====================\n",
    "\n",
    "Data in Deep Learning\n",
    "----------------\n",
    "\n",
    "Generally, when you have to deal with image, text, audio or video data,\n",
    "you can use standard python packages that load data into a numpy array.\n",
    "Then you can convert this array into a ``torch.*Tensor``.\n",
    "\n",
    "-  For images, packages such as Pillow, OpenCV are useful\n",
    "-  For audio, packages such as scipy and librosa\n",
    "-  For text, either raw Python or Cython based loading, or NLTK and\n",
    "   SpaCy are useful\n",
    "\n",
    "Specifically for vision, we have created a package called\n",
    "``torchvision``, that has data loaders for common datasets such as\n",
    "ImageNet, CIFAR10, MNIST, etc. and data transformers for images, viz.,\n",
    "``torchvision.datasets`` and ``torch.utils.data.DataLoader``.\n",
    "\n",
    "This provides a huge convenience and avoids writing boilerplate code.\n",
    "\n",
    "For this assignment, we will use the CIFAR10 dataset.\n",
    "\n",
    "It has the classes: \n",
    "\n",
    "‘airplane’, ‘automobile’, ‘bird’, ‘cat’, ‘deer’,\n",
    "‘dog’, ‘frog’, ‘horse’, ‘ship’, ‘truck’. \n",
    "\n",
    "The images in CIFAR-10 are of size 3x32x32, i.e. 3-channel color images of 32x32 pixels in size.\n",
    "\n",
    "\n",
    "Training an image classifier\n",
    "----------------------------\n",
    "\n",
    "We will do the following steps in order:\n",
    "\n",
    "1. Load and normalize the CIFAR10 training and test datasets using\n",
    "   ``torchvision``\n",
    "2. Define a Convolutional Neural Network\n",
    "3. Define a loss function\n",
    "4. Train the network on the training data\n",
    "5. Test the network on the test data\n",
    "\n",
    "1. Load and normalize CIFAR10\n",
    "\n",
    "\n",
    "Using ``torchvision``, it’s extremely easy to load CIFAR10.\n",
    "\n"
   ]
  },
  {
   "cell_type": "code",
   "execution_count": 1,
   "metadata": {
    "tags": []
   },
   "outputs": [],
   "source": [
    "import torch\n",
    "import torchvision\n",
    "import torchvision.transforms as transforms"
   ]
  },
  {
   "cell_type": "markdown",
   "metadata": {},
   "source": [
    "## Training on GPU?"
   ]
  },
  {
   "cell_type": "code",
   "execution_count": 2,
   "metadata": {
    "tags": []
   },
   "outputs": [
    {
     "name": "stdout",
     "output_type": "stream",
     "text": [
      "cuda:0\n"
     ]
    }
   ],
   "source": [
    "device = torch.device(\"cuda:0\" if torch.cuda.is_available() else \"cpu\")\n",
    "\n",
    "# Assuming that we are on a CUDA machine, this should print a CUDA device:\n",
    "print(device)"
   ]
  },
  {
   "cell_type": "markdown",
   "metadata": {},
   "source": [
    "The rest of this section assumes that ``device`` is a CUDA device."
   ]
  },
  {
   "cell_type": "markdown",
   "metadata": {},
   "source": [
    "## Define the dataset and dataloader\n",
    "\n",
    "The output of torchvision datasets are PILImage images of range [0, 1].\n",
    "We transform them to Tensors of normalized range [-1, 1].\n",
    "\n"
   ]
  },
  {
   "cell_type": "code",
   "execution_count": 3,
   "metadata": {
    "tags": []
   },
   "outputs": [
    {
     "name": "stdout",
     "output_type": "stream",
     "text": [
      "Files already downloaded and verified\n",
      "Files already downloaded and verified\n",
      "Files already downloaded and verified\n",
      "Files already downloaded and verified\n"
     ]
    }
   ],
   "source": [
    "transform = transforms.Compose(\n",
    "    [transforms.ToTensor(),\n",
    "     transforms.Normalize((0.5, 0.5, 0.5), (0.5, 0.5, 0.5))])\n",
    "\n",
    "batch_size = 64\n",
    "\n",
    "def get_vis_loader():\n",
    "    transform = transforms.Compose(\n",
    "    [transforms.ToTensor(),\n",
    "     transforms.Normalize((0.5, 0.5, 0.5), (0.5, 0.5, 0.5))])\n",
    "\n",
    "    trainset = torchvision.datasets.CIFAR10(root='./data', train=True,\n",
    "                                            download=True, transform=transform)\n",
    "    trainloader = torch.utils.data.DataLoader(trainset, batch_size=4,\n",
    "                                              shuffle=True, num_workers=2)\n",
    "    testset = torchvision.datasets.CIFAR10(root='./data', train=False,\n",
    "                                           download=True, transform=transform)\n",
    "    testloader = torch.utils.data.DataLoader(testset, batch_size=4,\n",
    "                                             shuffle=False, num_workers=2)\n",
    "    return trainloader, testloader\n",
    "\n",
    "def get_train_loader(batch_size, transform):\n",
    "    trainset = torchvision.datasets.CIFAR10(root='./data', train=True,\n",
    "                                            download=True, transform=transform)\n",
    "    trainloader = torch.utils.data.DataLoader(trainset, batch_size=batch_size,\n",
    "                                              shuffle=True, num_workers=2)\n",
    "    return trainloader\n",
    "    \n",
    "def get_test_loader(batch_size, transform):\n",
    "    testset = torchvision.datasets.CIFAR10(root='./data', train=False,\n",
    "                                           download=True, transform=transform)\n",
    "    testloader = torch.utils.data.DataLoader(testset, batch_size=batch_size,\n",
    "                                             shuffle=False, num_workers=2)\n",
    "    return testloader\n",
    "    \n",
    "classes = ('plane', 'car', 'bird', 'cat',\n",
    "           'deer', 'dog', 'frog', 'horse', 'ship', 'truck')\n",
    "\n",
    "vistrainloader, vistestloader = get_vis_loader()\n",
    "trainloader = get_train_loader(batch_size, transform)\n",
    "testloader = get_test_loader(batch_size, transform)"
   ]
  },
  {
   "cell_type": "markdown",
   "metadata": {},
   "source": [
    "## Visualization\n",
    "\n",
    "Let us show some of the training images, for fun.\n",
    "\n"
   ]
  },
  {
   "cell_type": "code",
   "execution_count": 4,
   "metadata": {
    "tags": []
   },
   "outputs": [
    {
     "data": {
      "image/png": "[encoded data removed]",
      "text/plain": [
       "<Figure size 640x480 with 1 Axes>"
      ]
     },
     "metadata": {},
     "output_type": "display_data"
    },
    {
     "name": "stdout",
     "output_type": "stream",
     "text": [
      "  dog   cat truck  bird\n"
     ]
    }
   ],
   "source": [
    "import matplotlib.pyplot as plt\n",
    "import numpy as np\n",
    "\n",
    "# functions to show an image\n",
    "def imshow(img):\n",
    "    img = img / 2 + 0.5     # unnormalize\n",
    "    npimg = img.numpy()\n",
    "    plt.imshow(np.transpose(npimg, (1, 2, 0)))\n",
    "    plt.show()\n",
    "\n",
    "# get some random training images\n",
    "dataiter = iter(vistrainloader)\n",
    "images, labels = next(dataiter)\n",
    "\n",
    "# show images\n",
    "imshow(torchvision.utils.make_grid(images))\n",
    "# print labels\n",
    "print(' '.join('%5s' % classes[labels[j]] for j in range(4)))"
   ]
  },
  {
   "cell_type": "markdown",
   "metadata": {},
   "source": [
    "## Define a Neural Network"
   ]
  },
  {
   "cell_type": "code",
   "execution_count": 5,
   "metadata": {
    "tags": []
   },
   "outputs": [],
   "source": [
    "import torch.nn as nn\n",
    "import torch.nn.functional as F\n",
    "\n",
    "class NeuralNet(nn.Module):\n",
    "    def __init__(self):\n",
    "        super().__init__()\n",
    "        self.fc1 = nn.Linear(3*32*32, 128)\n",
    "        self.fc2 = nn.Linear(128, 256)\n",
    "        self.fc3 = nn.Linear(256, 512)\n",
    "        self.fc4 = nn.Linear(512, 10)\n",
    "\n",
    "    def forward(self, x):\n",
    "        x = torch.flatten(x, 1) # flatten all dimensions except batch\n",
    "        x = F.relu(self.fc1(x))\n",
    "        x = F.relu(self.fc2(x))\n",
    "        x = F.relu(self.fc3(x))\n",
    "        x = self.fc4(x)\n",
    "        return x\n",
    "\n",
    "fc_net = NeuralNet()"
   ]
  },
  {
   "cell_type": "markdown",
   "metadata": {},
   "source": [
    "## Define a Loss function and optimizer\n",
    "\n",
    "Let's use a Classification Cross-Entropy loss and SGD with momentum.\n",
    "\n"
   ]
  },
  {
   "cell_type": "code",
   "execution_count": 6,
   "metadata": {
    "tags": []
   },
   "outputs": [],
   "source": [
    "import torch.optim as optim\n",
    "\n",
    "def get_optimizer(net, lr):\n",
    "    optimizer = optim.SGD(net.parameters(), lr=lr, momentum=0.9)\n",
    "    return optimizer\n",
    "\n",
    "def accuracy(output, target):\n",
    "    # get the index of the max log-probability\n",
    "    pred = output.max(1, keepdim=True)[1]\n",
    "    return pred.eq(target.view_as(pred)).float().mean()\n",
    "\n",
    "criterion = nn.CrossEntropyLoss()\n",
    "optimizer = get_optimizer(fc_net, 0.01)"
   ]
  },
  {
   "cell_type": "markdown",
   "metadata": {},
   "source": [
    "## Define training code"
   ]
  },
  {
   "cell_type": "code",
   "execution_count": 7,
   "metadata": {
    "tags": []
   },
   "outputs": [],
   "source": [
    "def forward_step(net, inputs, labels):\n",
    "    outputs = net(inputs)\n",
    "    loss = criterion(outputs, labels)\n",
    "    return outputs, loss, labels\n",
    "\n",
    "\n",
    "def train(net, loader, optimizer, max_epoch):\n",
    "    net.to(device)\n",
    "    net.train()\n",
    "    N = len(loader)\n",
    "    print_interval = (N // 8 // 100 + 1) * 100\n",
    "    for epoch in range(max_epoch):  # loop over the dataset multiple times\n",
    "\n",
    "        running_loss = 0.0\n",
    "        running_acc = 0.0\n",
    "        for i, data in enumerate(loader, 0):\n",
    "            # get the inputs; data is a list of [inputs, labels]\n",
    "            images, labels = data[0].to(device), data[1].to(device) \n",
    "\n",
    "            # zero the parameter gradients\n",
    "            optimizer.zero_grad()\n",
    "\n",
    "            # forward + backward + optimize\n",
    "            outputs, loss, labels = forward_step(net, images, labels)\n",
    "            loss.backward()\n",
    "            optimizer.step()\n",
    "\n",
    "            # print statistics\n",
    "            running_loss += loss.item()\n",
    "            running_acc += accuracy(outputs, labels).item()\n",
    "            if (i + 1) % print_interval == 0:\n",
    "                print('Epoch: [%d / %d], batches: [%d / %d], loss: %.3f, acc: %.2f' %\n",
    "                      (epoch + 1, max_epoch, i + 1, N, \n",
    "                       running_loss / print_interval, 100 * running_acc / print_interval))\n",
    "                running_loss = 0.0\n",
    "                running_acc = 0.0\n",
    "\n",
    "    print('Finished Training')"
   ]
  },
  {
   "cell_type": "markdown",
   "metadata": {},
   "source": [
    "## Train the network\n",
    "\n",
    "This is when things start to get interesting.\n",
    "We simply have to loop over our data iterator, and feed the inputs to the\n",
    "network and optimize.\n",
    "\n"
   ]
  },
  {
   "cell_type": "code",
   "execution_count": 8,
   "metadata": {
    "tags": []
   },
   "outputs": [
    {
     "name": "stdout",
     "output_type": "stream",
     "text": [
      "Epoch: [1 / 5], batches: [100 / 782], loss: 2.205, acc: 20.30\n",
      "Epoch: [1 / 5], batches: [200 / 782], loss: 1.925, acc: 30.31\n",
      "Epoch: [1 / 5], batches: [300 / 782], loss: 1.782, acc: 35.22\n",
      "Epoch: [1 / 5], batches: [400 / 782], loss: 1.740, acc: 38.25\n",
      "Epoch: [1 / 5], batches: [500 / 782], loss: 1.666, acc: 40.03\n",
      "Epoch: [1 / 5], batches: [600 / 782], loss: 1.618, acc: 41.78\n",
      "Epoch: [1 / 5], batches: [700 / 782], loss: 1.604, acc: 42.97\n",
      "Epoch: [2 / 5], batches: [100 / 782], loss: 1.523, acc: 45.80\n",
      "Epoch: [2 / 5], batches: [200 / 782], loss: 1.540, acc: 45.61\n",
      "Epoch: [2 / 5], batches: [300 / 782], loss: 1.503, acc: 46.80\n",
      "Epoch: [2 / 5], batches: [400 / 782], loss: 1.483, acc: 46.84\n",
      "Epoch: [2 / 5], batches: [500 / 782], loss: 1.459, acc: 47.70\n",
      "Epoch: [2 / 5], batches: [600 / 782], loss: 1.468, acc: 47.56\n",
      "Epoch: [2 / 5], batches: [700 / 782], loss: 1.452, acc: 48.84\n",
      "Epoch: [3 / 5], batches: [100 / 782], loss: 1.366, acc: 50.72\n",
      "Epoch: [3 / 5], batches: [200 / 782], loss: 1.365, acc: 51.64\n",
      "Epoch: [3 / 5], batches: [300 / 782], loss: 1.388, acc: 50.59\n",
      "Epoch: [3 / 5], batches: [400 / 782], loss: 1.388, acc: 51.30\n",
      "Epoch: [3 / 5], batches: [500 / 782], loss: 1.363, acc: 51.53\n",
      "Epoch: [3 / 5], batches: [600 / 782], loss: 1.376, acc: 51.59\n",
      "Epoch: [3 / 5], batches: [700 / 782], loss: 1.368, acc: 51.31\n",
      "Epoch: [4 / 5], batches: [100 / 782], loss: 1.271, acc: 55.47\n",
      "Epoch: [4 / 5], batches: [200 / 782], loss: 1.296, acc: 54.17\n",
      "Epoch: [4 / 5], batches: [300 / 782], loss: 1.275, acc: 54.41\n",
      "Epoch: [4 / 5], batches: [400 / 782], loss: 1.273, acc: 54.48\n",
      "Epoch: [4 / 5], batches: [500 / 782], loss: 1.277, acc: 54.05\n",
      "Epoch: [4 / 5], batches: [600 / 782], loss: 1.305, acc: 53.89\n",
      "Epoch: [4 / 5], batches: [700 / 782], loss: 1.295, acc: 54.62\n",
      "Epoch: [5 / 5], batches: [100 / 782], loss: 1.213, acc: 57.77\n",
      "Epoch: [5 / 5], batches: [200 / 782], loss: 1.195, acc: 57.31\n",
      "Epoch: [5 / 5], batches: [300 / 782], loss: 1.209, acc: 56.66\n",
      "Epoch: [5 / 5], batches: [400 / 782], loss: 1.199, acc: 57.41\n",
      "Epoch: [5 / 5], batches: [500 / 782], loss: 1.211, acc: 57.12\n",
      "Epoch: [5 / 5], batches: [600 / 782], loss: 1.228, acc: 56.59\n",
      "Epoch: [5 / 5], batches: [700 / 782], loss: 1.202, acc: 57.75\n",
      "Finished Training\n"
     ]
    }
   ],
   "source": [
    "train(fc_net, trainloader, optimizer, 5)"
   ]
  },
  {
   "cell_type": "markdown",
   "metadata": {},
   "source": [
    "## Let's quickly save our trained model:\n",
    "\n"
   ]
  },
  {
   "cell_type": "code",
   "execution_count": 9,
   "metadata": {
    "tags": []
   },
   "outputs": [],
   "source": [
    "PATH = './checkpoints/cifar_net.pth'\n",
    "\n",
    "def save_model(net, path):\n",
    "    torch.save(net.state_dict(), path)\n",
    "    \n",
    "save_model(fc_net, PATH)"
   ]
  },
  {
   "cell_type": "markdown",
   "metadata": {},
   "source": [
    "## Test the network on the test data\n",
    "\n",
    "\n",
    "We have trained the network for 2 passes over the training dataset.\n",
    "But we need to check if the network has learnt anything at all.\n",
    "\n",
    "We will check this by predicting the class label that the neural network\n",
    "outputs, and checking it against the ground-truth. If the prediction is\n",
    "correct, we add the sample to the list of correct predictions.\n",
    "\n",
    "Okay, first step. Let us display an image from the test set to get familiar.\n",
    "\n"
   ]
  },
  {
   "cell_type": "code",
   "execution_count": 10,
   "metadata": {
    "tags": []
   },
   "outputs": [
    {
     "data": {
      "image/png": "[encoded data removed]",
      "text/plain": [
       "<Figure size 640x480 with 1 Axes>"
      ]
     },
     "metadata": {},
     "output_type": "display_data"
    },
    {
     "name": "stdout",
     "output_type": "stream",
     "text": [
      "GroundTruth:    cat  ship  ship plane\n"
     ]
    }
   ],
   "source": [
    "dataiter = iter(vistestloader)\n",
    "images, labels = next(dataiter)\n",
    "\n",
    "# print images\n",
    "imshow(torchvision.utils.make_grid(images))\n",
    "print('GroundTruth: ', ' '.join('%5s' % classes[labels[j]] for j in range(4)))"
   ]
  },
  {
   "cell_type": "markdown",
   "metadata": {},
   "source": [
    "## Load a model\n",
    "Next, let's load back in our saved model (note: saving and re-loading the model\n",
    "wasn't necessary here, we only did it to illustrate how to do so):\n",
    "\n"
   ]
  },
  {
   "cell_type": "code",
   "execution_count": 11,
   "metadata": {
    "tags": []
   },
   "outputs": [
    {
     "name": "stderr",
     "output_type": "stream",
     "text": [
      "/tmp/.u3641195/ipykernel_3187161/338259489.py:4: FutureWarning: You are using `torch.load` with `weights_only=False` (the current default value), which uses the default pickle module implicitly. It is possible to construct malicious pickle data which will execute arbitrary code during unpickling (See https://github.com/pytorch/pytorch/blob/main/SECURITY.md#untrusted-models for more details). In a future release, the default value for `weights_only` will be flipped to `True`. This limits the functions that could be executed during unpickling. Arbitrary objects will no longer be allowed to be loaded via this mode unless they are explicitly allowlisted by the user via `torch.serialization.add_safe_globals`. We recommend you start setting `weights_only=True` for any use case where you don't have full control of the loaded file. Please open an issue on GitHub for any issues related to this experimental feature.\n",
      "  net.load_state_dict(torch.load(path))\n"
     ]
    }
   ],
   "source": [
    "net = NeuralNet()\n",
    "\n",
    "def load_model(net, path):\n",
    "    net.load_state_dict(torch.load(path))\n",
    "    \n",
    "load_model(net, PATH)"
   ]
  },
  {
   "cell_type": "markdown",
   "metadata": {},
   "source": [
    "Okay, now let us see what the neural network thinks these examples above are:\n",
    "\n"
   ]
  },
  {
   "cell_type": "code",
   "execution_count": 12,
   "metadata": {},
   "outputs": [],
   "source": [
    "outputs = net(images)"
   ]
  },
  {
   "cell_type": "markdown",
   "metadata": {},
   "source": [
    "The outputs are energies for the 10 classes.\n",
    "The higher the energy for a class, the more the network\n",
    "thinks that the image is of the particular class.\n",
    "So, let's get the index of the highest energy:\n",
    "\n"
   ]
  },
  {
   "cell_type": "code",
   "execution_count": 13,
   "metadata": {},
   "outputs": [
    {
     "name": "stdout",
     "output_type": "stream",
     "text": [
      "Predicted:    cat  ship plane horse\n"
     ]
    }
   ],
   "source": [
    "_, predicted = torch.max(outputs, 1)\n",
    "\n",
    "print('Predicted: ', ' '.join('%5s' % classes[predicted[j]]\n",
    "                              for j in range(4)))"
   ]
  },
  {
   "cell_type": "markdown",
   "metadata": {},
   "source": [
    "## Define testing code"
   ]
  },
  {
   "cell_type": "code",
   "execution_count": 14,
   "metadata": {},
   "outputs": [],
   "source": [
    "def test(net, testloader):\n",
    "    correct = 0\n",
    "    total = 0\n",
    "    net.to(device)\n",
    "    net.eval()\n",
    "    # since we're not training, we don't need to calculate the gradients for our outputs\n",
    "    with torch.no_grad():\n",
    "        for data in testloader:\n",
    "            images, labels = data[0].to(device), data[1].to(device)\n",
    "            # calculate outputs by running images through the network\n",
    "            outputs = net(images)\n",
    "            # the class with the highest energy is what we choose as prediction\n",
    "            _, predicted = torch.max(outputs.data, 1)\n",
    "            total += labels.size(0)\n",
    "            correct += (predicted == labels).sum().item()\n",
    "\n",
    "    print('Accuracy of the network on the 10000 test images: %d %%' % (\n",
    "        100 * correct / total))"
   ]
  },
  {
   "cell_type": "code",
   "execution_count": 15,
   "metadata": {},
   "outputs": [
    {
     "name": "stdout",
     "output_type": "stream",
     "text": [
      "Accuracy of the network on the 10000 test images: 52 %\n"
     ]
    }
   ],
   "source": [
    "test(net, testloader)"
   ]
  },
  {
   "cell_type": "markdown",
   "metadata": {},
   "source": [
    "## See accuracy of each class\n",
    "\n",
    "That looks way better than chance, which is 10% accuracy (randomly picking\n",
    "a class out of 10 classes).\n",
    "Seems like the network learnt something.\n",
    "\n",
    "Hmmm, what are the classes that performed well, and the classes that did\n",
    "not perform well:\n",
    "\n"
   ]
  },
  {
   "cell_type": "code",
   "execution_count": 16,
   "metadata": {},
   "outputs": [],
   "source": [
    "def class_test(net, testloader):\n",
    "    # prepare to count predictions for each class\n",
    "    correct_pred = {classname: 0 for classname in classes}\n",
    "    total_pred = {classname: 0 for classname in classes}\n",
    "    \n",
    "    net.to(device)\n",
    "    net.eval()\n",
    "    # again no gradients needed\n",
    "    with torch.no_grad():\n",
    "        for data in testloader:\n",
    "            images, labels = data[0].to(device), data[1].to(device)  \n",
    "            outputs = net(images)    \n",
    "            _, predictions = torch.max(outputs, 1)\n",
    "            # collect the correct predictions for each class\n",
    "            for label, prediction in zip(labels, predictions):\n",
    "                if label == prediction:\n",
    "                    correct_pred[classes[label]] += 1\n",
    "                total_pred[classes[label]] += 1\n",
    "\n",
    "\n",
    "    # print accuracy for each class\n",
    "    for classname, correct_count in correct_pred.items():\n",
    "        acc = 100 * float(correct_count) / total_pred[classname]\n",
    "        print(\"Accuracy for class {:5s} is: {:.1f} %\".format(classname, \n",
    "                                                       acc))"
   ]
  },
  {
   "cell_type": "code",
   "execution_count": 17,
   "metadata": {},
   "outputs": [
    {
     "name": "stdout",
     "output_type": "stream",
     "text": [
      "Accuracy for class plane is: 65.4 %\n",
      "Accuracy for class car   is: 62.4 %\n",
      "Accuracy for class bird  is: 36.8 %\n",
      "Accuracy for class cat   is: 44.2 %\n",
      "Accuracy for class deer  is: 45.9 %\n",
      "Accuracy for class dog   is: 35.5 %\n",
      "Accuracy for class frog  is: 51.7 %\n",
      "Accuracy for class horse is: 66.4 %\n",
      "Accuracy for class ship  is: 70.9 %\n",
      "Accuracy for class truck is: 45.4 %\n"
     ]
    }
   ],
   "source": [
    "class_test(net, testloader)"
   ]
  },
  {
   "cell_type": "markdown",
   "metadata": {},
   "source": [
    "# Your turn now!"
   ]
  },
  {
   "cell_type": "markdown",
   "metadata": {},
   "source": [
    "## Define a Convolutional Neural Network\n",
    "\n",
    "The architecture should be:\n",
    "\n",
    "    conv2d, 5x5, 3->8, padding=2\n",
    "\n",
    "    Relu()\n",
    "\n",
    "    conv2d, 5x5, 8->16, padding=2, stride=2\n",
    "\n",
    "    Relu()\n",
    "\n",
    "    conv2d, 5x5, 16->32, padding=2\n",
    "    \n",
    "    Relu()\n",
    "\n",
    "    conv2d, 5x5, 32->64, padding=2, stride=2\n",
    "    \n",
    "    Relu()\n",
    "\n",
    "    conv2d, 5x5, 64->128, padding=2\n",
    "\n",
    "    maxpool2d\n",
    "\n",
    "    Relu()\n",
    "\n",
    "    flatten the feature map\n",
    "\n",
    "    fc, the whole feature map -> 120\n",
    "\n",
    "    Relu()\n",
    "\n",
    "    fc, 120->84\n",
    "\n",
    "    Relu()\n",
    "\n",
    "    fc, 84->10\n",
    "    "
   ]
  },
  {
   "cell_type": "code",
   "execution_count": 18,
   "metadata": {},
   "outputs": [],
   "source": [
    "import torch.nn as nn\n",
    "import torch.nn.functional as F\n",
    "\n",
    "\n",
    "class ConvolutionNet(nn.Module):\n",
    "    def __init__(self):\n",
    "        super().__init__()\n",
    "        '''\n",
    "        Implement here\n",
    "        '''\n",
    "        self.conv1 = nn.Conv2d(3,8,5,padding=2)\n",
    "        self.conv2 = nn.Conv2d(8,16,5,padding=2,stride=2)\n",
    "        self.conv3 = nn.Conv2d(16,32,5,padding=2)\n",
    "        self.conv4 = nn.Conv2d(32,64,5,padding=2,stride=2)\n",
    "        self.conv5 = nn.Conv2d(64,128,5,padding=2)\n",
    "        self.maxpool = nn.MaxPool2d(5)\n",
    "        self.fc1 = nn.Linear(128, 120)\n",
    "        self.fc2 = nn.Linear(120, 84)\n",
    "        self.fc3 = nn.Linear(84, 10)\n",
    "\n",
    "    def forward(self, x):\n",
    "        '''\n",
    "        Implement here\n",
    "        '''\n",
    "        x = F.relu(self.conv1(x))\n",
    "        x = F.relu(self.conv2(x))\n",
    "        x = F.relu(self.conv3(x))\n",
    "        x = F.relu(self.conv4(x))\n",
    "        x = self.conv5(x)\n",
    "        x = F.relu(self.maxpool(x))\n",
    "        x = torch.flatten(x, 1)\n",
    "        x = F.relu(self.fc1(x))\n",
    "        x = F.relu(self.fc2(x))\n",
    "        x = self.fc3(x)\n",
    "        return x\n",
    "\n",
    "conv_net = ConvolutionNet()"
   ]
  },
  {
   "cell_type": "markdown",
   "metadata": {},
   "source": [
    "## Train the convolutional neural network\n",
    "\n",
    "Train this CNN with learning rate 1e-2 for 5 epochs.\n",
    "\n",
    "You should see the training loss is aroung 0.9 and accuracy is around 67%."
   ]
  },
  {
   "cell_type": "code",
   "execution_count": 19,
   "metadata": {},
   "outputs": [
    {
     "name": "stdout",
     "output_type": "stream",
     "text": [
      "Epoch: [1 / 5], batches: [100 / 782], loss: 2.304, acc: 10.09\n",
      "Epoch: [1 / 5], batches: [200 / 782], loss: 2.302, acc: 10.41\n",
      "Epoch: [1 / 5], batches: [300 / 782], loss: 2.299, acc: 11.47\n",
      "Epoch: [1 / 5], batches: [400 / 782], loss: 2.202, acc: 16.44\n",
      "Epoch: [1 / 5], batches: [500 / 782], loss: 2.085, acc: 22.62\n",
      "Epoch: [1 / 5], batches: [600 / 782], loss: 1.996, acc: 26.11\n",
      "Epoch: [1 / 5], batches: [700 / 782], loss: 1.931, acc: 28.97\n",
      "Epoch: [2 / 5], batches: [100 / 782], loss: 1.820, acc: 32.56\n",
      "Epoch: [2 / 5], batches: [200 / 782], loss: 1.779, acc: 33.77\n",
      "Epoch: [2 / 5], batches: [300 / 782], loss: 1.732, acc: 35.12\n",
      "Epoch: [2 / 5], batches: [400 / 782], loss: 1.685, acc: 37.72\n",
      "Epoch: [2 / 5], batches: [500 / 782], loss: 1.642, acc: 39.44\n",
      "Epoch: [2 / 5], batches: [600 / 782], loss: 1.603, acc: 41.75\n",
      "Epoch: [2 / 5], batches: [700 / 782], loss: 1.558, acc: 42.80\n",
      "Epoch: [3 / 5], batches: [100 / 782], loss: 1.491, acc: 45.73\n",
      "Epoch: [3 / 5], batches: [200 / 782], loss: 1.460, acc: 46.92\n",
      "Epoch: [3 / 5], batches: [300 / 782], loss: 1.441, acc: 47.11\n",
      "Epoch: [3 / 5], batches: [400 / 782], loss: 1.435, acc: 48.12\n",
      "Epoch: [3 / 5], batches: [500 / 782], loss: 1.435, acc: 47.89\n",
      "Epoch: [3 / 5], batches: [600 / 782], loss: 1.395, acc: 48.78\n",
      "Epoch: [3 / 5], batches: [700 / 782], loss: 1.382, acc: 49.08\n",
      "Epoch: [4 / 5], batches: [100 / 782], loss: 1.297, acc: 52.41\n",
      "Epoch: [4 / 5], batches: [200 / 782], loss: 1.287, acc: 53.59\n",
      "Epoch: [4 / 5], batches: [300 / 782], loss: 1.256, acc: 54.44\n",
      "Epoch: [4 / 5], batches: [400 / 782], loss: 1.252, acc: 55.58\n",
      "Epoch: [4 / 5], batches: [500 / 782], loss: 1.234, acc: 55.28\n",
      "Epoch: [4 / 5], batches: [600 / 782], loss: 1.226, acc: 56.58\n",
      "Epoch: [4 / 5], batches: [700 / 782], loss: 1.188, acc: 57.50\n",
      "Epoch: [5 / 5], batches: [100 / 782], loss: 1.127, acc: 60.28\n",
      "Epoch: [5 / 5], batches: [200 / 782], loss: 1.091, acc: 60.94\n",
      "Epoch: [5 / 5], batches: [300 / 782], loss: 1.092, acc: 61.53\n",
      "Epoch: [5 / 5], batches: [400 / 782], loss: 1.075, acc: 61.28\n",
      "Epoch: [5 / 5], batches: [500 / 782], loss: 1.073, acc: 61.78\n",
      "Epoch: [5 / 5], batches: [600 / 782], loss: 1.088, acc: 60.64\n",
      "Epoch: [5 / 5], batches: [700 / 782], loss: 1.071, acc: 62.23\n",
      "Finished Training\n"
     ]
    }
   ],
   "source": [
    "'''\n",
    "Implement here, use the train function provided.\n",
    "'''\n",
    "train(conv_net, trainloader, get_optimizer(conv_net, 0.01), 5)"
   ]
  },
  {
   "cell_type": "markdown",
   "metadata": {},
   "source": [
    "## Test the convolutional neural network\n",
    "\n",
    "Test this CNN on the test dataset.\n",
    "\n",
    "You should see the accuracy is around 62%."
   ]
  },
  {
   "cell_type": "code",
   "execution_count": 20,
   "metadata": {},
   "outputs": [
    {
     "name": "stdout",
     "output_type": "stream",
     "text": [
      "Accuracy of the network on the 10000 test images: 61 %\n"
     ]
    }
   ],
   "source": [
    "'''\n",
    "Implement here, use the test function provided.\n",
    "'''\n",
    "test(conv_net, testloader)"
   ]
  },
  {
   "cell_type": "markdown",
   "metadata": {},
   "source": [
    "## Accuracy (each class) of CNN\n",
    "\n",
    "Test this CNN on the test dataset to see the accuracy of each class."
   ]
  },
  {
   "cell_type": "code",
   "execution_count": 21,
   "metadata": {},
   "outputs": [
    {
     "name": "stdout",
     "output_type": "stream",
     "text": [
      "Accuracy for class plane is: 69.2 %\n",
      "Accuracy for class car   is: 80.7 %\n",
      "Accuracy for class bird  is: 43.2 %\n",
      "Accuracy for class cat   is: 42.0 %\n",
      "Accuracy for class deer  is: 63.6 %\n",
      "Accuracy for class dog   is: 49.6 %\n",
      "Accuracy for class frog  is: 78.9 %\n",
      "Accuracy for class horse is: 67.9 %\n",
      "Accuracy for class ship  is: 53.2 %\n",
      "Accuracy for class truck is: 70.1 %\n"
     ]
    }
   ],
   "source": [
    "'''\n",
    "Implemente here, use the class_test function provided.\n",
    "'''\n",
    "class_test(conv_net, testloader)"
   ]
  },
  {
   "cell_type": "markdown",
   "metadata": {},
   "source": [
    "## Let's use BN\n",
    "\n",
    "Add BatchNorm2d to the convolution neural network you implemented.\n",
    "\n",
    "You should add batchnorm after the convolution operator and before the activation layer.\n",
    "\n",
    "Please train this network and show the test accuracy."
   ]
  },
  {
   "cell_type": "code",
   "execution_count": 22,
   "metadata": {},
   "outputs": [],
   "source": [
    "import torch.nn as nn\n",
    "import torch.nn.functional as F\n",
    "\n",
    "class ConvolutionBNNet(nn.Module):\n",
    "    def __init__(self):\n",
    "        super().__init__()\n",
    "        '''\n",
    "        Implement here.\n",
    "        '''\n",
    "        self.conv1 = nn.Conv2d(3,8,5,padding=2)\n",
    "        self.conv2 = nn.Conv2d(8,16,5,padding=2,stride=2)\n",
    "        self.conv3 = nn.Conv2d(16,32,5,padding=2)\n",
    "        self.conv4 = nn.Conv2d(32,64,5,padding=2,stride=2)\n",
    "        self.conv5 = nn.Conv2d(64,128,5,padding=2)\n",
    "        # Batch Normalisation\n",
    "        self.bn1 = nn.BatchNorm2d(8)\n",
    "        self.bn2 = nn.BatchNorm2d(16)\n",
    "        self.bn3 = nn.BatchNorm2d(32)\n",
    "        self.bn4 = nn.BatchNorm2d(64)\n",
    "        self.bn5 = nn.BatchNorm2d(128)\n",
    "\n",
    "\n",
    "        self.maxpool = nn.MaxPool2d(5)\n",
    "        self.fc1 = nn.Linear(128, 120)\n",
    "        self.fc2 = nn.Linear(120, 84)\n",
    "        self.fc3 = nn.Linear(84, 10)\n",
    "\n",
    "    def forward(self, x):\n",
    "        '''\n",
    "        Implement here\n",
    "        '''\n",
    "        x = F.relu(self.bn1(self.conv1(x)))\n",
    "        x = F.relu(self.bn2(self.conv2(x)))\n",
    "        x = F.relu(self.bn3(self.conv3(x)))\n",
    "        x = F.relu(self.bn4(self.conv4(x)))\n",
    "        x = self.bn5(self.conv5(x))\n",
    "        x = F.relu(self.maxpool(x))\n",
    "        x = torch.flatten(x, 1)\n",
    "        x = F.relu(self.fc1(x))\n",
    "        x = F.relu(self.fc2(x))\n",
    "        x = self.fc3(x)\n",
    "        return x\n",
    "\n",
    "bn_conv_net = ConvolutionBNNet()"
   ]
  },
  {
   "cell_type": "markdown",
   "metadata": {},
   "source": [
    "## Train the CNN with BN\n",
    "\n",
    "Train this CNN with learning rate 1e-2 for 5 epochs."
   ]
  },
  {
   "cell_type": "code",
   "execution_count": 23,
   "metadata": {},
   "outputs": [
    {
     "name": "stdout",
     "output_type": "stream",
     "text": [
      "Epoch: [1 / 5], batches: [100 / 782], loss: 2.026, acc: 24.12\n",
      "Epoch: [1 / 5], batches: [200 / 782], loss: 1.714, acc: 34.94\n",
      "Epoch: [1 / 5], batches: [300 / 782], loss: 1.545, acc: 42.58\n",
      "Epoch: [1 / 5], batches: [400 / 782], loss: 1.453, acc: 46.12\n",
      "Epoch: [1 / 5], batches: [500 / 782], loss: 1.374, acc: 49.28\n",
      "Epoch: [1 / 5], batches: [600 / 782], loss: 1.305, acc: 51.91\n",
      "Epoch: [1 / 5], batches: [700 / 782], loss: 1.257, acc: 54.23\n",
      "Epoch: [2 / 5], batches: [100 / 782], loss: 1.143, acc: 58.36\n",
      "Epoch: [2 / 5], batches: [200 / 782], loss: 1.103, acc: 60.55\n",
      "Epoch: [2 / 5], batches: [300 / 782], loss: 1.077, acc: 61.39\n",
      "Epoch: [2 / 5], batches: [400 / 782], loss: 1.063, acc: 62.16\n",
      "Epoch: [2 / 5], batches: [500 / 782], loss: 1.032, acc: 63.80\n",
      "Epoch: [2 / 5], batches: [600 / 782], loss: 1.030, acc: 63.23\n",
      "Epoch: [2 / 5], batches: [700 / 782], loss: 0.957, acc: 65.80\n",
      "Epoch: [3 / 5], batches: [100 / 782], loss: 0.856, acc: 69.80\n",
      "Epoch: [3 / 5], batches: [200 / 782], loss: 0.848, acc: 70.16\n",
      "Epoch: [3 / 5], batches: [300 / 782], loss: 0.830, acc: 70.50\n",
      "Epoch: [3 / 5], batches: [400 / 782], loss: 0.824, acc: 70.81\n",
      "Epoch: [3 / 5], batches: [500 / 782], loss: 0.844, acc: 71.00\n",
      "Epoch: [3 / 5], batches: [600 / 782], loss: 0.802, acc: 71.81\n",
      "Epoch: [3 / 5], batches: [700 / 782], loss: 0.796, acc: 71.86\n",
      "Epoch: [4 / 5], batches: [100 / 782], loss: 0.669, acc: 76.36\n",
      "Epoch: [4 / 5], batches: [200 / 782], loss: 0.681, acc: 76.12\n",
      "Epoch: [4 / 5], batches: [300 / 782], loss: 0.668, acc: 76.09\n",
      "Epoch: [4 / 5], batches: [400 / 782], loss: 0.713, acc: 75.28\n",
      "Epoch: [4 / 5], batches: [500 / 782], loss: 0.666, acc: 77.03\n",
      "Epoch: [4 / 5], batches: [600 / 782], loss: 0.710, acc: 75.59\n",
      "Epoch: [4 / 5], batches: [700 / 782], loss: 0.680, acc: 77.00\n",
      "Epoch: [5 / 5], batches: [100 / 782], loss: 0.548, acc: 80.47\n",
      "Epoch: [5 / 5], batches: [200 / 782], loss: 0.565, acc: 80.64\n",
      "Epoch: [5 / 5], batches: [300 / 782], loss: 0.570, acc: 80.53\n",
      "Epoch: [5 / 5], batches: [400 / 782], loss: 0.565, acc: 80.33\n",
      "Epoch: [5 / 5], batches: [500 / 782], loss: 0.587, acc: 79.84\n",
      "Epoch: [5 / 5], batches: [600 / 782], loss: 0.592, acc: 80.03\n",
      "Epoch: [5 / 5], batches: [700 / 782], loss: 0.562, acc: 80.48\n",
      "Finished Training\n"
     ]
    }
   ],
   "source": [
    "'''\n",
    "Implement here\n",
    "'''\n",
    "train(bn_conv_net, trainloader, get_optimizer(bn_conv_net, 0.01), 5)\n"
   ]
  },
  {
   "cell_type": "markdown",
   "metadata": {},
   "source": [
    "## Test the CNN with BN\n",
    "\n",
    "Test this CNN on the test dataset."
   ]
  },
  {
   "cell_type": "code",
   "execution_count": 24,
   "metadata": {},
   "outputs": [
    {
     "name": "stdout",
     "output_type": "stream",
     "text": [
      "Accuracy of the network on the 10000 test images: 74 %\n"
     ]
    }
   ],
   "source": [
    "'''\n",
    "Implement here\n",
    "'''\n",
    "test(bn_conv_net, testloader)\n"
   ]
  },
  {
   "cell_type": "markdown",
   "metadata": {},
   "source": []
  },
  {
   "cell_type": "markdown",
   "metadata": {},
   "source": [
    "## Accuracy (each class) of CNN with BN\n",
    "\n",
    "Test this CNN with BNN on the test dataset to see the accuracy of each class."
   ]
  },
  {
   "cell_type": "code",
   "execution_count": 25,
   "metadata": {},
   "outputs": [
    {
     "name": "stdout",
     "output_type": "stream",
     "text": [
      "Accuracy for class plane is: 80.0 %\n",
      "Accuracy for class car   is: 88.2 %\n",
      "Accuracy for class bird  is: 51.4 %\n",
      "Accuracy for class cat   is: 46.4 %\n",
      "Accuracy for class deer  is: 81.0 %\n",
      "Accuracy for class dog   is: 74.1 %\n",
      "Accuracy for class frog  is: 75.6 %\n",
      "Accuracy for class horse is: 78.4 %\n",
      "Accuracy for class ship  is: 77.4 %\n",
      "Accuracy for class truck is: 91.0 %\n"
     ]
    }
   ],
   "source": [
    "'''\n",
    "Implemente here, use the class_test function provided.\n",
    "'''\n",
    "class_test(bn_conv_net, testloader)\n"
   ]
  },
  {
   "cell_type": "markdown",
   "metadata": {},
   "source": [
    "## Design by yourself\n",
    "Now, based on the knowledge learned in class or by referring to online resources, you can design your own network architecture or incorporate other optimization methods to improve task performance. Please provide at least one improvement strategy."
   ]
  },
  {
   "cell_type": "code",
   "execution_count": 26,
   "metadata": {},
   "outputs": [
    {
     "data": {
      "text/plain": [
       "'\\nImplement here\\n'"
      ]
     },
     "execution_count": 26,
     "metadata": {},
     "output_type": "execute_result"
    }
   ],
   "source": [
    "'''\n",
    "Implement here\n",
    "'''"
   ]
  },
  {
   "cell_type": "markdown",
   "metadata": {},
   "source": [
    "## Good Job!"
   ]
  }
 ],
 "metadata": {
  "kernelspec": {
   "display_name": "kernel_for_pytorch",
   "language": "python",
   "name": "kernel_for_pytorch"
  },
  "language_info": {
   "codemirror_mode": {
    "name": "ipython",
    "version": 3
   },
   "file_extension": ".py",
   "mimetype": "text/x-python",
   "name": "python",
   "nbconvert_exporter": "python",
   "pygments_lexer": "ipython3",
   "version": "3.11.10"
  }
 },
 "nbformat": 4,
 "nbformat_minor": 4
}
