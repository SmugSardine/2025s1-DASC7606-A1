{
 "cells": [
  {
   "cell_type": "markdown",
   "metadata": {},
   "source": [
    "Assignmnet 1: Image Classification with Neural Networks\n",
    "=====================\n",
    "\n",
    "Data in Deep Learning\n",
    "----------------\n",
    "\n",
    "Generally, when you have to deal with image, text, audio or video data,\n",
    "you can use standard python packages that load data into a numpy array.\n",
    "Then you can convert this array into a ``torch.*Tensor``.\n",
    "\n",
    "-  For images, packages such as Pillow, OpenCV are useful\n",
    "-  For audio, packages such as scipy and librosa\n",
    "-  For text, either raw Python or Cython based loading, or NLTK and\n",
    "   SpaCy are useful\n",
    "\n",
    "Specifically for vision, we have created a package called\n",
    "``torchvision``, that has data loaders for common datasets such as\n",
    "ImageNet, CIFAR10, MNIST, etc. and data transformers for images, viz.,\n",
    "``torchvision.datasets`` and ``torch.utils.data.DataLoader``.\n",
    "\n",
    "This provides a huge convenience and avoids writing boilerplate code.\n",
    "\n",
    "For this assignment, we will use the CIFAR10 dataset.\n",
    "\n",
    "It has the classes: \n",
    "\n",
    "‘airplane’, ‘automobile’, ‘bird’, ‘cat’, ‘deer’,\n",
    "‘dog’, ‘frog’, ‘horse’, ‘ship’, ‘truck’. \n",
    "\n",
    "The images in CIFAR-10 are of size 3x32x32, i.e. 3-channel color images of 32x32 pixels in size.\n",
    "\n",
    "\n",
    "Training an image classifier\n",
    "----------------------------\n",
    "\n",
    "We will do the following steps in order:\n",
    "\n",
    "1. Load and normalize the CIFAR10 training and test datasets using\n",
    "   ``torchvision``\n",
    "2. Define a Convolutional Neural Network\n",
    "3. Define a loss function\n",
    "4. Train the network on the training data\n",
    "5. Test the network on the test data\n",
    "\n",
    "1. Load and normalize CIFAR10\n",
    "\n",
    "\n",
    "Using ``torchvision``, it’s extremely easy to load CIFAR10.\n",
    "\n"
   ]
  },
  {
   "cell_type": "code",
   "execution_count": 1,
   "metadata": {
    "tags": []
   },
   "outputs": [],
   "source": [
    "import torch\n",
    "import torchvision\n",
    "import torchvision.transforms as transforms\n",
    "from torch.utils.tensorboard import SummaryWriter"
   ]
  },
  {
   "cell_type": "markdown",
   "metadata": {},
   "source": [
    "## Training on GPU?"
   ]
  },
  {
   "cell_type": "code",
   "execution_count": 2,
   "metadata": {
    "jupyter": {
     "source_hidden": true
    },
    "tags": []
   },
   "outputs": [
    {
     "name": "stdout",
     "output_type": "stream",
     "text": [
      "cuda:0\n"
     ]
    }
   ],
   "source": [
    "device = torch.device(\"cuda:0\" if torch.cuda.is_available() else \"cpu\")\n",
    "\n",
    "# Assuming that we are on a CUDA machine, this should print a CUDA device:\n",
    "print(device)"
   ]
  },
  {
   "cell_type": "markdown",
   "metadata": {},
   "source": [
    "The rest of this section assumes that ``device`` is a CUDA device."
   ]
  },
  {
   "cell_type": "markdown",
   "metadata": {},
   "source": [
    "## Define the dataset and dataloader\n",
    "\n",
    "The output of torchvision datasets are PILImage images of range [0, 1].\n",
    "We transform them to Tensors of normalized range [-1, 1].\n",
    "\n"
   ]
  },
  {
   "cell_type": "code",
   "execution_count": 3,
   "metadata": {
    "jupyter": {
     "source_hidden": true
    },
    "tags": []
   },
   "outputs": [
    {
     "name": "stdout",
     "output_type": "stream",
     "text": [
      "Downloading https://www.cs.toronto.edu/~kriz/cifar-10-python.tar.gz to ./data\\cifar-10-python.tar.gz\n"
     ]
    },
    {
     "name": "stderr",
     "output_type": "stream",
     "text": [
      "100%|██████████| 170498071/170498071 [02:32<00:00, 1121617.17it/s]\n"
     ]
    },
    {
     "name": "stdout",
     "output_type": "stream",
     "text": [
      "Extracting ./data\\cifar-10-python.tar.gz to ./data\n",
      "Files already downloaded and verified\n",
      "Files already downloaded and verified\n",
      "Files already downloaded and verified\n"
     ]
    }
   ],
   "source": [
    "transform = transforms.Compose(\n",
    "    [transforms.ToTensor(),\n",
    "     transforms.Normalize((0.5, 0.5, 0.5), (0.5, 0.5, 0.5))])\n",
    "\n",
    "batch_size = 64\n",
    "\n",
    "def get_vis_loader():\n",
    "    transform = transforms.Compose(\n",
    "    [transforms.ToTensor(),\n",
    "     transforms.Normalize((0.5, 0.5, 0.5), (0.5, 0.5, 0.5))])\n",
    "\n",
    "    trainset = torchvision.datasets.CIFAR10(root='./data', train=True,\n",
    "                                            download=True, transform=transform)\n",
    "    trainloader = torch.utils.data.DataLoader(trainset, batch_size=4,\n",
    "                                              shuffle=True, num_workers=2)\n",
    "    testset = torchvision.datasets.CIFAR10(root='./data', train=False,\n",
    "                                           download=True, transform=transform)\n",
    "    testloader = torch.utils.data.DataLoader(testset, batch_size=4,\n",
    "                                             shuffle=False, num_workers=2)\n",
    "    return trainloader, testloader\n",
    "\n",
    "def get_train_loader(batch_size, transform):\n",
    "    trainset = torchvision.datasets.CIFAR10(root='./data', train=True,\n",
    "                                            download=True, transform=transform)\n",
    "    trainloader = torch.utils.data.DataLoader(trainset, batch_size=batch_size,\n",
    "                                              shuffle=True, num_workers=2)\n",
    "    return trainloader\n",
    "    \n",
    "def get_test_loader(batch_size, transform):\n",
    "    testset = torchvision.datasets.CIFAR10(root='./data', train=False,\n",
    "                                           download=True, transform=transform)\n",
    "    testloader = torch.utils.data.DataLoader(testset, batch_size=batch_size,\n",
    "                                             shuffle=False, num_workers=2)\n",
    "    return testloader\n",
    "    \n",
    "classes = ('plane', 'car', 'bird', 'cat',\n",
    "           'deer', 'dog', 'frog', 'horse', 'ship', 'truck')\n",
    "\n",
    "vistrainloader, vistestloader = get_vis_loader()\n",
    "trainloader = get_train_loader(batch_size, transform)\n",
    "testloader = get_test_loader(batch_size, transform)"
   ]
  },
  {
   "cell_type": "markdown",
   "metadata": {},
   "source": [
    "## Visualization\n",
    "\n",
    "Let us show some of the training images, for fun.\n",
    "\n"
   ]
  },
  {
   "cell_type": "code",
   "execution_count": 4,
   "metadata": {
    "jupyter": {
     "source_hidden": true
    },
    "tags": []
   },
   "outputs": [
    {
     "data": {
      "image/png": "[encoded data removed]",
      "text/plain": [
       "<Figure size 640x480 with 1 Axes>"
      ]
     },
     "metadata": {},
     "output_type": "display_data"
    },
    {
     "name": "stdout",
     "output_type": "stream",
     "text": [
      " deer  frog   car  bird\n"
     ]
    }
   ],
   "source": [
    "import matplotlib.pyplot as plt\n",
    "import numpy as np\n",
    "\n",
    "# functions to show an image\n",
    "def imshow(img):\n",
    "    img = img / 2 + 0.5     # unnormalize\n",
    "    npimg = img.numpy()\n",
    "    plt.imshow(np.transpose(npimg, (1, 2, 0)))\n",
    "    plt.show()\n",
    "\n",
    "# get some random training images\n",
    "dataiter = iter(vistrainloader)\n",
    "images, labels = next(dataiter)\n",
    "\n",
    "# show images\n",
    "imshow(torchvision.utils.make_grid(images))\n",
    "# print labels\n",
    "print(' '.join('%5s' % classes[labels[j]] for j in range(4)))"
   ]
  },
  {
   "cell_type": "markdown",
   "metadata": {},
   "source": [
    "## Define a Neural Network"
   ]
  },
  {
   "cell_type": "code",
   "execution_count": 5,
   "metadata": {
    "jupyter": {
     "source_hidden": true
    },
    "tags": []
   },
   "outputs": [],
   "source": [
    "import torch.nn as nn\n",
    "import torch.nn.functional as F\n",
    "\n",
    "class NeuralNet(nn.Module):\n",
    "    def __init__(self):\n",
    "        super().__init__()\n",
    "        self.fc1 = nn.Linear(3*32*32, 128)\n",
    "        self.fc2 = nn.Linear(128, 256)\n",
    "        self.fc3 = nn.Linear(256, 512)\n",
    "        self.fc4 = nn.Linear(512, 10)\n",
    "\n",
    "    def forward(self, x):\n",
    "        x = torch.flatten(x, 1) # flatten all dimensions except batch\n",
    "        x = F.relu(self.fc1(x))\n",
    "        x = F.relu(self.fc2(x))\n",
    "        x = F.relu(self.fc3(x))\n",
    "        x = self.fc4(x)\n",
    "        return x\n",
    "\n",
    "fc_net = NeuralNet()"
   ]
  },
  {
   "cell_type": "markdown",
   "metadata": {},
   "source": [
    "## Define a Loss function and optimizer\n",
    "\n",
    "Let's use a Classification Cross-Entropy loss and SGD with momentum.\n",
    "\n"
   ]
  },
  {
   "cell_type": "code",
   "execution_count": 6,
   "metadata": {
    "jupyter": {
     "source_hidden": true
    },
    "tags": []
   },
   "outputs": [],
   "source": [
    "import torch.optim as optim\n",
    "\n",
    "def get_optimizer(net, lr=0.01,m=0.9):\n",
    "    optimizer = optim.SGD(net.parameters(), lr=lr, momentum=m)\n",
    "    return optimizer\n",
    "\n",
    "def accuracy(output, target):\n",
    "    # get the index of the max log-probability\n",
    "    pred = output.max(1, keepdim=True)[1]\n",
    "    return pred.eq(target.view_as(pred)).float().mean()\n",
    "\n",
    "criterion = nn.CrossEntropyLoss()\n",
    "optimizer = get_optimizer(fc_net, 0.01)"
   ]
  },
  {
   "cell_type": "markdown",
   "metadata": {},
   "source": [
    "## Define training code"
   ]
  },
  {
   "cell_type": "code",
   "execution_count": 7,
   "metadata": {
    "tags": []
   },
   "outputs": [],
   "source": [
    "def forward_step(net, inputs, labels):\n",
    "    outputs = net(inputs)\n",
    "    loss = criterion(outputs, labels)\n",
    "    return outputs, loss, labels\n",
    "\n",
    "\n",
    "def train(net, loader, optimizer, max_epoch,writer=False):\n",
    "    net.to(device)\n",
    "    net.train()\n",
    "    N = len(loader)\n",
    "    print_interval = (N // 8 // 100 + 1) * 100\n",
    "    if writer: w = SummaryWriter('runs/'+writer)\n",
    "    for epoch in range(max_epoch):  # loop over the dataset multiple times\n",
    "        running_loss = 0.0\n",
    "        running_acc = 0.0\n",
    "        for i, data in enumerate(loader, 0):\n",
    "            # get the inputs; data is a list of [inputs, labels]\n",
    "            images, labels = data[0].to(device), data[1].to(device) \n",
    "\n",
    "            # zero the parameter gradients\n",
    "            optimizer.zero_grad()\n",
    "\n",
    "            # forward + backward + optimize\n",
    "            outputs, loss, labels = forward_step(net, images, labels)\n",
    "            loss.backward()\n",
    "            optimizer.step()\n",
    "\n",
    "            # print statistics\n",
    "            running_loss += loss.item()\n",
    "            running_acc += accuracy(outputs, labels).item()\n",
    "            if (i + 1) % print_interval == 0:\n",
    "                print('Epoch: [%d / %d], batches: [%d / %d], loss: %.3f, acc: %.2f' %\n",
    "                      (epoch + 1, max_epoch, i + 1, N, \n",
    "                       running_loss / print_interval, 100 * running_acc / print_interval))\n",
    "                \n",
    "                if writer: \n",
    "                    w.add_scalar(\"Loss/train\", running_loss, epoch+1) # tensorboard\n",
    "                    w.add_scalar(\"Accuracy/train\", running_acc, epoch+1)\n",
    "                running_loss = 0.0\n",
    "                running_acc = 0.0\n",
    "    if writer: \n",
    "        w.flush()\n",
    "        w.close()   \n",
    "    print('Finished Training')"
   ]
  },
  {
   "cell_type": "markdown",
   "metadata": {},
   "source": [
    "## Train the network\n",
    "\n",
    "This is when things start to get interesting.\n",
    "We simply have to loop over our data iterator, and feed the inputs to the\n",
    "network and optimize.\n",
    "\n"
   ]
  },
  {
   "cell_type": "code",
   "execution_count": 8,
   "metadata": {
    "tags": []
   },
   "outputs": [
    {
     "name": "stdout",
     "output_type": "stream",
     "text": [
      "Epoch: [1 / 5], batches: [100 / 782], loss: 2.191, acc: 19.64\n",
      "Epoch: [1 / 5], batches: [200 / 782], loss: 1.923, acc: 30.48\n",
      "Epoch: [1 / 5], batches: [300 / 782], loss: 1.780, acc: 36.11\n",
      "Epoch: [1 / 5], batches: [400 / 782], loss: 1.709, acc: 38.88\n",
      "Epoch: [1 / 5], batches: [500 / 782], loss: 1.656, acc: 40.42\n",
      "Epoch: [1 / 5], batches: [600 / 782], loss: 1.638, acc: 41.06\n",
      "Epoch: [1 / 5], batches: [700 / 782], loss: 1.605, acc: 42.44\n",
      "Epoch: [2 / 5], batches: [100 / 782], loss: 1.528, acc: 45.95\n",
      "Epoch: [2 / 5], batches: [200 / 782], loss: 1.502, acc: 46.66\n",
      "Epoch: [2 / 5], batches: [300 / 782], loss: 1.497, acc: 47.22\n",
      "Epoch: [2 / 5], batches: [400 / 782], loss: 1.494, acc: 46.70\n",
      "Epoch: [2 / 5], batches: [500 / 782], loss: 1.457, acc: 47.97\n",
      "Epoch: [2 / 5], batches: [600 / 782], loss: 1.465, acc: 47.47\n",
      "Epoch: [2 / 5], batches: [700 / 782], loss: 1.438, acc: 49.08\n",
      "Epoch: [3 / 5], batches: [100 / 782], loss: 1.378, acc: 50.88\n",
      "Epoch: [3 / 5], batches: [200 / 782], loss: 1.376, acc: 51.33\n",
      "Epoch: [3 / 5], batches: [300 / 782], loss: 1.382, acc: 50.48\n",
      "Epoch: [3 / 5], batches: [400 / 782], loss: 1.362, acc: 51.58\n",
      "Epoch: [3 / 5], batches: [500 / 782], loss: 1.354, acc: 51.64\n",
      "Epoch: [3 / 5], batches: [600 / 782], loss: 1.366, acc: 52.42\n",
      "Epoch: [3 / 5], batches: [700 / 782], loss: 1.338, acc: 53.19\n",
      "Epoch: [4 / 5], batches: [100 / 782], loss: 1.296, acc: 54.16\n",
      "Epoch: [4 / 5], batches: [200 / 782], loss: 1.280, acc: 53.95\n",
      "Epoch: [4 / 5], batches: [300 / 782], loss: 1.256, acc: 54.59\n",
      "Epoch: [4 / 5], batches: [400 / 782], loss: 1.289, acc: 54.31\n",
      "Epoch: [4 / 5], batches: [500 / 782], loss: 1.274, acc: 54.66\n",
      "Epoch: [4 / 5], batches: [600 / 782], loss: 1.299, acc: 53.31\n",
      "Epoch: [4 / 5], batches: [700 / 782], loss: 1.262, acc: 55.14\n",
      "Epoch: [5 / 5], batches: [100 / 782], loss: 1.188, acc: 58.05\n",
      "Epoch: [5 / 5], batches: [200 / 782], loss: 1.206, acc: 57.30\n",
      "Epoch: [5 / 5], batches: [300 / 782], loss: 1.204, acc: 56.64\n",
      "Epoch: [5 / 5], batches: [400 / 782], loss: 1.220, acc: 56.44\n",
      "Epoch: [5 / 5], batches: [500 / 782], loss: 1.213, acc: 56.89\n",
      "Epoch: [5 / 5], batches: [600 / 782], loss: 1.224, acc: 56.59\n",
      "Epoch: [5 / 5], batches: [700 / 782], loss: 1.212, acc: 56.84\n",
      "Finished Training\n"
     ]
    }
   ],
   "source": [
    "train(fc_net, trainloader, optimizer, 5)"
   ]
  },
  {
   "cell_type": "markdown",
   "metadata": {},
   "source": [
    "## Let's quickly save our trained model:\n",
    "\n"
   ]
  },
  {
   "cell_type": "code",
   "execution_count": 9,
   "metadata": {
    "tags": []
   },
   "outputs": [],
   "source": [
    "PATH = './checkpoints/cifar_net.pth'\n",
    "\n",
    "def save_model(net, path):\n",
    "    torch.save(net.state_dict(), path)\n",
    "    \n",
    "save_model(fc_net, PATH)"
   ]
  },
  {
   "cell_type": "markdown",
   "metadata": {},
   "source": [
    "## Test the network on the test data\n",
    "\n",
    "\n",
    "We have trained the network for 2 passes over the training dataset.\n",
    "But we need to check if the network has learnt anything at all.\n",
    "\n",
    "We will check this by predicting the class label that the neural network\n",
    "outputs, and checking it against the ground-truth. If the prediction is\n",
    "correct, we add the sample to the list of correct predictions.\n",
    "\n",
    "Okay, first step. Let us display an image from the test set to get familiar.\n",
    "\n"
   ]
  },
  {
   "cell_type": "code",
   "execution_count": 10,
   "metadata": {
    "tags": []
   },
   "outputs": [
    {
     "data": {
      "image/png": "[encoded data removed]",
      "text/plain": [
       "<Figure size 640x480 with 1 Axes>"
      ]
     },
     "metadata": {},
     "output_type": "display_data"
    },
    {
     "name": "stdout",
     "output_type": "stream",
     "text": [
      "GroundTruth:    cat  ship  ship plane\n"
     ]
    }
   ],
   "source": [
    "dataiter = iter(vistestloader)\n",
    "images, labels = next(dataiter)\n",
    "\n",
    "# print images\n",
    "imshow(torchvision.utils.make_grid(images))\n",
    "print('GroundTruth: ', ' '.join('%5s' % classes[labels[j]] for j in range(4)))"
   ]
  },
  {
   "cell_type": "markdown",
   "metadata": {},
   "source": [
    "## Load a model\n",
    "Next, let's load back in our saved model (note: saving and re-loading the model\n",
    "wasn't necessary here, we only did it to illustrate how to do so):\n",
    "\n"
   ]
  },
  {
   "cell_type": "code",
   "execution_count": 11,
   "metadata": {
    "tags": []
   },
   "outputs": [
    {
     "name": "stderr",
     "output_type": "stream",
     "text": [
      "C:\\Users\\LZh\\AppData\\Local\\Temp\\ipykernel_97400\\338259489.py:4: FutureWarning: You are using `torch.load` with `weights_only=False` (the current default value), which uses the default pickle module implicitly. It is possible to construct malicious pickle data which will execute arbitrary code during unpickling (See https://github.com/pytorch/pytorch/blob/main/SECURITY.md#untrusted-models for more details). In a future release, the default value for `weights_only` will be flipped to `True`. This limits the functions that could be executed during unpickling. Arbitrary objects will no longer be allowed to be loaded via this mode unless they are explicitly allowlisted by the user via `torch.serialization.add_safe_globals`. We recommend you start setting `weights_only=True` for any use case where you don't have full control of the loaded file. Please open an issue on GitHub for any issues related to this experimental feature.\n",
      "  net.load_state_dict(torch.load(path))\n"
     ]
    }
   ],
   "source": [
    "net = NeuralNet()\n",
    "\n",
    "def load_model(net, path):\n",
    "    net.load_state_dict(torch.load(path))\n",
    "    \n",
    "load_model(net, PATH)"
   ]
  },
  {
   "cell_type": "markdown",
   "metadata": {},
   "source": [
    "Okay, now let us see what the neural network thinks these examples above are:\n",
    "\n"
   ]
  },
  {
   "cell_type": "code",
   "execution_count": 12,
   "metadata": {
    "tags": []
   },
   "outputs": [],
   "source": [
    "outputs = net(images)"
   ]
  },
  {
   "cell_type": "markdown",
   "metadata": {},
   "source": [
    "The outputs are energies for the 10 classes.\n",
    "The higher the energy for a class, the more the network\n",
    "thinks that the image is of the particular class.\n",
    "So, let's get the index of the highest energy:\n",
    "\n"
   ]
  },
  {
   "cell_type": "code",
   "execution_count": 13,
   "metadata": {
    "tags": []
   },
   "outputs": [
    {
     "name": "stdout",
     "output_type": "stream",
     "text": [
      "Predicted:    cat  ship truck horse\n"
     ]
    }
   ],
   "source": [
    "_, predicted = torch.max(outputs, 1)\n",
    "\n",
    "print('Predicted: ', ' '.join('%5s' % classes[predicted[j]]\n",
    "                              for j in range(4)))"
   ]
  },
  {
   "cell_type": "markdown",
   "metadata": {},
   "source": [
    "## Define testing code"
   ]
  },
  {
   "cell_type": "code",
   "execution_count": 14,
   "metadata": {
    "tags": []
   },
   "outputs": [],
   "source": [
    "def test(net, testloader):\n",
    "    correct = 0\n",
    "    total = 0\n",
    "    net.to(device)\n",
    "    net.eval()\n",
    "    # since we're not training, we don't need to calculate the gradients for our outputs\n",
    "    with torch.no_grad():\n",
    "        for data in testloader:\n",
    "            images, labels = data[0].to(device), data[1].to(device)\n",
    "            # calculate outputs by running images through the network\n",
    "            outputs = net(images)\n",
    "            # the class with the highest energy is what we choose as prediction\n",
    "            _, predicted = torch.max(outputs.data, 1)\n",
    "            total += labels.size(0)\n",
    "            correct += (predicted == labels).sum().item()\n",
    "\n",
    "    print('Accuracy of the network on the 10000 test images: %d %%' % (\n",
    "        100 * correct / total))"
   ]
  },
  {
   "cell_type": "code",
   "execution_count": 15,
   "metadata": {
    "tags": []
   },
   "outputs": [
    {
     "name": "stdout",
     "output_type": "stream",
     "text": [
      "Accuracy of the network on the 10000 test images: 52 %\n"
     ]
    }
   ],
   "source": [
    "test(net, testloader)"
   ]
  },
  {
   "cell_type": "markdown",
   "metadata": {},
   "source": [
    "## See accuracy of each class\n",
    "\n",
    "That looks way better than chance, which is 10% accuracy (randomly picking\n",
    "a class out of 10 classes).\n",
    "Seems like the network learnt something.\n",
    "\n",
    "Hmmm, what are the classes that performed well, and the classes that did\n",
    "not perform well:\n",
    "\n"
   ]
  },
  {
   "cell_type": "code",
   "execution_count": 16,
   "metadata": {
    "tags": []
   },
   "outputs": [],
   "source": [
    "def class_test(net, testloader):\n",
    "    # prepare to count predictions for each class\n",
    "    correct_pred = {classname: 0 for classname in classes}\n",
    "    total_pred = {classname: 0 for classname in classes}\n",
    "    \n",
    "    net.to(device)\n",
    "    net.eval()\n",
    "    # again no gradients needed\n",
    "    with torch.no_grad():\n",
    "        for data in testloader:\n",
    "            images, labels = data[0].to(device), data[1].to(device)  \n",
    "            outputs = net(images)    \n",
    "            _, predictions = torch.max(outputs, 1)\n",
    "            # collect the correct predictions for each class\n",
    "            for label, prediction in zip(labels, predictions):\n",
    "                if label == prediction:\n",
    "                    correct_pred[classes[label]] += 1\n",
    "                total_pred[classes[label]] += 1\n",
    "\n",
    "\n",
    "    # print accuracy for each class\n",
    "    for classname, correct_count in correct_pred.items():\n",
    "        acc = 100 * float(correct_count) / total_pred[classname]\n",
    "        print(\"Accuracy for class {:5s} is: {:.1f} %\".format(classname, \n",
    "                                                       acc))"
   ]
  },
  {
   "cell_type": "code",
   "execution_count": 17,
   "metadata": {
    "tags": []
   },
   "outputs": [
    {
     "name": "stdout",
     "output_type": "stream",
     "text": [
      "Accuracy for class plane is: 59.8 %\n",
      "Accuracy for class car   is: 57.2 %\n",
      "Accuracy for class bird  is: 32.5 %\n",
      "Accuracy for class cat   is: 34.4 %\n",
      "Accuracy for class deer  is: 42.9 %\n",
      "Accuracy for class dog   is: 39.1 %\n",
      "Accuracy for class frog  is: 59.6 %\n",
      "Accuracy for class horse is: 62.5 %\n",
      "Accuracy for class ship  is: 75.5 %\n",
      "Accuracy for class truck is: 61.9 %\n"
     ]
    }
   ],
   "source": [
    "class_test(net, testloader)"
   ]
  },
  {
   "cell_type": "markdown",
   "metadata": {},
   "source": [
    "# Your turn now!"
   ]
  },
  {
   "cell_type": "markdown",
   "metadata": {},
   "source": [
    "## Define a Convolutional Neural Network\n",
    "\n",
    "The architecture should be:\n",
    "\n",
    "    conv2d, 5x5, 3->8, padding=2\n",
    "\n",
    "    Relu()\n",
    "\n",
    "    conv2d, 5x5, 8->16, padding=2, stride=2\n",
    "\n",
    "    Relu()\n",
    "\n",
    "    conv2d, 5x5, 16->32, padding=2\n",
    "    \n",
    "    Relu()\n",
    "\n",
    "    conv2d, 5x5, 32->64, padding=2, stride=2\n",
    "    \n",
    "    Relu()\n",
    "\n",
    "    conv2d, 5x5, 64->128, padding=2\n",
    "\n",
    "    maxpool2d\n",
    "\n",
    "    Relu()\n",
    "\n",
    "    flatten the feature map\n",
    "\n",
    "    fc, the whole feature map -> 120\n",
    "\n",
    "    Relu()\n",
    "\n",
    "    fc, 120->84\n",
    "\n",
    "    Relu()\n",
    "\n",
    "    fc, 84->10\n",
    "    "
   ]
  },
  {
   "cell_type": "code",
   "execution_count": 18,
   "metadata": {
    "tags": []
   },
   "outputs": [],
   "source": [
    "import torch.nn as nn\n",
    "import torch.nn.functional as F\n",
    "\n",
    "\n",
    "class ConvolutionNet(nn.Module):\n",
    "    def __init__(self):\n",
    "        super().__init__()\n",
    "        '''\n",
    "        Implement here\n",
    "        '''\n",
    "        self.conv1 = nn.Conv2d(3,8,5,padding=2)\n",
    "        self.conv2 = nn.Conv2d(8,16,5,padding=2,stride=2)\n",
    "        self.conv3 = nn.Conv2d(16,32,5,padding=2)\n",
    "        self.conv4 = nn.Conv2d(32,64,5,padding=2,stride=2)\n",
    "        self.conv5 = nn.Conv2d(64,128,5,padding=2)\n",
    "        self.maxpool = nn.MaxPool2d(5)\n",
    "        self.fc1 = nn.Linear(128, 120)\n",
    "        self.fc2 = nn.Linear(120, 84)\n",
    "        self.fc3 = nn.Linear(84, 10)\n",
    "\n",
    "    def forward(self, x):\n",
    "        '''\n",
    "        Implement here\n",
    "        '''\n",
    "        x = F.relu(self.conv1(x))\n",
    "        x = F.relu(self.conv2(x))\n",
    "        x = F.relu(self.conv3(x))\n",
    "        x = F.relu(self.conv4(x))\n",
    "        x = F.relu(self.conv5(x))\n",
    "        x = F.relu(self.maxpool(x))\n",
    "        x = torch.flatten(x,1)\n",
    "        x = F.relu(self.fc1(x))\n",
    "        x = F.relu(self.fc2(x))\n",
    "        x = self.fc3(x)\n",
    "        return x\n",
    "\n",
    "conv_net = ConvolutionNet()"
   ]
  },
  {
   "cell_type": "markdown",
   "metadata": {},
   "source": [
    "## Train the convolutional neural network\n",
    "\n",
    "Train this CNN with learning rate 1e-2 for 5 epochs.\n",
    "\n",
    "You should see the training loss is aroung 0.9 and accuracy is around 67%."
   ]
  },
  {
   "cell_type": "code",
   "execution_count": 19,
   "metadata": {
    "tags": []
   },
   "outputs": [
    {
     "name": "stdout",
     "output_type": "stream",
     "text": [
      "Epoch: [1 / 5], batches: [100 / 782], loss: 2.303, acc: 10.34\n",
      "Epoch: [1 / 5], batches: [200 / 782], loss: 2.303, acc: 10.42\n",
      "Epoch: [1 / 5], batches: [300 / 782], loss: 2.303, acc: 10.06\n",
      "Epoch: [1 / 5], batches: [400 / 782], loss: 2.303, acc: 10.06\n",
      "Epoch: [1 / 5], batches: [500 / 782], loss: 2.303, acc: 10.41\n",
      "Epoch: [1 / 5], batches: [600 / 782], loss: 2.302, acc: 10.23\n",
      "Epoch: [1 / 5], batches: [700 / 782], loss: 2.301, acc: 11.06\n",
      "Epoch: [2 / 5], batches: [100 / 782], loss: 2.201, acc: 16.36\n",
      "Epoch: [2 / 5], batches: [200 / 782], loss: 2.108, acc: 21.09\n",
      "Epoch: [2 / 5], batches: [300 / 782], loss: 2.023, acc: 22.78\n",
      "Epoch: [2 / 5], batches: [400 / 782], loss: 1.927, acc: 27.33\n",
      "Epoch: [2 / 5], batches: [500 / 782], loss: 1.869, acc: 29.69\n",
      "Epoch: [2 / 5], batches: [600 / 782], loss: 1.790, acc: 32.78\n",
      "Epoch: [2 / 5], batches: [700 / 782], loss: 1.735, acc: 35.44\n",
      "Epoch: [3 / 5], batches: [100 / 782], loss: 1.660, acc: 38.83\n",
      "Epoch: [3 / 5], batches: [200 / 782], loss: 1.581, acc: 41.77\n",
      "Epoch: [3 / 5], batches: [300 / 782], loss: 1.579, acc: 41.55\n",
      "Epoch: [3 / 5], batches: [400 / 782], loss: 1.543, acc: 42.92\n",
      "Epoch: [3 / 5], batches: [500 / 782], loss: 1.503, acc: 44.53\n",
      "Epoch: [3 / 5], batches: [600 / 782], loss: 1.486, acc: 45.81\n",
      "Epoch: [3 / 5], batches: [700 / 782], loss: 1.460, acc: 47.70\n",
      "Epoch: [4 / 5], batches: [100 / 782], loss: 1.383, acc: 49.06\n",
      "Epoch: [4 / 5], batches: [200 / 782], loss: 1.369, acc: 49.44\n",
      "Epoch: [4 / 5], batches: [300 / 782], loss: 1.369, acc: 50.98\n",
      "Epoch: [4 / 5], batches: [400 / 782], loss: 1.327, acc: 52.47\n",
      "Epoch: [4 / 5], batches: [500 / 782], loss: 1.324, acc: 51.94\n",
      "Epoch: [4 / 5], batches: [600 / 782], loss: 1.292, acc: 54.11\n",
      "Epoch: [4 / 5], batches: [700 / 782], loss: 1.259, acc: 54.53\n",
      "Epoch: [5 / 5], batches: [100 / 782], loss: 1.187, acc: 56.92\n",
      "Epoch: [5 / 5], batches: [200 / 782], loss: 1.189, acc: 57.53\n",
      "Epoch: [5 / 5], batches: [300 / 782], loss: 1.162, acc: 58.72\n",
      "Epoch: [5 / 5], batches: [400 / 782], loss: 1.155, acc: 58.33\n",
      "Epoch: [5 / 5], batches: [500 / 782], loss: 1.164, acc: 59.05\n",
      "Epoch: [5 / 5], batches: [600 / 782], loss: 1.124, acc: 59.53\n",
      "Epoch: [5 / 5], batches: [700 / 782], loss: 1.136, acc: 60.14\n",
      "Finished Training\n"
     ]
    }
   ],
   "source": [
    "'''\n",
    "Implement here, use the train function provided.\n",
    "'''\n",
    "train(conv_net, trainloader, get_optimizer(conv_net, 0.01), 5)"
   ]
  },
  {
   "cell_type": "markdown",
   "metadata": {
    "tags": []
   },
   "source": [
    "## Test the convolutional neural network\n",
    "\n",
    "Test this CNN on the test dataset.\n",
    "\n",
    "You should see the accuracy is around 62%."
   ]
  },
  {
   "cell_type": "code",
   "execution_count": 20,
   "metadata": {
    "tags": []
   },
   "outputs": [
    {
     "name": "stdout",
     "output_type": "stream",
     "text": [
      "Accuracy of the network on the 10000 test images: 60 %\n"
     ]
    }
   ],
   "source": [
    "'''\n",
    "Implement here, use the test function provided.\n",
    "'''\n",
    "test(conv_net, testloader)"
   ]
  },
  {
   "cell_type": "markdown",
   "metadata": {},
   "source": [
    "## Accuracy (each class) of CNN\n",
    "\n",
    "Test this CNN on the test dataset to see the accuracy of each class."
   ]
  },
  {
   "cell_type": "code",
   "execution_count": 21,
   "metadata": {
    "jupyter": {
     "source_hidden": true
    },
    "tags": []
   },
   "outputs": [
    {
     "name": "stdout",
     "output_type": "stream",
     "text": [
      "Accuracy for class plane is: 67.2 %\n",
      "Accuracy for class car   is: 60.6 %\n",
      "Accuracy for class bird  is: 48.4 %\n",
      "Accuracy for class cat   is: 36.2 %\n",
      "Accuracy for class deer  is: 49.0 %\n",
      "Accuracy for class dog   is: 65.4 %\n",
      "Accuracy for class frog  is: 70.9 %\n",
      "Accuracy for class horse is: 70.5 %\n",
      "Accuracy for class ship  is: 64.9 %\n",
      "Accuracy for class truck is: 71.8 %\n"
     ]
    }
   ],
   "source": [
    "'''\n",
    "Implemente here, use the class_test function provided.\n",
    "'''\n",
    "class_test(conv_net, testloader)"
   ]
  },
  {
   "cell_type": "markdown",
   "metadata": {
    "tags": []
   },
   "source": [
    "## Let's use BN\n",
    "\n",
    "Add BatchNorm2d to the convolution neural network you implemented.\n",
    "\n",
    "You should add batchnorm after the convolution operator and before the activation layer.\n",
    "\n",
    "Please train this network and show the test accuracy."
   ]
  },
  {
   "cell_type": "code",
   "execution_count": 22,
   "metadata": {
    "tags": []
   },
   "outputs": [],
   "source": [
    "class ConvolutionBNNet(nn.Module):\n",
    "    def __init__(self):\n",
    "        super().__init__()\n",
    "        '''\n",
    "        Implement here.\n",
    "        '''\n",
    "        self.conv1 = nn.Conv2d(3,8,5,padding=2)\n",
    "        self.conv2 = nn.Conv2d(8,16,5,padding=2,stride=2)\n",
    "        self.conv3 = nn.Conv2d(16,32,5,padding=2)\n",
    "        self.conv4 = nn.Conv2d(32,64,5,padding=2,stride=2)\n",
    "        self.conv5 = nn.Conv2d(64,128,5,padding=2)\n",
    "        # Batch Normalisation\n",
    "        self.bn1 = nn.BatchNorm2d(8)\n",
    "        self.bn2 = nn.BatchNorm2d(16)\n",
    "        self.bn3 = nn.BatchNorm2d(32)\n",
    "        self.bn4 = nn.BatchNorm2d(64)\n",
    "        self.bn5 = nn.BatchNorm2d(128)\n",
    "\n",
    "\n",
    "        self.maxpool = nn.MaxPool2d(5)\n",
    "        self.fc1 = nn.Linear(128, 120)\n",
    "        self.fc2 = nn.Linear(120, 84)\n",
    "        self.fc3 = nn.Linear(84, 10)\n",
    "\n",
    "    def forward(self, x):\n",
    "        '''\n",
    "        Implement here\n",
    "        '''\n",
    "        x = F.relu(self.bn1(self.conv1(x)))\n",
    "        x = F.relu(self.bn2(self.conv2(x)))\n",
    "        x = F.relu(self.bn3(self.conv3(x)))\n",
    "        x = F.relu(self.bn4(self.conv4(x)))\n",
    "        x = self.bn5(self.conv5(x))\n",
    "        x = F.relu(self.maxpool(x))\n",
    "        x = torch.flatten(x,1)\n",
    "        x = F.relu(self.fc1(x))\n",
    "        x = F.relu(self.fc2(x))\n",
    "        x = self.fc3(x)\n",
    "        return x\n",
    "\n",
    "bn_conv_net = ConvolutionBNNet()"
   ]
  },
  {
   "cell_type": "markdown",
   "metadata": {},
   "source": [
    "## Train the CNN with BN\n",
    "\n",
    "Train this CNN with learning rate 1e-2 for 5 epochs."
   ]
  },
  {
   "cell_type": "code",
   "execution_count": 23,
   "metadata": {
    "tags": []
   },
   "outputs": [
    {
     "name": "stdout",
     "output_type": "stream",
     "text": [
      "Epoch: [1 / 5], batches: [100 / 782], loss: 1.977, acc: 25.92\n",
      "Epoch: [1 / 5], batches: [200 / 782], loss: 1.656, acc: 37.22\n",
      "Epoch: [1 / 5], batches: [300 / 782], loss: 1.491, acc: 45.27\n",
      "Epoch: [1 / 5], batches: [400 / 782], loss: 1.465, acc: 45.53\n",
      "Epoch: [1 / 5], batches: [500 / 782], loss: 1.381, acc: 48.64\n",
      "Epoch: [1 / 5], batches: [600 / 782], loss: 1.304, acc: 53.45\n",
      "Epoch: [1 / 5], batches: [700 / 782], loss: 1.239, acc: 55.38\n",
      "Epoch: [2 / 5], batches: [100 / 782], loss: 1.133, acc: 59.23\n",
      "Epoch: [2 / 5], batches: [200 / 782], loss: 1.066, acc: 61.70\n",
      "Epoch: [2 / 5], batches: [300 / 782], loss: 1.057, acc: 62.22\n",
      "Epoch: [2 / 5], batches: [400 / 782], loss: 1.019, acc: 63.70\n",
      "Epoch: [2 / 5], batches: [500 / 782], loss: 1.004, acc: 64.22\n",
      "Epoch: [2 / 5], batches: [600 / 782], loss: 0.987, acc: 64.16\n",
      "Epoch: [2 / 5], batches: [700 / 782], loss: 0.946, acc: 66.84\n",
      "Epoch: [3 / 5], batches: [100 / 782], loss: 0.831, acc: 71.02\n",
      "Epoch: [3 / 5], batches: [200 / 782], loss: 0.808, acc: 71.50\n",
      "Epoch: [3 / 5], batches: [300 / 782], loss: 0.830, acc: 70.98\n",
      "Epoch: [3 / 5], batches: [400 / 782], loss: 0.800, acc: 71.53\n",
      "Epoch: [3 / 5], batches: [500 / 782], loss: 0.797, acc: 72.88\n",
      "Epoch: [3 / 5], batches: [600 / 782], loss: 0.777, acc: 72.72\n",
      "Epoch: [3 / 5], batches: [700 / 782], loss: 0.761, acc: 73.91\n",
      "Epoch: [4 / 5], batches: [100 / 782], loss: 0.657, acc: 77.50\n",
      "Epoch: [4 / 5], batches: [200 / 782], loss: 0.680, acc: 76.44\n",
      "Epoch: [4 / 5], batches: [300 / 782], loss: 0.676, acc: 76.86\n",
      "Epoch: [4 / 5], batches: [400 / 782], loss: 0.645, acc: 77.06\n",
      "Epoch: [4 / 5], batches: [500 / 782], loss: 0.666, acc: 76.66\n",
      "Epoch: [4 / 5], batches: [600 / 782], loss: 0.663, acc: 76.84\n",
      "Epoch: [4 / 5], batches: [700 / 782], loss: 0.662, acc: 76.16\n",
      "Epoch: [5 / 5], batches: [100 / 782], loss: 0.524, acc: 82.42\n",
      "Epoch: [5 / 5], batches: [200 / 782], loss: 0.530, acc: 81.94\n",
      "Epoch: [5 / 5], batches: [300 / 782], loss: 0.544, acc: 81.31\n",
      "Epoch: [5 / 5], batches: [400 / 782], loss: 0.559, acc: 80.47\n",
      "Epoch: [5 / 5], batches: [500 / 782], loss: 0.569, acc: 80.05\n",
      "Epoch: [5 / 5], batches: [600 / 782], loss: 0.588, acc: 79.91\n",
      "Epoch: [5 / 5], batches: [700 / 782], loss: 0.559, acc: 80.64\n",
      "Finished Training\n"
     ]
    }
   ],
   "source": [
    "'''\n",
    "Implement here\n",
    "'''\n",
    "train(bn_conv_net, trainloader, get_optimizer(bn_conv_net, 0.01), 5)\n"
   ]
  },
  {
   "cell_type": "markdown",
   "metadata": {},
   "source": [
    "## Test the CNN with BN\n",
    "\n",
    "Test this CNN on the test dataset."
   ]
  },
  {
   "cell_type": "code",
   "execution_count": 24,
   "metadata": {
    "jupyter": {
     "source_hidden": true
    },
    "tags": []
   },
   "outputs": [
    {
     "name": "stdout",
     "output_type": "stream",
     "text": [
      "Accuracy of the network on the 10000 test images: 72 %\n"
     ]
    }
   ],
   "source": [
    "'''\n",
    "Implement here\n",
    "'''\n",
    "test(bn_conv_net, testloader)\n"
   ]
  },
  {
   "cell_type": "markdown",
   "metadata": {},
   "source": [
    "## Accuracy (each class) of CNN with BN\n",
    "\n",
    "Test this CNN with BNN on the test dataset to see the accuracy of each class."
   ]
  },
  {
   "cell_type": "code",
   "execution_count": 25,
   "metadata": {
    "tags": []
   },
   "outputs": [
    {
     "name": "stdout",
     "output_type": "stream",
     "text": [
      "Accuracy for class plane is: 67.8 %\n",
      "Accuracy for class car   is: 86.2 %\n",
      "Accuracy for class bird  is: 51.8 %\n",
      "Accuracy for class cat   is: 56.1 %\n",
      "Accuracy for class deer  is: 75.3 %\n",
      "Accuracy for class dog   is: 58.3 %\n",
      "Accuracy for class frog  is: 92.4 %\n",
      "Accuracy for class horse is: 80.4 %\n",
      "Accuracy for class ship  is: 82.2 %\n",
      "Accuracy for class truck is: 79.4 %\n"
     ]
    }
   ],
   "source": [
    "'''\n",
    "Implement here, use the class_test function provided.\n",
    "'''\n",
    "class_test(bn_conv_net, testloader)\n"
   ]
  },
  {
   "cell_type": "markdown",
   "metadata": {},
   "source": [
    "## Design by yourself\n",
    "Now, based on the knowledge learned in class or by referring to online resources, you can design your own network architecture or incorporate other optimization methods to improve task performance. Please provide at least one improvement strategy."
   ]
  },
  {
   "cell_type": "code",
   "execution_count": 28,
   "metadata": {
    "tags": []
   },
   "outputs": [
    {
     "name": "stdout",
     "output_type": "stream",
     "text": [
      "Epoch: [1 / 10], batches: [100 / 782], loss: 2.567, acc: 23.55\n",
      "Epoch: [1 / 10], batches: [200 / 782], loss: 1.691, acc: 37.39\n",
      "Epoch: [1 / 10], batches: [300 / 782], loss: 1.560, acc: 42.95\n",
      "Epoch: [1 / 10], batches: [400 / 782], loss: 1.433, acc: 47.17\n",
      "Epoch: [1 / 10], batches: [500 / 782], loss: 1.340, acc: 51.45\n",
      "Epoch: [1 / 10], batches: [600 / 782], loss: 1.208, acc: 56.03\n",
      "Epoch: [1 / 10], batches: [700 / 782], loss: 1.149, acc: 58.75\n",
      "Epoch: [2 / 10], batches: [100 / 782], loss: 0.989, acc: 65.14\n",
      "Epoch: [2 / 10], batches: [200 / 782], loss: 0.937, acc: 66.94\n",
      "Epoch: [2 / 10], batches: [300 / 782], loss: 0.877, acc: 68.62\n",
      "Epoch: [2 / 10], batches: [400 / 782], loss: 0.872, acc: 69.30\n",
      "Epoch: [2 / 10], batches: [500 / 782], loss: 0.806, acc: 71.03\n",
      "Epoch: [2 / 10], batches: [600 / 782], loss: 0.779, acc: 72.78\n",
      "Epoch: [2 / 10], batches: [700 / 782], loss: 0.754, acc: 73.94\n",
      "Epoch: [3 / 10], batches: [100 / 782], loss: 0.617, acc: 78.17\n",
      "Epoch: [3 / 10], batches: [200 / 782], loss: 0.622, acc: 78.09\n",
      "Epoch: [3 / 10], batches: [300 / 782], loss: 0.618, acc: 78.44\n",
      "Epoch: [3 / 10], batches: [400 / 782], loss: 0.628, acc: 77.91\n",
      "Epoch: [3 / 10], batches: [500 / 782], loss: 0.632, acc: 78.72\n",
      "Epoch: [3 / 10], batches: [600 / 782], loss: 0.598, acc: 79.14\n",
      "Epoch: [3 / 10], batches: [700 / 782], loss: 0.606, acc: 78.70\n",
      "Epoch: [4 / 10], batches: [100 / 782], loss: 0.460, acc: 83.77\n",
      "Epoch: [4 / 10], batches: [200 / 782], loss: 0.474, acc: 84.06\n",
      "Epoch: [4 / 10], batches: [300 / 782], loss: 0.479, acc: 83.45\n",
      "Epoch: [4 / 10], batches: [400 / 782], loss: 0.484, acc: 82.89\n",
      "Epoch: [4 / 10], batches: [500 / 782], loss: 0.462, acc: 83.70\n",
      "Epoch: [4 / 10], batches: [600 / 782], loss: 0.471, acc: 84.12\n",
      "Epoch: [4 / 10], batches: [700 / 782], loss: 0.476, acc: 83.38\n",
      "Epoch: [5 / 10], batches: [100 / 782], loss: 0.363, acc: 87.62\n",
      "Epoch: [5 / 10], batches: [200 / 782], loss: 0.351, acc: 87.73\n",
      "Epoch: [5 / 10], batches: [300 / 782], loss: 0.367, acc: 87.38\n",
      "Epoch: [5 / 10], batches: [400 / 782], loss: 0.369, acc: 87.55\n",
      "Epoch: [5 / 10], batches: [500 / 782], loss: 0.361, acc: 87.58\n",
      "Epoch: [5 / 10], batches: [600 / 782], loss: 0.361, acc: 87.59\n",
      "Epoch: [5 / 10], batches: [700 / 782], loss: 0.383, acc: 86.56\n",
      "Epoch: [6 / 10], batches: [100 / 782], loss: 0.259, acc: 91.09\n",
      "Epoch: [6 / 10], batches: [200 / 782], loss: 0.263, acc: 91.02\n",
      "Epoch: [6 / 10], batches: [300 / 782], loss: 0.267, acc: 90.56\n",
      "Epoch: [6 / 10], batches: [400 / 782], loss: 0.281, acc: 90.44\n",
      "Epoch: [6 / 10], batches: [500 / 782], loss: 0.297, acc: 90.00\n",
      "Epoch: [6 / 10], batches: [600 / 782], loss: 0.267, acc: 90.84\n",
      "Epoch: [6 / 10], batches: [700 / 782], loss: 0.296, acc: 89.22\n",
      "Epoch: [7 / 10], batches: [100 / 782], loss: 0.190, acc: 93.61\n",
      "Epoch: [7 / 10], batches: [200 / 782], loss: 0.180, acc: 93.95\n",
      "Epoch: [7 / 10], batches: [300 / 782], loss: 0.193, acc: 93.52\n",
      "Epoch: [7 / 10], batches: [400 / 782], loss: 0.204, acc: 92.92\n",
      "Epoch: [7 / 10], batches: [500 / 782], loss: 0.229, acc: 91.95\n",
      "Epoch: [7 / 10], batches: [600 / 782], loss: 0.219, acc: 92.23\n",
      "Epoch: [7 / 10], batches: [700 / 782], loss: 0.221, acc: 92.25\n",
      "Epoch: [8 / 10], batches: [100 / 782], loss: 0.119, acc: 96.09\n",
      "Epoch: [8 / 10], batches: [200 / 782], loss: 0.123, acc: 95.64\n",
      "Epoch: [8 / 10], batches: [300 / 782], loss: 0.130, acc: 95.61\n",
      "Epoch: [8 / 10], batches: [400 / 782], loss: 0.135, acc: 95.31\n",
      "Epoch: [8 / 10], batches: [500 / 782], loss: 0.149, acc: 94.81\n",
      "Epoch: [8 / 10], batches: [600 / 782], loss: 0.152, acc: 94.58\n",
      "Epoch: [8 / 10], batches: [700 / 782], loss: 0.139, acc: 95.22\n",
      "Epoch: [9 / 10], batches: [100 / 782], loss: 0.088, acc: 96.92\n",
      "Epoch: [9 / 10], batches: [200 / 782], loss: 0.091, acc: 97.02\n",
      "Epoch: [9 / 10], batches: [300 / 782], loss: 0.091, acc: 97.12\n",
      "Epoch: [9 / 10], batches: [400 / 782], loss: 0.100, acc: 96.80\n",
      "Epoch: [9 / 10], batches: [500 / 782], loss: 0.112, acc: 96.00\n",
      "Epoch: [9 / 10], batches: [600 / 782], loss: 0.107, acc: 96.19\n",
      "Epoch: [9 / 10], batches: [700 / 782], loss: 0.110, acc: 96.27\n",
      "Epoch: [10 / 10], batches: [100 / 782], loss: 0.062, acc: 98.11\n",
      "Epoch: [10 / 10], batches: [200 / 782], loss: 0.049, acc: 98.53\n",
      "Epoch: [10 / 10], batches: [300 / 782], loss: 0.070, acc: 97.53\n",
      "Epoch: [10 / 10], batches: [400 / 782], loss: 0.063, acc: 97.98\n",
      "Epoch: [10 / 10], batches: [500 / 782], loss: 0.071, acc: 97.73\n",
      "Epoch: [10 / 10], batches: [600 / 782], loss: 0.084, acc: 97.12\n",
      "Epoch: [10 / 10], batches: [700 / 782], loss: 0.079, acc: 97.27\n",
      "Finished Training\n"
     ]
    }
   ],
   "source": [
    "'''\n",
    "Implement here\n",
    "'''\n",
    "class MyNet(nn.Module):\n",
    "    def __init__(self):\n",
    "        super().__init__()\n",
    "        '''\n",
    "        Implement here.\n",
    "        '''\n",
    "        # vanilla\n",
    "        # self.conv1 = nn.Conv2d(3,8,5,padding=2)\n",
    "        # self.conv2 = nn.Conv2d(8,16,5,padding=2,stride=2)\n",
    "        # self.conv3 = nn.Conv2d(16,32,5,padding=2)\n",
    "        # self.conv4 = nn.Conv2d(32,64,5,padding=2,stride=2)\n",
    "        # self.conv5 = nn.Conv2d(64,128,5,padding=2)\n",
    "        \n",
    "        # no extra stride\n",
    "        # self.conv1 = nn.Conv2d(3,8,5,padding=2)\n",
    "        # self.conv2 = nn.Conv2d(8,16,5,padding=2)\n",
    "        # self.conv3 = nn.Conv2d(16,32,5,padding=2)\n",
    "        # self.conv4 = nn.Conv2d(32,64,5,padding=2)\n",
    "        # self.conv5 = nn.Conv2d(64,128,5,padding=2)\n",
    "        \n",
    "        # extra serving\n",
    "        # self.conv6 = nn.Conv2d(128,256,5,padding=2,stride=2)\n",
    "        # self.conv7 = nn.Conv2d(256,512,5,padding=2)\n",
    "\n",
    "        # no bias\n",
    "        # self.conv1 = nn.Conv2d(3,8,5,padding=2,bias=False)\n",
    "        # self.conv2 = nn.Conv2d(8,16,5,padding=2,stride=2,bias=False)\n",
    "        # self.conv3 = nn.Conv2d(16,32,5,padding=2,bias=False)\n",
    "        # self.conv4 = nn.Conv2d(32,64,5,padding=2,stride=2,bias=False)\n",
    "        # self.conv5 = nn.Conv2d(64,128,5,padding=2,bias=False)\n",
    "\n",
    "        # tripling\n",
    "        # self.conv1 = nn.Conv2d(3,8,5,padding=2)\n",
    "        # self.conv2 = nn.Conv2d(8,24,5,padding=2,stride=2)\n",
    "        # self.conv3 = nn.Conv2d(24,72,5,padding=2)\n",
    "        # self.conv4 = nn.Conv2d(72,216,5,padding=2,stride=2)\n",
    "        # self.conv5 = nn.Conv2d(216,648,5,padding=2)\n",
    "        \n",
    "        # double first layer\n",
    "        # self.conv1 = nn.Conv2d(3,16,5,padding=2)\n",
    "        # self.conv2 = nn.Conv2d(16,32,5,padding=2,stride=2)\n",
    "        # self.conv3 = nn.Conv2d(32,64,5,padding=2)\n",
    "        # self.conv4 = nn.Conv2d(64,128,5,padding=2,stride=2)\n",
    "        # self.conv5 = nn.Conv2d(128,256,5,padding=2) \n",
    "        # self.conv6 = nn.Conv2d(256,512,5,padding=2) \n",
    "        # self.conv7 = nn.Conv2d(512,1024,5,padding=2)\n",
    "        \n",
    "        # quadruple first layer\n",
    "        # self.conv1 = nn.Conv2d(3,32,5,padding=2)\n",
    "        # self.conv2 = nn.Conv2d(32,64,5,padding=2,stride=2)\n",
    "        # self.conv3 = nn.Conv2d(64,128,5,padding=2)\n",
    "        # self.conv4 = nn.Conv2d(128,256,5,padding=2,stride=2)\n",
    "        # self.conv5 = nn.Conv2d(256,512,5,padding=2) \n",
    "        \n",
    "        # 7*7 filter\n",
    "        # self.conv1 = nn.Conv2d(3,8,7,padding=3)\n",
    "        # self.conv2 = nn.Conv2d(8,16,7,padding=3,stride=2)\n",
    "        # self.conv3 = nn.Conv2d(16,32,7,padding=3)\n",
    "        # self.conv4 = nn.Conv2d(32,64,7,padding=3,stride=2)\n",
    "        # self.conv5 = nn.Conv2d(64,128,7,padding=3)\n",
    "\n",
    "        # hail mary\n",
    "        # self.conv1 = nn.Conv2d(3,8,5,padding=2,bias=False)\n",
    "        # self.conv2 = nn.Conv2d(8,16,5,padding=2,bias=False)\n",
    "        # self.conv3 = nn.Conv2d(16,32,5,padding=2,bias=False)\n",
    "        # self.conv4 = nn.Conv2d(32,64,5,padding=2,bias=False)\n",
    "        # self.conv5 = nn.Conv2d(64,128,5,padding=2,bias=False) \n",
    "        \n",
    "        self.conv1 = nn.Conv2d(3,32,5,padding=2,bias=False)\n",
    "        self.conv2 = nn.Conv2d(32,64,5,padding=2,bias=False)\n",
    "        self.conv3 = nn.Conv2d(64,128,5,padding=2,bias=False)\n",
    "        self.conv4 = nn.Conv2d(128,256,5,padding=2,bias=False)\n",
    "        self.conv5 = nn.Conv2d(256,512,5,padding=2,bias=False)  \n",
    "\n",
    "        # self.conv6 = nn.Conv2d(256,512,5,padding=2,bias=False) \n",
    "        # self.conv7 = nn.Conv2d(512,1024,5,padding=2,bias=False) \n",
    "        \n",
    "\n",
    "        # Batch Normalisation\n",
    "        # self.bn1 = nn.BatchNorm2d(8)\n",
    "        # self.bn2 = nn.BatchNorm2d(16)\n",
    "        # self.bn3 = nn.BatchNorm2d(32)\n",
    "        # self.bn4 = nn.BatchNorm2d(64)\n",
    "        # self.bn5 = nn.BatchNorm2d(128)\n",
    "        \n",
    "        self.bn1 = nn.BatchNorm2d(32)\n",
    "        self.bn2 = nn.BatchNorm2d(64)\n",
    "        self.bn3 = nn.BatchNorm2d(128)\n",
    "        self.bn4 = nn.BatchNorm2d(256)\n",
    "        self.bn5 = nn.BatchNorm2d(512)\n",
    "\n",
    "        self.d = nn.Dropout(.2)\n",
    "        self.max5 = nn.MaxPool2d(5)\n",
    "        self.max3 = nn.MaxPool2d(3)\n",
    "        self.max2 = nn.MaxPool2d(2)\n",
    "        # self.avgpool = nn.AvgPool2d(5)\n",
    "        self.fc0 = nn.Linear(512, 128)\n",
    "        # self.fc1 = nn.Linear(128, 120)\n",
    "        self.fc1 = nn.Linear(128, 120)\n",
    "        # self.fc1 = nn.Linear(2048, 120)\n",
    "        self.fc2 = nn.Linear(120, 84)\n",
    "        self.fc3 = nn.Linear(84, 10)\n",
    "        self.fc = nn.Linear(512, 10)\n",
    "\n",
    "    def forward(self, x):\n",
    "        '''\n",
    "        Implement here\n",
    "        '''\n",
    "        # x = F.relu(self.conv1(x))\n",
    "        # x = F.relu(self.conv2(x))\n",
    "        # x = F.relu(self.max2(x))\n",
    "        # x = F.relu(self.conv3(x))\n",
    "        # x = F.relu(self.conv4(x))\n",
    "        # x = F.relu(self.max2(x))\n",
    "        # x = F.relu(self.conv5(x))\n",
    "        \n",
    "        x = F.relu(self.bn1(self.conv1(x)))\n",
    "        \n",
    "        x = F.relu(self.bn2(self.conv2(x)))\n",
    "        x = F.relu(self.max2(x))\n",
    "\n",
    "        x = F.relu(self.bn3(self.conv3(x)))\n",
    "        x = F.relu(self.bn4(self.conv4(x)))\n",
    "        x=self.d(x)\n",
    "        x = F.relu(self.max2(x))\n",
    "        x = F.relu(self.bn5(self.conv5(x)))\n",
    "        x=self.d(x)\n",
    "        # x = F.relu(self.bn6(self.conv6(x)))\n",
    "        \n",
    "        # x = self.bn7(self.conv7(x))\n",
    "        # x = self.bn6(self.conv5(x))\n",
    "\n",
    "\n",
    "        x = F.relu(self.max5(x))\n",
    "\n",
    "        # x = F.relu(self.bn6(self.conv6(x)))\n",
    "        # x = F.relu(self.bn7(self.conv7(x)))\n",
    "        # x = self.bn6(self.conv5(x))\n",
    "        # x = F.relu(self.max2(x))\n",
    "\n",
    "\n",
    "        x = torch.flatten(x, 1)\n",
    "        # x = F.relu(self.fc1(x))\n",
    "        # x = F.relu(self.fc2(x))\n",
    "        # x = self.fc3(x)\n",
    "        # x = F.relu(self.fc0(x))\n",
    "        x = self.fc(x)\n",
    "        # x = self.fc1(x)\n",
    "        return x\n",
    "\n",
    "my_net = MyNet()\n",
    "train(my_net, trainloader, get_optimizer(my_net, 0.01), 10,writer=False)\n",
    "save_model(my_net,'./checkpoints/deliverable_net.pth')"
   ]
  },
  {
   "cell_type": "code",
   "execution_count": 29,
   "metadata": {},
   "outputs": [
    {
     "name": "stderr",
     "output_type": "stream",
     "text": [
      "C:\\Users\\LZh\\AppData\\Local\\Temp\\ipykernel_97400\\338259489.py:4: FutureWarning: You are using `torch.load` with `weights_only=False` (the current default value), which uses the default pickle module implicitly. It is possible to construct malicious pickle data which will execute arbitrary code during unpickling (See https://github.com/pytorch/pytorch/blob/main/SECURITY.md#untrusted-models for more details). In a future release, the default value for `weights_only` will be flipped to `True`. This limits the functions that could be executed during unpickling. Arbitrary objects will no longer be allowed to be loaded via this mode unless they are explicitly allowlisted by the user via `torch.serialization.add_safe_globals`. We recommend you start setting `weights_only=True` for any use case where you don't have full control of the loaded file. Please open an issue on GitHub for any issues related to this experimental feature.\n",
      "  net.load_state_dict(torch.load(path))\n"
     ]
    },
    {
     "name": "stdout",
     "output_type": "stream",
     "text": [
      "Accuracy of the network on the 10000 test images: 84 %\n",
      "Accuracy for class plane is: 85.6 %\n",
      "Accuracy for class car   is: 94.4 %\n",
      "Accuracy for class bird  is: 80.9 %\n",
      "Accuracy for class cat   is: 73.3 %\n",
      "Accuracy for class deer  is: 88.3 %\n",
      "Accuracy for class dog   is: 76.5 %\n",
      "Accuracy for class frog  is: 84.3 %\n",
      "Accuracy for class horse is: 86.5 %\n",
      "Accuracy for class ship  is: 90.1 %\n",
      "Accuracy for class truck is: 81.4 %\n"
     ]
    }
   ],
   "source": [
    "net = MyNet()\n",
    "load_model(net, './checkpoints/deliverable_net.pth')\n",
    "test(net, testloader)\n",
    "class_test(net, testloader)"
   ]
  },
  {
   "cell_type": "markdown",
   "metadata": {
    "tags": []
   },
   "source": [
    "#### Good Job! (slow clap)"
   ]
  }
 ],
 "metadata": {
  "kernelspec": {
   "display_name": "cv_env",
   "language": "python",
   "name": "python3"
  },
  "language_info": {
   "codemirror_mode": {
    "name": "ipython",
    "version": 3
   },
   "file_extension": ".py",
   "mimetype": "text/x-python",
   "name": "python",
   "nbconvert_exporter": "python",
   "pygments_lexer": "ipython3",
   "version": "3.12.7"
  }
 },
 "nbformat": 4,
 "nbformat_minor": 4
}
