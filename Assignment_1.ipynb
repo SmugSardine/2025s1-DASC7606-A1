{
 "cells": [
  {
   "cell_type": "markdown",
   "metadata": {},
   "source": [
    "Assignmnet 1: Image Classification with Neural Networks\n",
    "=====================\n",
    "\n",
    "Data in Deep Learning\n",
    "----------------\n",
    "\n",
    "Generally, when you have to deal with image, text, audio or video data,\n",
    "you can use standard python packages that load data into a numpy array.\n",
    "Then you can convert this array into a ``torch.*Tensor``.\n",
    "\n",
    "-  For images, packages such as Pillow, OpenCV are useful\n",
    "-  For audio, packages such as scipy and librosa\n",
    "-  For text, either raw Python or Cython based loading, or NLTK and\n",
    "   SpaCy are useful\n",
    "\n",
    "Specifically for vision, we have created a package called\n",
    "``torchvision``, that has data loaders for common datasets such as\n",
    "ImageNet, CIFAR10, MNIST, etc. and data transformers for images, viz.,\n",
    "``torchvision.datasets`` and ``torch.utils.data.DataLoader``.\n",
    "\n",
    "This provides a huge convenience and avoids writing boilerplate code.\n",
    "\n",
    "For this assignment, we will use the CIFAR10 dataset.\n",
    "\n",
    "It has the classes: \n",
    "\n",
    "‘airplane’, ‘automobile’, ‘bird’, ‘cat’, ‘deer’,\n",
    "‘dog’, ‘frog’, ‘horse’, ‘ship’, ‘truck’. \n",
    "\n",
    "The images in CIFAR-10 are of size 3x32x32, i.e. 3-channel color images of 32x32 pixels in size.\n",
    "\n",
    "\n",
    "Training an image classifier\n",
    "----------------------------\n",
    "\n",
    "We will do the following steps in order:\n",
    "\n",
    "1. Load and normalize the CIFAR10 training and test datasets using\n",
    "   ``torchvision``\n",
    "2. Define a Convolutional Neural Network\n",
    "3. Define a loss function\n",
    "4. Train the network on the training data\n",
    "5. Test the network on the test data\n",
    "\n",
    "1. Load and normalize CIFAR10\n",
    "\n",
    "\n",
    "Using ``torchvision``, it’s extremely easy to load CIFAR10.\n",
    "\n"
   ]
  },
  {
   "cell_type": "code",
   "execution_count": 1,
   "metadata": {
    "tags": []
   },
   "outputs": [],
   "source": [
    "import torch\n",
    "import torchvision\n",
    "import torchvision.transforms as transforms\n",
    "from torch.utils.tensorboard import SummaryWriter"
   ]
  },
  {
   "cell_type": "markdown",
   "metadata": {},
   "source": [
    "## Training on GPU?"
   ]
  },
  {
   "cell_type": "code",
   "execution_count": 2,
   "metadata": {
    "jupyter": {
     "source_hidden": true
    },
    "tags": []
   },
   "outputs": [
    {
     "name": "stdout",
     "output_type": "stream",
     "text": [
      "cuda:0\n"
     ]
    }
   ],
   "source": [
    "device = torch.device(\"cuda:0\" if torch.cuda.is_available() else \"cpu\")\n",
    "\n",
    "# Assuming that we are on a CUDA machine, this should print a CUDA device:\n",
    "print(device)"
   ]
  },
  {
   "cell_type": "markdown",
   "metadata": {},
   "source": [
    "The rest of this section assumes that ``device`` is a CUDA device."
   ]
  },
  {
   "cell_type": "markdown",
   "metadata": {},
   "source": [
    "## Define the dataset and dataloader\n",
    "\n",
    "The output of torchvision datasets are PILImage images of range [0, 1].\n",
    "We transform them to Tensors of normalized range [-1, 1].\n",
    "\n"
   ]
  },
  {
   "cell_type": "code",
   "execution_count": 3,
   "metadata": {
    "jupyter": {
     "source_hidden": true
    },
    "tags": []
   },
   "outputs": [
    {
     "name": "stdout",
     "output_type": "stream",
     "text": [
      "Files already downloaded and verified\n",
      "Files already downloaded and verified\n",
      "Files already downloaded and verified\n",
      "Files already downloaded and verified\n"
     ]
    }
   ],
   "source": [
    "transform = transforms.Compose(\n",
    "    [transforms.ToTensor(),\n",
    "     transforms.Normalize((0.5, 0.5, 0.5), (0.5, 0.5, 0.5))])\n",
    "\n",
    "batch_size = 64\n",
    "\n",
    "def get_vis_loader():\n",
    "    transform = transforms.Compose(\n",
    "    [transforms.ToTensor(),\n",
    "     transforms.Normalize((0.5, 0.5, 0.5), (0.5, 0.5, 0.5))])\n",
    "\n",
    "    trainset = torchvision.datasets.CIFAR10(root='./data', train=True,\n",
    "                                            download=True, transform=transform)\n",
    "    trainloader = torch.utils.data.DataLoader(trainset, batch_size=4,\n",
    "                                              shuffle=True, num_workers=2)\n",
    "    testset = torchvision.datasets.CIFAR10(root='./data', train=False,\n",
    "                                           download=True, transform=transform)\n",
    "    testloader = torch.utils.data.DataLoader(testset, batch_size=4,\n",
    "                                             shuffle=False, num_workers=2)\n",
    "    return trainloader, testloader\n",
    "\n",
    "def get_train_loader(batch_size, transform):\n",
    "    trainset = torchvision.datasets.CIFAR10(root='./data', train=True,\n",
    "                                            download=True, transform=transform)\n",
    "    trainloader = torch.utils.data.DataLoader(trainset, batch_size=batch_size,\n",
    "                                              shuffle=True, num_workers=2)\n",
    "    return trainloader\n",
    "    \n",
    "def get_test_loader(batch_size, transform):\n",
    "    testset = torchvision.datasets.CIFAR10(root='./data', train=False,\n",
    "                                           download=True, transform=transform)\n",
    "    testloader = torch.utils.data.DataLoader(testset, batch_size=batch_size,\n",
    "                                             shuffle=False, num_workers=2)\n",
    "    return testloader\n",
    "    \n",
    "classes = ('plane', 'car', 'bird', 'cat',\n",
    "           'deer', 'dog', 'frog', 'horse', 'ship', 'truck')\n",
    "\n",
    "vistrainloader, vistestloader = get_vis_loader()\n",
    "trainloader = get_train_loader(batch_size, transform)\n",
    "testloader = get_test_loader(batch_size, transform)"
   ]
  },
  {
   "cell_type": "markdown",
   "metadata": {},
   "source": [
    "## Visualization\n",
    "\n",
    "Let us show some of the training images, for fun.\n",
    "\n"
   ]
  },
  {
   "cell_type": "code",
   "execution_count": 4,
   "metadata": {
    "jupyter": {
     "source_hidden": true
    },
    "tags": []
   },
   "outputs": [
    {
     "data": {
      "image/png": "[encoded data removed]",
      "text/plain": [
       "<Figure size 640x480 with 1 Axes>"
      ]
     },
     "metadata": {},
     "output_type": "display_data"
    },
    {
     "name": "stdout",
     "output_type": "stream",
     "text": [
      " bird plane  bird  ship\n"
     ]
    }
   ],
   "source": [
    "import matplotlib.pyplot as plt\n",
    "import numpy as np\n",
    "\n",
    "# functions to show an image\n",
    "def imshow(img):\n",
    "    img = img / 2 + 0.5     # unnormalize\n",
    "    npimg = img.numpy()\n",
    "    plt.imshow(np.transpose(npimg, (1, 2, 0)))\n",
    "    plt.show()\n",
    "\n",
    "# get some random training images\n",
    "dataiter = iter(vistrainloader)\n",
    "images, labels = next(dataiter)\n",
    "\n",
    "# show images\n",
    "imshow(torchvision.utils.make_grid(images))\n",
    "# print labels\n",
    "print(' '.join('%5s' % classes[labels[j]] for j in range(4)))"
   ]
  },
  {
   "cell_type": "markdown",
   "metadata": {},
   "source": [
    "## Define a Neural Network"
   ]
  },
  {
   "cell_type": "code",
   "execution_count": 5,
   "metadata": {
    "jupyter": {
     "source_hidden": true
    },
    "tags": []
   },
   "outputs": [],
   "source": [
    "import torch.nn as nn\n",
    "import torch.nn.functional as F\n",
    "\n",
    "class NeuralNet(nn.Module):\n",
    "    def __init__(self):\n",
    "        super().__init__()\n",
    "        self.fc1 = nn.Linear(3*32*32, 128)\n",
    "        self.fc2 = nn.Linear(128, 256)\n",
    "        self.fc3 = nn.Linear(256, 512)\n",
    "        self.fc4 = nn.Linear(512, 10)\n",
    "\n",
    "    def forward(self, x):\n",
    "        x = torch.flatten(x, 1) # flatten all dimensions except batch\n",
    "        x = F.relu(self.fc1(x))\n",
    "        x = F.relu(self.fc2(x))\n",
    "        x = F.relu(self.fc3(x))\n",
    "        x = self.fc4(x)\n",
    "        return x\n",
    "\n",
    "fc_net = NeuralNet()"
   ]
  },
  {
   "cell_type": "markdown",
   "metadata": {},
   "source": [
    "## Define a Loss function and optimizer\n",
    "\n",
    "Let's use a Classification Cross-Entropy loss and SGD with momentum.\n",
    "\n"
   ]
  },
  {
   "cell_type": "code",
   "execution_count": 6,
   "metadata": {
    "jupyter": {
     "source_hidden": true
    },
    "tags": []
   },
   "outputs": [],
   "source": [
    "import torch.optim as optim\n",
    "\n",
    "def get_optimizer(net, lr=0.01,m=0.9):\n",
    "    optimizer = optim.SGD(net.parameters(), lr=lr, momentum=m)\n",
    "    return optimizer\n",
    "\n",
    "def accuracy(output, target):\n",
    "    # get the index of the max log-probability\n",
    "    pred = output.max(1, keepdim=True)[1]\n",
    "    return pred.eq(target.view_as(pred)).float().mean()\n",
    "\n",
    "criterion = nn.CrossEntropyLoss()\n",
    "optimizer = get_optimizer(fc_net, 0.01)"
   ]
  },
  {
   "cell_type": "markdown",
   "metadata": {},
   "source": [
    "## Define training code"
   ]
  },
  {
   "cell_type": "code",
   "execution_count": 7,
   "metadata": {
    "tags": []
   },
   "outputs": [],
   "source": [
    "def forward_step(net, inputs, labels):\n",
    "    outputs = net(inputs)\n",
    "    loss = criterion(outputs, labels)\n",
    "    return outputs, loss, labels\n",
    "\n",
    "\n",
    "def train(net, loader, optimizer, max_epoch,writer=False):\n",
    "    net.to(device)\n",
    "    net.train()\n",
    "    N = len(loader)\n",
    "    print_interval = (N // 8 // 100 + 1) * 100\n",
    "    if writer: w = SummaryWriter('runs/'+writer)\n",
    "    for epoch in range(max_epoch):  # loop over the dataset multiple times\n",
    "        running_loss = 0.0\n",
    "        running_acc = 0.0\n",
    "        for i, data in enumerate(loader, 0):\n",
    "            # get the inputs; data is a list of [inputs, labels]\n",
    "            images, labels = data[0].to(device), data[1].to(device) \n",
    "\n",
    "            # zero the parameter gradients\n",
    "            optimizer.zero_grad()\n",
    "\n",
    "            # forward + backward + optimize\n",
    "            outputs, loss, labels = forward_step(net, images, labels)\n",
    "            loss.backward()\n",
    "            optimizer.step()\n",
    "\n",
    "            # print statistics\n",
    "            running_loss += loss.item()\n",
    "            running_acc += accuracy(outputs, labels).item()\n",
    "            if (i + 1) % print_interval == 0:\n",
    "                print('Epoch: [%d / %d], batches: [%d / %d], loss: %.3f, acc: %.2f' %\n",
    "                      (epoch + 1, max_epoch, i + 1, N, \n",
    "                       running_loss / print_interval, 100 * running_acc / print_interval))\n",
    "                \n",
    "                if writer: \n",
    "                    w.add_scalar(\"Loss/train\", running_loss, epoch+1) # tensorboard\n",
    "                    w.add_scalar(\"Accuracy/train\", running_acc, epoch+1)\n",
    "                running_loss = 0.0\n",
    "                running_acc = 0.0\n",
    "    if writer: \n",
    "        w.flush()\n",
    "        w.close()   \n",
    "    print('Finished Training')"
   ]
  },
  {
   "cell_type": "markdown",
   "metadata": {},
   "source": [
    "## Train the network\n",
    "\n",
    "This is when things start to get interesting.\n",
    "We simply have to loop over our data iterator, and feed the inputs to the\n",
    "network and optimize.\n",
    "\n"
   ]
  },
  {
   "cell_type": "code",
   "execution_count": 8,
   "metadata": {
    "tags": []
   },
   "outputs": [
    {
     "name": "stdout",
     "output_type": "stream",
     "text": [
      "Epoch: [1 / 5], batches: [100 / 782], loss: 2.204, acc: 19.67\n",
      "Epoch: [1 / 5], batches: [200 / 782], loss: 1.914, acc: 30.50\n",
      "Epoch: [1 / 5], batches: [300 / 782], loss: 1.772, acc: 36.23\n",
      "Epoch: [1 / 5], batches: [400 / 782], loss: 1.725, acc: 37.62\n",
      "Epoch: [1 / 5], batches: [500 / 782], loss: 1.683, acc: 39.58\n",
      "Epoch: [1 / 5], batches: [600 / 782], loss: 1.625, acc: 42.38\n",
      "Epoch: [1 / 5], batches: [700 / 782], loss: 1.602, acc: 42.67\n",
      "Epoch: [2 / 5], batches: [100 / 782], loss: 1.501, acc: 47.14\n",
      "Epoch: [2 / 5], batches: [200 / 782], loss: 1.514, acc: 46.17\n",
      "Epoch: [2 / 5], batches: [300 / 782], loss: 1.486, acc: 47.92\n",
      "Epoch: [2 / 5], batches: [400 / 782], loss: 1.501, acc: 46.64\n",
      "Epoch: [2 / 5], batches: [500 / 782], loss: 1.460, acc: 48.30\n",
      "Epoch: [2 / 5], batches: [600 / 782], loss: 1.471, acc: 46.77\n",
      "Epoch: [2 / 5], batches: [700 / 782], loss: 1.466, acc: 48.33\n",
      "Epoch: [3 / 5], batches: [100 / 782], loss: 1.385, acc: 50.95\n",
      "Epoch: [3 / 5], batches: [200 / 782], loss: 1.383, acc: 51.08\n",
      "Epoch: [3 / 5], batches: [300 / 782], loss: 1.391, acc: 50.84\n",
      "Epoch: [3 / 5], batches: [400 / 782], loss: 1.365, acc: 51.47\n",
      "Epoch: [3 / 5], batches: [500 / 782], loss: 1.364, acc: 51.17\n",
      "Epoch: [3 / 5], batches: [600 / 782], loss: 1.377, acc: 50.59\n",
      "Epoch: [3 / 5], batches: [700 / 782], loss: 1.315, acc: 52.64\n",
      "Epoch: [4 / 5], batches: [100 / 782], loss: 1.257, acc: 55.16\n",
      "Epoch: [4 / 5], batches: [200 / 782], loss: 1.277, acc: 54.41\n",
      "Epoch: [4 / 5], batches: [300 / 782], loss: 1.304, acc: 52.81\n",
      "Epoch: [4 / 5], batches: [400 / 782], loss: 1.283, acc: 54.14\n",
      "Epoch: [4 / 5], batches: [500 / 782], loss: 1.300, acc: 54.02\n",
      "Epoch: [4 / 5], batches: [600 / 782], loss: 1.284, acc: 54.09\n",
      "Epoch: [4 / 5], batches: [700 / 782], loss: 1.281, acc: 54.20\n",
      "Epoch: [5 / 5], batches: [100 / 782], loss: 1.221, acc: 56.86\n",
      "Epoch: [5 / 5], batches: [200 / 782], loss: 1.206, acc: 56.91\n",
      "Epoch: [5 / 5], batches: [300 / 782], loss: 1.215, acc: 56.80\n",
      "Epoch: [5 / 5], batches: [400 / 782], loss: 1.206, acc: 57.05\n",
      "Epoch: [5 / 5], batches: [500 / 782], loss: 1.202, acc: 57.44\n",
      "Epoch: [5 / 5], batches: [600 / 782], loss: 1.239, acc: 55.92\n",
      "Epoch: [5 / 5], batches: [700 / 782], loss: 1.207, acc: 57.66\n",
      "Finished Training\n"
     ]
    }
   ],
   "source": [
    "train(fc_net, trainloader, optimizer, 5)"
   ]
  },
  {
   "cell_type": "markdown",
   "metadata": {},
   "source": [
    "## Let's quickly save our trained model:\n",
    "\n"
   ]
  },
  {
   "cell_type": "code",
   "execution_count": 9,
   "metadata": {
    "tags": []
   },
   "outputs": [],
   "source": [
    "PATH = './checkpoints/cifar_net.pth'\n",
    "\n",
    "def save_model(net, path):\n",
    "    torch.save(net.state_dict(), path)\n",
    "    \n",
    "save_model(fc_net, PATH)"
   ]
  },
  {
   "cell_type": "markdown",
   "metadata": {},
   "source": [
    "## Test the network on the test data\n",
    "\n",
    "\n",
    "We have trained the network for 2 passes over the training dataset.\n",
    "But we need to check if the network has learnt anything at all.\n",
    "\n",
    "We will check this by predicting the class label that the neural network\n",
    "outputs, and checking it against the ground-truth. If the prediction is\n",
    "correct, we add the sample to the list of correct predictions.\n",
    "\n",
    "Okay, first step. Let us display an image from the test set to get familiar.\n",
    "\n"
   ]
  },
  {
   "cell_type": "code",
   "execution_count": 10,
   "metadata": {
    "tags": []
   },
   "outputs": [
    {
     "data": {
      "image/png": "[encoded data removed]",
      "text/plain": [
       "<Figure size 640x480 with 1 Axes>"
      ]
     },
     "metadata": {},
     "output_type": "display_data"
    },
    {
     "name": "stdout",
     "output_type": "stream",
     "text": [
      "GroundTruth:    cat  ship  ship plane\n"
     ]
    }
   ],
   "source": [
    "dataiter = iter(vistestloader)\n",
    "images, labels = next(dataiter)\n",
    "\n",
    "# print images\n",
    "imshow(torchvision.utils.make_grid(images))\n",
    "print('GroundTruth: ', ' '.join('%5s' % classes[labels[j]] for j in range(4)))"
   ]
  },
  {
   "cell_type": "markdown",
   "metadata": {},
   "source": [
    "## Load a model\n",
    "Next, let's load back in our saved model (note: saving and re-loading the model\n",
    "wasn't necessary here, we only did it to illustrate how to do so):\n",
    "\n"
   ]
  },
  {
   "cell_type": "code",
   "execution_count": 11,
   "metadata": {
    "tags": []
   },
   "outputs": [
    {
     "name": "stderr",
     "output_type": "stream",
     "text": [
      "/tmp/.u3641195/ipykernel_1274584/338259489.py:4: FutureWarning: You are using `torch.load` with `weights_only=False` (the current default value), which uses the default pickle module implicitly. It is possible to construct malicious pickle data which will execute arbitrary code during unpickling (See https://github.com/pytorch/pytorch/blob/main/SECURITY.md#untrusted-models for more details). In a future release, the default value for `weights_only` will be flipped to `True`. This limits the functions that could be executed during unpickling. Arbitrary objects will no longer be allowed to be loaded via this mode unless they are explicitly allowlisted by the user via `torch.serialization.add_safe_globals`. We recommend you start setting `weights_only=True` for any use case where you don't have full control of the loaded file. Please open an issue on GitHub for any issues related to this experimental feature.\n",
      "  net.load_state_dict(torch.load(path))\n"
     ]
    }
   ],
   "source": [
    "net = NeuralNet()\n",
    "\n",
    "def load_model(net, path):\n",
    "    net.load_state_dict(torch.load(path))\n",
    "    \n",
    "load_model(net, PATH)"
   ]
  },
  {
   "cell_type": "markdown",
   "metadata": {},
   "source": [
    "Okay, now let us see what the neural network thinks these examples above are:\n",
    "\n"
   ]
  },
  {
   "cell_type": "code",
   "execution_count": 12,
   "metadata": {
    "tags": []
   },
   "outputs": [],
   "source": [
    "outputs = net(images)"
   ]
  },
  {
   "cell_type": "markdown",
   "metadata": {},
   "source": [
    "The outputs are energies for the 10 classes.\n",
    "The higher the energy for a class, the more the network\n",
    "thinks that the image is of the particular class.\n",
    "So, let's get the index of the highest energy:\n",
    "\n"
   ]
  },
  {
   "cell_type": "code",
   "execution_count": 13,
   "metadata": {
    "tags": []
   },
   "outputs": [
    {
     "name": "stdout",
     "output_type": "stream",
     "text": [
      "Predicted:    cat  ship plane plane\n"
     ]
    }
   ],
   "source": [
    "_, predicted = torch.max(outputs, 1)\n",
    "\n",
    "print('Predicted: ', ' '.join('%5s' % classes[predicted[j]]\n",
    "                              for j in range(4)))"
   ]
  },
  {
   "cell_type": "markdown",
   "metadata": {},
   "source": [
    "## Define testing code"
   ]
  },
  {
   "cell_type": "code",
   "execution_count": 14,
   "metadata": {
    "tags": []
   },
   "outputs": [],
   "source": [
    "def test(net, testloader):\n",
    "    correct = 0\n",
    "    total = 0\n",
    "    net.to(device)\n",
    "    net.eval()\n",
    "    # since we're not training, we don't need to calculate the gradients for our outputs\n",
    "    with torch.no_grad():\n",
    "        for data in testloader:\n",
    "            images, labels = data[0].to(device), data[1].to(device)\n",
    "            # calculate outputs by running images through the network\n",
    "            outputs = net(images)\n",
    "            # the class with the highest energy is what we choose as prediction\n",
    "            _, predicted = torch.max(outputs.data, 1)\n",
    "            total += labels.size(0)\n",
    "            correct += (predicted == labels).sum().item()\n",
    "\n",
    "    print('Accuracy of the network on the 10000 test images: %d %%' % (\n",
    "        100 * correct / total))"
   ]
  },
  {
   "cell_type": "code",
   "execution_count": 15,
   "metadata": {
    "tags": []
   },
   "outputs": [
    {
     "name": "stdout",
     "output_type": "stream",
     "text": [
      "Accuracy of the network on the 10000 test images: 53 %\n"
     ]
    }
   ],
   "source": [
    "test(net, testloader)"
   ]
  },
  {
   "cell_type": "markdown",
   "metadata": {},
   "source": [
    "## See accuracy of each class\n",
    "\n",
    "That looks way better than chance, which is 10% accuracy (randomly picking\n",
    "a class out of 10 classes).\n",
    "Seems like the network learnt something.\n",
    "\n",
    "Hmmm, what are the classes that performed well, and the classes that did\n",
    "not perform well:\n",
    "\n"
   ]
  },
  {
   "cell_type": "code",
   "execution_count": 16,
   "metadata": {
    "tags": []
   },
   "outputs": [],
   "source": [
    "def class_test(net, testloader):\n",
    "    # prepare to count predictions for each class\n",
    "    correct_pred = {classname: 0 for classname in classes}\n",
    "    total_pred = {classname: 0 for classname in classes}\n",
    "    \n",
    "    net.to(device)\n",
    "    net.eval()\n",
    "    # again no gradients needed\n",
    "    with torch.no_grad():\n",
    "        for data in testloader:\n",
    "            images, labels = data[0].to(device), data[1].to(device)  \n",
    "            outputs = net(images)    \n",
    "            _, predictions = torch.max(outputs, 1)\n",
    "            # collect the correct predictions for each class\n",
    "            for label, prediction in zip(labels, predictions):\n",
    "                if label == prediction:\n",
    "                    correct_pred[classes[label]] += 1\n",
    "                total_pred[classes[label]] += 1\n",
    "\n",
    "\n",
    "    # print accuracy for each class\n",
    "    for classname, correct_count in correct_pred.items():\n",
    "        acc = 100 * float(correct_count) / total_pred[classname]\n",
    "        print(\"Accuracy for class {:5s} is: {:.1f} %\".format(classname, \n",
    "                                                       acc))"
   ]
  },
  {
   "cell_type": "code",
   "execution_count": 17,
   "metadata": {
    "tags": []
   },
   "outputs": [
    {
     "name": "stdout",
     "output_type": "stream",
     "text": [
      "Accuracy for class plane is: 57.9 %\n",
      "Accuracy for class car   is: 61.9 %\n",
      "Accuracy for class bird  is: 44.8 %\n",
      "Accuracy for class cat   is: 40.6 %\n",
      "Accuracy for class deer  is: 41.8 %\n",
      "Accuracy for class dog   is: 37.6 %\n",
      "Accuracy for class frog  is: 61.4 %\n",
      "Accuracy for class horse is: 60.5 %\n",
      "Accuracy for class ship  is: 71.1 %\n",
      "Accuracy for class truck is: 53.2 %\n"
     ]
    }
   ],
   "source": [
    "class_test(net, testloader)"
   ]
  },
  {
   "cell_type": "markdown",
   "metadata": {},
   "source": [
    "# Your turn now!"
   ]
  },
  {
   "cell_type": "markdown",
   "metadata": {},
   "source": [
    "## Define a Convolutional Neural Network\n",
    "\n",
    "The architecture should be:\n",
    "\n",
    "    conv2d, 5x5, 3->8, padding=2\n",
    "\n",
    "    Relu()\n",
    "\n",
    "    conv2d, 5x5, 8->16, padding=2, stride=2\n",
    "\n",
    "    Relu()\n",
    "\n",
    "    conv2d, 5x5, 16->32, padding=2\n",
    "    \n",
    "    Relu()\n",
    "\n",
    "    conv2d, 5x5, 32->64, padding=2, stride=2\n",
    "    \n",
    "    Relu()\n",
    "\n",
    "    conv2d, 5x5, 64->128, padding=2\n",
    "\n",
    "    maxpool2d\n",
    "\n",
    "    Relu()\n",
    "\n",
    "    flatten the feature map\n",
    "\n",
    "    fc, the whole feature map -> 120\n",
    "\n",
    "    Relu()\n",
    "\n",
    "    fc, 120->84\n",
    "\n",
    "    Relu()\n",
    "\n",
    "    fc, 84->10\n",
    "    "
   ]
  },
  {
   "cell_type": "code",
   "execution_count": 18,
   "metadata": {
    "tags": []
   },
   "outputs": [],
   "source": [
    "import torch.nn as nn\n",
    "import torch.nn.functional as F\n",
    "\n",
    "\n",
    "class ConvolutionNet(nn.Module):\n",
    "    def __init__(self):\n",
    "        super().__init__()\n",
    "        '''\n",
    "        Implement here\n",
    "        '''\n",
    "        self.conv1 = nn.Conv2d(3,8,5,padding=2)\n",
    "        self.conv2 = nn.Conv2d(8,16,5,padding=2,stride=2)\n",
    "        self.conv3 = nn.Conv2d(16,32,5,padding=2)\n",
    "        self.conv4 = nn.Conv2d(32,64,5,padding=2,stride=2)\n",
    "        self.conv5 = nn.Conv2d(64,128,5,padding=2)\n",
    "        self.maxpool = nn.MaxPool2d(5)\n",
    "        self.fc1 = nn.Linear(128, 120)\n",
    "        self.fc2 = nn.Linear(120, 84)\n",
    "        self.fc3 = nn.Linear(84, 10)\n",
    "\n",
    "    def forward(self, x):\n",
    "        '''\n",
    "        Implement here\n",
    "        '''\n",
    "        x = F.relu(self.conv1(x))\n",
    "        x = F.relu(self.conv2(x))\n",
    "        x = F.relu(self.conv3(x))\n",
    "        x = F.relu(self.conv4(x))\n",
    "        x = F.relu(self.conv5(x))\n",
    "        x = F.relu(self.maxpool(x))\n",
    "        x = torch.flatten(x,1)\n",
    "        x = F.relu(self.fc1(x))\n",
    "        x = F.relu(self.fc2(x))\n",
    "        x = self.fc3(x)\n",
    "        return x\n",
    "\n",
    "conv_net = ConvolutionNet()"
   ]
  },
  {
   "cell_type": "markdown",
   "metadata": {},
   "source": [
    "## Train the convolutional neural network\n",
    "\n",
    "Train this CNN with learning rate 1e-2 for 5 epochs.\n",
    "\n",
    "You should see the training loss is aroung 0.9 and accuracy is around 67%."
   ]
  },
  {
   "cell_type": "code",
   "execution_count": 19,
   "metadata": {
    "tags": []
   },
   "outputs": [
    {
     "name": "stdout",
     "output_type": "stream",
     "text": [
      "Epoch: [1 / 5], batches: [100 / 782], loss: 2.304, acc: 10.45\n",
      "Epoch: [1 / 5], batches: [200 / 782], loss: 2.303, acc: 9.61\n",
      "Epoch: [1 / 5], batches: [300 / 782], loss: 2.303, acc: 10.05\n",
      "Epoch: [1 / 5], batches: [400 / 782], loss: 2.303, acc: 9.92\n",
      "Epoch: [1 / 5], batches: [500 / 782], loss: 2.303, acc: 10.12\n",
      "Epoch: [1 / 5], batches: [600 / 782], loss: 2.298, acc: 11.47\n",
      "Epoch: [1 / 5], batches: [700 / 782], loss: 2.198, acc: 16.08\n",
      "Epoch: [2 / 5], batches: [100 / 782], loss: 2.004, acc: 24.36\n",
      "Epoch: [2 / 5], batches: [200 / 782], loss: 1.915, acc: 28.19\n",
      "Epoch: [2 / 5], batches: [300 / 782], loss: 1.870, acc: 29.94\n",
      "Epoch: [2 / 5], batches: [400 / 782], loss: 1.824, acc: 32.00\n",
      "Epoch: [2 / 5], batches: [500 / 782], loss: 1.786, acc: 33.50\n",
      "Epoch: [2 / 5], batches: [600 / 782], loss: 1.749, acc: 35.52\n",
      "Epoch: [2 / 5], batches: [700 / 782], loss: 1.681, acc: 38.53\n",
      "Epoch: [3 / 5], batches: [100 / 782], loss: 1.608, acc: 40.94\n",
      "Epoch: [3 / 5], batches: [200 / 782], loss: 1.594, acc: 41.28\n",
      "Epoch: [3 / 5], batches: [300 / 782], loss: 1.533, acc: 43.73\n",
      "Epoch: [3 / 5], batches: [400 / 782], loss: 1.510, acc: 44.88\n",
      "Epoch: [3 / 5], batches: [500 / 782], loss: 1.474, acc: 47.33\n",
      "Epoch: [3 / 5], batches: [600 / 782], loss: 1.440, acc: 47.67\n",
      "Epoch: [3 / 5], batches: [700 / 782], loss: 1.417, acc: 48.92\n",
      "Epoch: [4 / 5], batches: [100 / 782], loss: 1.373, acc: 50.05\n",
      "Epoch: [4 / 5], batches: [200 / 782], loss: 1.317, acc: 52.33\n",
      "Epoch: [4 / 5], batches: [300 / 782], loss: 1.296, acc: 53.11\n",
      "Epoch: [4 / 5], batches: [400 / 782], loss: 1.277, acc: 53.20\n",
      "Epoch: [4 / 5], batches: [500 / 782], loss: 1.259, acc: 54.83\n",
      "Epoch: [4 / 5], batches: [600 / 782], loss: 1.251, acc: 54.70\n",
      "Epoch: [4 / 5], batches: [700 / 782], loss: 1.250, acc: 55.81\n",
      "Epoch: [5 / 5], batches: [100 / 782], loss: 1.147, acc: 59.28\n",
      "Epoch: [5 / 5], batches: [200 / 782], loss: 1.140, acc: 58.84\n",
      "Epoch: [5 / 5], batches: [300 / 782], loss: 1.112, acc: 60.62\n",
      "Epoch: [5 / 5], batches: [400 / 782], loss: 1.101, acc: 60.20\n",
      "Epoch: [5 / 5], batches: [500 / 782], loss: 1.108, acc: 60.38\n",
      "Epoch: [5 / 5], batches: [600 / 782], loss: 1.100, acc: 61.36\n",
      "Epoch: [5 / 5], batches: [700 / 782], loss: 1.071, acc: 61.42\n",
      "Finished Training\n"
     ]
    }
   ],
   "source": [
    "'''\n",
    "Implement here, use the train function provided.\n",
    "'''\n",
    "train(conv_net, trainloader, get_optimizer(conv_net, 0.01), 5)"
   ]
  },
  {
   "cell_type": "markdown",
   "metadata": {
    "tags": []
   },
   "source": [
    "## Test the convolutional neural network\n",
    "\n",
    "Test this CNN on the test dataset.\n",
    "\n",
    "You should see the accuracy is around 62%."
   ]
  },
  {
   "cell_type": "code",
   "execution_count": 20,
   "metadata": {
    "tags": []
   },
   "outputs": [
    {
     "name": "stdout",
     "output_type": "stream",
     "text": [
      "Accuracy of the network on the 10000 test images: 61 %\n"
     ]
    }
   ],
   "source": [
    "'''\n",
    "Implement here, use the test function provided.\n",
    "'''\n",
    "test(conv_net, testloader)"
   ]
  },
  {
   "cell_type": "markdown",
   "metadata": {},
   "source": [
    "## Accuracy (each class) of CNN\n",
    "\n",
    "Test this CNN on the test dataset to see the accuracy of each class."
   ]
  },
  {
   "cell_type": "code",
   "execution_count": 21,
   "metadata": {
    "jupyter": {
     "source_hidden": true
    },
    "tags": []
   },
   "outputs": [
    {
     "name": "stdout",
     "output_type": "stream",
     "text": [
      "Accuracy for class plane is: 75.7 %\n",
      "Accuracy for class car   is: 75.8 %\n",
      "Accuracy for class bird  is: 61.6 %\n",
      "Accuracy for class cat   is: 33.3 %\n",
      "Accuracy for class deer  is: 43.4 %\n",
      "Accuracy for class dog   is: 32.3 %\n",
      "Accuracy for class frog  is: 80.9 %\n",
      "Accuracy for class horse is: 70.6 %\n",
      "Accuracy for class ship  is: 65.8 %\n",
      "Accuracy for class truck is: 71.9 %\n"
     ]
    }
   ],
   "source": [
    "'''\n",
    "Implemente here, use the class_test function provided.\n",
    "'''\n",
    "class_test(conv_net, testloader)"
   ]
  },
  {
   "cell_type": "markdown",
   "metadata": {
    "tags": []
   },
   "source": [
    "## Let's use BN\n",
    "\n",
    "Add BatchNorm2d to the convolution neural network you implemented.\n",
    "\n",
    "You should add batchnorm after the convolution operator and before the activation layer.\n",
    "\n",
    "Please train this network and show the test accuracy."
   ]
  },
  {
   "cell_type": "code",
   "execution_count": 22,
   "metadata": {
    "tags": []
   },
   "outputs": [],
   "source": [
    "class ConvolutionBNNet(nn.Module):\n",
    "    def __init__(self):\n",
    "        super().__init__()\n",
    "        '''\n",
    "        Implement here.\n",
    "        '''\n",
    "        self.conv1 = nn.Conv2d(3,8,5,padding=2)\n",
    "        self.conv2 = nn.Conv2d(8,16,5,padding=2,stride=2)\n",
    "        self.conv3 = nn.Conv2d(16,32,5,padding=2)\n",
    "        self.conv4 = nn.Conv2d(32,64,5,padding=2,stride=2)\n",
    "        self.conv5 = nn.Conv2d(64,128,5,padding=2)\n",
    "        # Batch Normalisation\n",
    "        self.bn1 = nn.BatchNorm2d(8)\n",
    "        self.bn2 = nn.BatchNorm2d(16)\n",
    "        self.bn3 = nn.BatchNorm2d(32)\n",
    "        self.bn4 = nn.BatchNorm2d(64)\n",
    "        self.bn5 = nn.BatchNorm2d(128)\n",
    "\n",
    "\n",
    "        self.maxpool = nn.MaxPool2d(5)\n",
    "        self.fc1 = nn.Linear(128, 120)\n",
    "        self.fc2 = nn.Linear(120, 84)\n",
    "        self.fc3 = nn.Linear(84, 10)\n",
    "\n",
    "    def forward(self, x):\n",
    "        '''\n",
    "        Implement here\n",
    "        '''\n",
    "        x = F.relu(self.bn1(self.conv1(x)))\n",
    "        x = F.relu(self.bn2(self.conv2(x)))\n",
    "        x = F.relu(self.bn3(self.conv3(x)))\n",
    "        x = F.relu(self.bn4(self.conv4(x)))\n",
    "        x = self.bn5(self.conv5(x))\n",
    "        x = F.relu(self.maxpool(x))\n",
    "        x = torch.flatten(x,1)\n",
    "        x = F.relu(self.fc1(x))\n",
    "        x = F.relu(self.fc2(x))\n",
    "        x = self.fc3(x)\n",
    "        return x\n",
    "\n",
    "bn_conv_net = ConvolutionBNNet()"
   ]
  },
  {
   "cell_type": "markdown",
   "metadata": {},
   "source": [
    "## Train the CNN with BN\n",
    "\n",
    "Train this CNN with learning rate 1e-2 for 5 epochs."
   ]
  },
  {
   "cell_type": "code",
   "execution_count": 23,
   "metadata": {
    "tags": []
   },
   "outputs": [
    {
     "name": "stdout",
     "output_type": "stream",
     "text": [
      "Epoch: [1 / 5], batches: [100 / 782], loss: 2.039, acc: 24.62\n",
      "Epoch: [1 / 5], batches: [200 / 782], loss: 1.728, acc: 35.25\n",
      "Epoch: [1 / 5], batches: [300 / 782], loss: 1.588, acc: 40.30\n",
      "Epoch: [1 / 5], batches: [400 / 782], loss: 1.510, acc: 44.14\n",
      "Epoch: [1 / 5], batches: [500 / 782], loss: 1.423, acc: 47.92\n",
      "Epoch: [1 / 5], batches: [600 / 782], loss: 1.335, acc: 51.19\n",
      "Epoch: [1 / 5], batches: [700 / 782], loss: 1.253, acc: 54.22\n",
      "Epoch: [2 / 5], batches: [100 / 782], loss: 1.180, acc: 57.50\n",
      "Epoch: [2 / 5], batches: [200 / 782], loss: 1.139, acc: 58.78\n",
      "Epoch: [2 / 5], batches: [300 / 782], loss: 1.121, acc: 60.00\n",
      "Epoch: [2 / 5], batches: [400 / 782], loss: 1.091, acc: 61.34\n",
      "Epoch: [2 / 5], batches: [500 / 782], loss: 1.061, acc: 61.58\n",
      "Epoch: [2 / 5], batches: [600 / 782], loss: 1.015, acc: 63.31\n",
      "Epoch: [2 / 5], batches: [700 / 782], loss: 0.994, acc: 64.03\n",
      "Epoch: [3 / 5], batches: [100 / 782], loss: 0.934, acc: 66.97\n",
      "Epoch: [3 / 5], batches: [200 / 782], loss: 0.873, acc: 68.58\n",
      "Epoch: [3 / 5], batches: [300 / 782], loss: 0.875, acc: 68.72\n",
      "Epoch: [3 / 5], batches: [400 / 782], loss: 0.872, acc: 70.20\n",
      "Epoch: [3 / 5], batches: [500 / 782], loss: 0.831, acc: 70.73\n",
      "Epoch: [3 / 5], batches: [600 / 782], loss: 0.806, acc: 71.94\n",
      "Epoch: [3 / 5], batches: [700 / 782], loss: 0.808, acc: 72.16\n",
      "Epoch: [4 / 5], batches: [100 / 782], loss: 0.691, acc: 76.28\n",
      "Epoch: [4 / 5], batches: [200 / 782], loss: 0.709, acc: 75.08\n",
      "Epoch: [4 / 5], batches: [300 / 782], loss: 0.701, acc: 75.33\n",
      "Epoch: [4 / 5], batches: [400 / 782], loss: 0.713, acc: 74.61\n",
      "Epoch: [4 / 5], batches: [500 / 782], loss: 0.699, acc: 75.20\n",
      "Epoch: [4 / 5], batches: [600 / 782], loss: 0.698, acc: 76.38\n",
      "Epoch: [4 / 5], batches: [700 / 782], loss: 0.698, acc: 75.30\n",
      "Epoch: [5 / 5], batches: [100 / 782], loss: 0.578, acc: 80.11\n",
      "Epoch: [5 / 5], batches: [200 / 782], loss: 0.583, acc: 79.58\n",
      "Epoch: [5 / 5], batches: [300 / 782], loss: 0.588, acc: 79.77\n",
      "Epoch: [5 / 5], batches: [400 / 782], loss: 0.579, acc: 80.08\n",
      "Epoch: [5 / 5], batches: [500 / 782], loss: 0.625, acc: 78.05\n",
      "Epoch: [5 / 5], batches: [600 / 782], loss: 0.606, acc: 78.95\n",
      "Epoch: [5 / 5], batches: [700 / 782], loss: 0.596, acc: 79.28\n",
      "Finished Training\n"
     ]
    }
   ],
   "source": [
    "'''\n",
    "Implement here\n",
    "'''\n",
    "train(bn_conv_net, trainloader, get_optimizer(bn_conv_net, 0.01), 5)\n"
   ]
  },
  {
   "cell_type": "markdown",
   "metadata": {},
   "source": [
    "## Test the CNN with BN\n",
    "\n",
    "Test this CNN on the test dataset."
   ]
  },
  {
   "cell_type": "code",
   "execution_count": 24,
   "metadata": {
    "jupyter": {
     "source_hidden": true
    },
    "tags": []
   },
   "outputs": [
    {
     "name": "stdout",
     "output_type": "stream",
     "text": [
      "Accuracy of the network on the 10000 test images: 73 %\n"
     ]
    }
   ],
   "source": [
    "'''\n",
    "Implement here\n",
    "'''\n",
    "test(bn_conv_net, testloader)\n"
   ]
  },
  {
   "cell_type": "markdown",
   "metadata": {},
   "source": [
    "## Accuracy (each class) of CNN with BN\n",
    "\n",
    "Test this CNN with BNN on the test dataset to see the accuracy of each class."
   ]
  },
  {
   "cell_type": "code",
   "execution_count": 25,
   "metadata": {
    "tags": []
   },
   "outputs": [
    {
     "name": "stdout",
     "output_type": "stream",
     "text": [
      "Accuracy for class plane is: 63.7 %\n",
      "Accuracy for class car   is: 85.4 %\n",
      "Accuracy for class bird  is: 68.7 %\n",
      "Accuracy for class cat   is: 47.6 %\n",
      "Accuracy for class deer  is: 82.5 %\n",
      "Accuracy for class dog   is: 61.7 %\n",
      "Accuracy for class frog  is: 85.8 %\n",
      "Accuracy for class horse is: 73.5 %\n",
      "Accuracy for class ship  is: 80.5 %\n",
      "Accuracy for class truck is: 82.1 %\n"
     ]
    }
   ],
   "source": [
    "'''\n",
    "Implement here, use the class_test function provided.\n",
    "'''\n",
    "class_test(bn_conv_net, testloader)\n"
   ]
  },
  {
   "cell_type": "markdown",
   "metadata": {},
   "source": [
    "## Design by yourself\n",
    "Now, based on the knowledge learned in class or by referring to online resources, you can design your own network architecture or incorporate other optimization methods to improve task performance. Please provide at least one improvement strategy."
   ]
  },
  {
   "cell_type": "code",
   "execution_count": 26,
   "metadata": {
    "tags": []
   },
   "outputs": [
    {
     "name": "stdout",
     "output_type": "stream",
     "text": [
      "Epoch: [1 / 5], batches: [100 / 782], loss: 2.156, acc: 28.47\n",
      "Epoch: [1 / 5], batches: [200 / 782], loss: 1.641, acc: 40.95\n",
      "Epoch: [1 / 5], batches: [300 / 782], loss: 1.403, acc: 48.91\n",
      "Epoch: [1 / 5], batches: [400 / 782], loss: 1.247, acc: 54.44\n",
      "Epoch: [1 / 5], batches: [500 / 782], loss: 1.159, acc: 58.47\n",
      "Epoch: [1 / 5], batches: [600 / 782], loss: 1.048, acc: 62.20\n",
      "Epoch: [1 / 5], batches: [700 / 782], loss: 0.984, acc: 65.56\n",
      "Epoch: [2 / 5], batches: [100 / 782], loss: 0.845, acc: 69.70\n",
      "Epoch: [2 / 5], batches: [200 / 782], loss: 0.805, acc: 72.50\n",
      "Epoch: [2 / 5], batches: [300 / 782], loss: 0.782, acc: 72.61\n",
      "Epoch: [2 / 5], batches: [400 / 782], loss: 0.731, acc: 74.41\n",
      "Epoch: [2 / 5], batches: [500 / 782], loss: 0.715, acc: 74.72\n",
      "Epoch: [2 / 5], batches: [600 / 782], loss: 0.693, acc: 75.83\n",
      "Epoch: [2 / 5], batches: [700 / 782], loss: 0.688, acc: 76.08\n",
      "Epoch: [3 / 5], batches: [100 / 782], loss: 0.528, acc: 81.45\n",
      "Epoch: [3 / 5], batches: [200 / 782], loss: 0.543, acc: 81.08\n",
      "Epoch: [3 / 5], batches: [300 / 782], loss: 0.539, acc: 81.11\n",
      "Epoch: [3 / 5], batches: [400 / 782], loss: 0.551, acc: 80.89\n",
      "Epoch: [3 / 5], batches: [500 / 782], loss: 0.524, acc: 81.69\n",
      "Epoch: [3 / 5], batches: [600 / 782], loss: 0.519, acc: 82.06\n",
      "Epoch: [3 / 5], batches: [700 / 782], loss: 0.514, acc: 82.44\n",
      "Epoch: [4 / 5], batches: [100 / 782], loss: 0.375, acc: 87.05\n",
      "Epoch: [4 / 5], batches: [200 / 782], loss: 0.387, acc: 86.67\n",
      "Epoch: [4 / 5], batches: [300 / 782], loss: 0.378, acc: 86.88\n",
      "Epoch: [4 / 5], batches: [400 / 782], loss: 0.379, acc: 86.77\n",
      "Epoch: [4 / 5], batches: [500 / 782], loss: 0.392, acc: 86.41\n",
      "Epoch: [4 / 5], batches: [600 / 782], loss: 0.386, acc: 86.39\n",
      "Epoch: [4 / 5], batches: [700 / 782], loss: 0.401, acc: 86.25\n",
      "Epoch: [5 / 5], batches: [100 / 782], loss: 0.269, acc: 91.11\n",
      "Epoch: [5 / 5], batches: [200 / 782], loss: 0.265, acc: 90.80\n",
      "Epoch: [5 / 5], batches: [300 / 782], loss: 0.250, acc: 91.25\n",
      "Epoch: [5 / 5], batches: [400 / 782], loss: 0.290, acc: 90.08\n",
      "Epoch: [5 / 5], batches: [500 / 782], loss: 0.278, acc: 90.28\n",
      "Epoch: [5 / 5], batches: [600 / 782], loss: 0.283, acc: 90.30\n",
      "Epoch: [5 / 5], batches: [700 / 782], loss: 0.292, acc: 89.86\n",
      "Finished Training\n",
      "Accuracy of the network on the 10000 test images: 81 %\n",
      "Accuracy for class plane is: 90.3 %\n",
      "Accuracy for class car   is: 90.3 %\n",
      "Accuracy for class bird  is: 68.5 %\n",
      "Accuracy for class cat   is: 78.6 %\n",
      "Accuracy for class deer  is: 82.4 %\n",
      "Accuracy for class dog   is: 64.1 %\n",
      "Accuracy for class frog  is: 79.9 %\n",
      "Accuracy for class horse is: 85.1 %\n",
      "Accuracy for class ship  is: 93.7 %\n",
      "Accuracy for class truck is: 81.0 %\n"
     ]
    }
   ],
   "source": [
    "'''\n",
    "Implement here\n",
    "'''\n",
    "class MyNet(nn.Module):\n",
    "    def __init__(self):\n",
    "        super().__init__()\n",
    "        '''\n",
    "        Implement here.\n",
    "        '''\n",
    "        # vanilla\n",
    "        # self.conv1 = nn.Conv2d(3,8,5,padding=2)\n",
    "        # self.conv2 = nn.Conv2d(8,16,5,padding=2,stride=2)\n",
    "        # self.conv3 = nn.Conv2d(16,32,5,padding=2)\n",
    "        # self.conv4 = nn.Conv2d(32,64,5,padding=2,stride=2)\n",
    "        # self.conv5 = nn.Conv2d(64,128,5,padding=2)\n",
    "        \n",
    "        # no extra stride\n",
    "        # self.conv1 = nn.Conv2d(3,8,5,padding=2)\n",
    "        # self.conv2 = nn.Conv2d(8,16,5,padding=2)\n",
    "        # self.conv3 = nn.Conv2d(16,32,5,padding=2)\n",
    "        # self.conv4 = nn.Conv2d(32,64,5,padding=2)\n",
    "        # self.conv5 = nn.Conv2d(64,128,5,padding=2)\n",
    "        \n",
    "        # extra serving\n",
    "        # self.conv6 = nn.Conv2d(128,256,5,padding=2,stride=2)\n",
    "        # self.conv7 = nn.Conv2d(256,512,5,padding=2)\n",
    "\n",
    "        # no bias\n",
    "        # self.conv1 = nn.Conv2d(3,8,5,padding=2,bias=False)\n",
    "        # self.conv2 = nn.Conv2d(8,16,5,padding=2,stride=2,bias=False)\n",
    "        # self.conv3 = nn.Conv2d(16,32,5,padding=2,bias=False)\n",
    "        # self.conv4 = nn.Conv2d(32,64,5,padding=2,stride=2,bias=False)\n",
    "        # self.conv5 = nn.Conv2d(64,128,5,padding=2,bias=False)\n",
    "\n",
    "        # tripling\n",
    "        # self.conv1 = nn.Conv2d(3,8,5,padding=2)\n",
    "        # self.conv2 = nn.Conv2d(8,24,5,padding=2,stride=2)\n",
    "        # self.conv3 = nn.Conv2d(24,72,5,padding=2)\n",
    "        # self.conv4 = nn.Conv2d(72,216,5,padding=2,stride=2)\n",
    "        # self.conv5 = nn.Conv2d(216,648,5,padding=2)\n",
    "        \n",
    "        # double first layer\n",
    "        # self.conv1 = nn.Conv2d(3,16,5,padding=2)\n",
    "        # self.conv2 = nn.Conv2d(16,32,5,padding=2,stride=2)\n",
    "        # self.conv3 = nn.Conv2d(32,64,5,padding=2)\n",
    "        # self.conv4 = nn.Conv2d(64,128,5,padding=2,stride=2)\n",
    "        # self.conv5 = nn.Conv2d(128,256,5,padding=2) \n",
    "        # self.conv6 = nn.Conv2d(256,512,5,padding=2) \n",
    "        # self.conv7 = nn.Conv2d(512,1024,5,padding=2)\n",
    "        \n",
    "        # quadruple first layer\n",
    "        # self.conv1 = nn.Conv2d(3,32,5,padding=2)\n",
    "        # self.conv2 = nn.Conv2d(32,64,5,padding=2,stride=2)\n",
    "        # self.conv3 = nn.Conv2d(64,128,5,padding=2)\n",
    "        # self.conv4 = nn.Conv2d(128,256,5,padding=2,stride=2)\n",
    "        # self.conv5 = nn.Conv2d(256,512,5,padding=2) \n",
    "        \n",
    "        # 7*7 filter\n",
    "        # self.conv1 = nn.Conv2d(3,8,7,padding=3)\n",
    "        # self.conv2 = nn.Conv2d(8,16,7,padding=3,stride=2)\n",
    "        # self.conv3 = nn.Conv2d(16,32,7,padding=3)\n",
    "        # self.conv4 = nn.Conv2d(32,64,7,padding=3,stride=2)\n",
    "        # self.conv5 = nn.Conv2d(64,128,7,padding=3)\n",
    "\n",
    "        # hail mary\n",
    "        # self.conv1 = nn.Conv2d(3,8,5,padding=2,bias=False)\n",
    "        # self.conv2 = nn.Conv2d(8,16,5,padding=2,bias=False)\n",
    "        # self.conv3 = nn.Conv2d(16,32,5,padding=2,bias=False)\n",
    "        # self.conv4 = nn.Conv2d(32,64,5,padding=2,bias=False)\n",
    "        # self.conv5 = nn.Conv2d(64,128,5,padding=2,bias=False) \n",
    "        \n",
    "        self.conv1 = nn.Conv2d(3,32,5,padding=2,bias=False)\n",
    "        self.conv2 = nn.Conv2d(32,64,5,padding=2,bias=False)\n",
    "        self.conv3 = nn.Conv2d(64,128,5,padding=2,bias=False)\n",
    "        self.conv4 = nn.Conv2d(128,256,5,padding=2,bias=False)\n",
    "        self.conv5 = nn.Conv2d(256,512,5,padding=2,bias=False)  \n",
    "\n",
    "        # self.conv6 = nn.Conv2d(256,512,5,padding=2,bias=False) \n",
    "        # self.conv7 = nn.Conv2d(512,1024,5,padding=2,bias=False) \n",
    "        \n",
    "\n",
    "        # Batch Normalisation\n",
    "        # self.bn1 = nn.BatchNorm2d(8)\n",
    "        # self.bn2 = nn.BatchNorm2d(16)\n",
    "        # self.bn3 = nn.BatchNorm2d(32)\n",
    "        # self.bn4 = nn.BatchNorm2d(64)\n",
    "        # self.bn5 = nn.BatchNorm2d(128)\n",
    "        \n",
    "        self.bn1 = nn.BatchNorm2d(32)\n",
    "        self.bn2 = nn.BatchNorm2d(64)\n",
    "        self.bn3 = nn.BatchNorm2d(128)\n",
    "        self.bn4 = nn.BatchNorm2d(256)\n",
    "        self.bn5 = nn.BatchNorm2d(512)\n",
    "\n",
    "        self.d = nn.Dropout(.2)\n",
    "        self.max5 = nn.MaxPool2d(5)\n",
    "        self.max3 = nn.MaxPool2d(3)\n",
    "        self.max2 = nn.MaxPool2d(2)\n",
    "        # self.avgpool = nn.AvgPool2d(5)\n",
    "        self.fc0 = nn.Linear(512, 128)\n",
    "        # self.fc1 = nn.Linear(128, 120)\n",
    "        self.fc1 = nn.Linear(128, 120)\n",
    "        # self.fc1 = nn.Linear(2048, 120)\n",
    "        self.fc2 = nn.Linear(120, 84)\n",
    "        self.fc3 = nn.Linear(84, 10)\n",
    "        self.fc = nn.Linear(512, 10)\n",
    "\n",
    "    def forward(self, x):\n",
    "        '''\n",
    "        Implement here\n",
    "        '''\n",
    "        # x = F.relu(self.conv1(x))\n",
    "        # x = F.relu(self.conv2(x))\n",
    "        # x = F.relu(self.max2(x))\n",
    "        # x = F.relu(self.conv3(x))\n",
    "        # x = F.relu(self.conv4(x))\n",
    "        # x = F.relu(self.max2(x))\n",
    "        # x = F.relu(self.conv5(x))\n",
    "        \n",
    "        x = F.relu(self.bn1(self.conv1(x)))\n",
    "        \n",
    "        x = F.relu(self.bn2(self.conv2(x)))\n",
    "        x = F.relu(self.max2(x))\n",
    "\n",
    "        x = F.relu(self.bn3(self.conv3(x)))\n",
    "        x = F.relu(self.bn4(self.conv4(x)))\n",
    "        x = F.relu(self.max2(x))\n",
    "        x = F.relu(self.bn5(self.conv5(x)))\n",
    "        # x=self.d(x)\n",
    "        # x = F.relu(self.bn6(self.conv6(x)))\n",
    "        \n",
    "        # x = self.bn7(self.conv7(x))\n",
    "        # x = self.bn6(self.conv5(x))\n",
    "\n",
    "\n",
    "        x = F.relu(self.max5(x))\n",
    "\n",
    "        # x = F.relu(self.bn6(self.conv6(x)))\n",
    "        # x = F.relu(self.bn7(self.conv7(x)))\n",
    "        # x = self.bn6(self.conv5(x))\n",
    "        # x = F.relu(self.max2(x))\n",
    "\n",
    "\n",
    "        x = torch.flatten(x, 1)\n",
    "        # x = F.relu(self.fc1(x))\n",
    "        # x = F.relu(self.fc2(x))\n",
    "        # x = self.fc3(x)\n",
    "        # x = F.relu(self.fc0(x))\n",
    "        x = self.fc(x)\n",
    "        # x = self.fc1(x)\n",
    "        return x\n",
    "\n",
    "my_net = MyNet()\n",
    "train(my_net, trainloader, get_optimizer(my_net, 0.01), 5,writer=False)\n",
    "test(my_net, testloader)\n",
    "class_test(my_net, testloader)\n",
    "save_model(my_net,'./checkpoints/deliverable_net.pth')"
   ]
  },
  {
   "cell_type": "markdown",
   "metadata": {
    "tags": []
   },
   "source": [
    "#### Good Job! (slowly claps)"
   ]
  }
 ],
 "metadata": {
  "kernelspec": {
   "display_name": "kernel_for_pytorch",
   "language": "python",
   "name": "kernel_for_pytorch"
  },
  "language_info": {
   "codemirror_mode": {
    "name": "ipython",
    "version": 3
   },
   "file_extension": ".py",
   "mimetype": "text/x-python",
   "name": "python",
   "nbconvert_exporter": "python",
   "pygments_lexer": "ipython3",
   "version": "3.11.10"
  }
 },
 "nbformat": 4,
 "nbformat_minor": 4
}
